{
 "cells": [
  {
   "cell_type": "code",
   "execution_count": 2,
   "metadata": {
    "collapsed": false
   },
   "outputs": [
    {
     "name": "stderr",
     "output_type": "stream",
     "text": [
      "/Users/jennifer/Library/Python/2.7/lib/python/site-packages/IPython/config.py:13: ShimWarning: The `IPython.config` package has been deprecated. You should import from traitlets.config instead.\n",
      "  \"You should import from traitlets.config instead.\", ShimWarning)\n",
      "/Users/jennifer/Library/Python/2.7/lib/python/site-packages/IPython/utils/traitlets.py:5: UserWarning: IPython.utils.traitlets has moved to a top-level traitlets package.\n",
      "  warn(\"IPython.utils.traitlets has moved to a top-level traitlets package.\")\n"
     ]
    },
    {
     "data": {
      "text/plain": [
       "u'Connected: None@PS1.db'"
      ]
     },
     "execution_count": 2,
     "metadata": {},
     "output_type": "execute_result"
    }
   ],
   "source": [
    "%load_ext sql\n",
    "%sql sqlite:///PS1.db"
   ]
  },
  {
   "cell_type": "markdown",
   "metadata": {},
   "source": [
    "Problem Set 1\n",
    "=======\n",
    "\n",
    "\n",
    "### Instructions / Notes:\n",
    "\n",
    "**_Read these carefully_**\n",
    "\n",
    "* Run the top cell above to load the database `PS1.db` (make sure the actual database file, `PS1.db`, is in the same directory as this IPython notebook is running in)\n",
    "* Some of the problems involve _changing_ this database (e.g. deleting rows)- you can always re-download `PS1.db` or make a copy if you want to start fresh!\n",
    "* You **may** create new IPython notebook cells to use for e.g. testing, debugging, exploring, etc.- this is encouraged in fact!- **just make sure that your final answer for each question is _in its own cell_ and _clearly indicated_**\n",
    "* When you see `In [*]:` to the left of the cell you are executing, this means that the code / query is _running_.\n",
    "    * **If the cell is hanging- i.e. running for too long: To restart the SQL connection, you must restart the entire python kernel**\n",
    "    * To restart kernel using the menu bar: \"Kernel >> Restart >> Clear all outputs & restart\"), then re-execute the sql connection cell at top\n",
    "    * You will also need to restart the connection if you want to load a different version of the database file\n",
    "* Remember:\n",
    "    * `%sql [SQL]` is for _single line_ SQL queries\n",
    "    * `%%sql [SQL]` is for _multi line_ SQL queries\n",
    "* **See Piazza for submission instructions**\n",
    "* _Have fun!_"
   ]
  },
  {
   "cell_type": "markdown",
   "metadata": {},
   "source": [
    "Problem 1: Linear Algebra\n",
    "------------------------\n",
    "\n",
    "Two random 3x3 ($N=3$) matrices have been provided in tables `A` and `B`, having the following schema:\n",
    "> * `i INT`:   Row index\n",
    "> * `j INT`:   Column index\n",
    "> * `val INT`: Cell value\n",
    "\n",
    "**Note: all of your answers below _must_ work for any _square_ matrix sizes, i.e. any value of $N$**.\n",
    "\n",
    "Note how the matrices are represented- why do we choose this format?  Run the following queries to see the matrices in a nice format:"
   ]
  },
  {
   "cell_type": "code",
   "execution_count": null,
   "metadata": {
    "collapsed": false
   },
   "outputs": [],
   "source": [
    "%sql SELECT group_concat(val, \" , \") AS \"A\" FROM A GROUP BY i;"
   ]
  },
  {
   "cell_type": "code",
   "execution_count": null,
   "metadata": {
    "collapsed": false
   },
   "outputs": [],
   "source": [
    "%sql SELECT group_concat(val, \" , \") AS \"B\" FROM B GROUP BY i;"
   ]
  },
  {
   "cell_type": "markdown",
   "metadata": {},
   "source": [
    "### Part (a): Matrix transpose\n",
    "\n",
    "_Transposing_ a matrix $A$ is the operation of switching its rows with its columns- written $A^T$.  For example, if we have:\n",
    "\n",
    "$A=\\begin{bmatrix}a & b & c\\\\ d & e & f\\\\ g & h & i\\end{bmatrix}$\n",
    "\n",
    "Then:\n",
    "\n",
    "$A^T=\\begin{bmatrix}a & d & g\\\\ b & e & h\\\\ c & f & i\\end{bmatrix}$\n",
    "\n",
    "Write a _single SQL query_ to get the matrix transpose $A^T$ (in the same format as $A$- output tuples should be of format `(i,j,val)` where `i` is row, `j` is column, and the output is ordered by row then column index)\n",
    "\n",
    "Write your query here:"
   ]
  },
  {
   "cell_type": "code",
   "execution_count": null,
   "metadata": {
    "collapsed": false
   },
   "outputs": [],
   "source": [
    "%%sql\n",
    "SELECT A.j AS i, A.i AS j, A.val\n",
    "FROM A\n",
    "ORDER BY i, j"
   ]
  },
  {
   "cell_type": "code",
   "execution_count": null,
   "metadata": {
    "collapsed": false
   },
   "outputs": [],
   "source": [
    "\"\"\"\n",
    "Expected output below- don't re-evaluate this cell!\n",
    "\n",
    "NOTE: A valid answer must work for ALL inputs of the given type,\n",
    "not just this example.  I.e. do not hardcode around this answer / etc!\n",
    "\"\"\""
   ]
  },
  {
   "cell_type": "markdown",
   "metadata": {},
   "source": [
    "### Part (b): Dot product I\n",
    "\n",
    "The _dot product_ of two vectors\n",
    "\n",
    "$a = \\begin{bmatrix}a_1 & a_2 & \\dots & a_n\\end{bmatrix}$\n",
    "\n",
    "and\n",
    "\n",
    "$b = \\begin{bmatrix}b_1 & b_2 & \\dots & b_n\\end{bmatrix}$\n",
    "\n",
    "is\n",
    "\n",
    "$a\\cdot b = \\sum_{i=1}^n a_ib_i = a_1b_1 + a_2b_2 + \\dots + a_nb_n$\n",
    "\n",
    "Write a _single SQL query_ to take the dot product of the **second column of $A$** and the **third column of $B$.**\n",
    "\n",
    "Write your query here:"
   ]
  },
  {
   "cell_type": "code",
   "execution_count": null,
   "metadata": {
    "collapsed": false
   },
   "outputs": [],
   "source": [
    "%%sql\n",
    "SELECT SUM(A.val * B.val)\n",
    "FROM A, B\n",
    "WHERE A.j = 1 AND B.j = 2 AND A.i = B.i"
   ]
  },
  {
   "cell_type": "code",
   "execution_count": null,
   "metadata": {
    "collapsed": false
   },
   "outputs": [],
   "source": [
    "\"\"\"\n",
    "Expected output below- don't re-evaluate this cell!\n",
    "\n",
    "NOTE: A valid answer must work for ALL inputs of the given type,\n",
    "not just this example.  I.e. do not hardcode around this answer / etc!\n",
    "\"\"\""
   ]
  },
  {
   "cell_type": "markdown",
   "metadata": {},
   "source": [
    "### Part (c): Dot product II\n",
    "\n",
    "Write a _single SQL query_ to take the dot product of the **second _row_ of $A$** and the **third column of $B$.**\n",
    "\n",
    "Write your query here:"
   ]
  },
  {
   "cell_type": "code",
   "execution_count": null,
   "metadata": {
    "collapsed": false
   },
   "outputs": [],
   "source": [
    "%%sql\n",
    "SELECT SUM(A.val * B.val)\n",
    "FROM A, B\n",
    "WHERE A.i = 1 AND B.j = 2 AND A.j = B.i"
   ]
  },
  {
   "cell_type": "code",
   "execution_count": null,
   "metadata": {
    "collapsed": false
   },
   "outputs": [],
   "source": [
    "\"\"\"\n",
    "Expected output below- don't re-evaluate this cell!\n",
    "\n",
    "NOTE: A valid answer must work for ALL inputs of the given type,\n",
    "not just this example.  I.e. do not hardcode around this answer / etc!\n",
    "\"\"\""
   ]
  },
  {
   "cell_type": "markdown",
   "metadata": {},
   "source": [
    "### Part (d): Matrix multiplication\n",
    "\n",
    "The product of a matrix $A$ (having dimensions $n\\times m$) and a matrix $B$ (having dimensions $m\\times p$) is the matrix $C$ (of dimension $n\\times p$) having cell at row $i$ and column $j$ equal to:\n",
    "\n",
    "$C_{ij} = \\sum_{k=1}^m A_{ik}B_{kj}$\n",
    "\n",
    "In other words, to multiply two matrices, get each cell of the resulting matrix $C$, $C_{ij}$, by taking the _dot product_ of the $i$th row of $A$ and the $j$th column of $B$.\n",
    "\n",
    "Write a _single SQL query_ to get the matrix product of $A$ and $B$ (in the same format as $A$ and $B$).\n",
    "\n",
    "Write your query here:"
   ]
  },
  {
   "cell_type": "code",
   "execution_count": null,
   "metadata": {
    "collapsed": false
   },
   "outputs": [],
   "source": [
    "%%sql\n",
    "SELECT A.i, B.j, SUM(A.val * B.val) AS val\n",
    "FROM A, B\n",
    "WHERE A.j = B.i\n",
    "GROUP BY A.i, B.j"
   ]
  },
  {
   "cell_type": "code",
   "execution_count": null,
   "metadata": {
    "collapsed": false
   },
   "outputs": [],
   "source": [
    "\"\"\"\n",
    "Expected output below- don't re-evaluate this cell!\n",
    "\n",
    "NOTE: A valid answer must work for ALL inputs of the given type,\n",
    "not just this example.  I.e. do not hardcode around this answer / etc!\n",
    "\"\"\""
   ]
  },
  {
   "cell_type": "markdown",
   "metadata": {},
   "source": [
    "Problem 2: U.S. Hourly NOAA Precipitation dataset\n",
    "----------------------------------------------\n",
    "\n",
    "We've prepared and loaded a [public dataset](https://catalog.data.gov/dataset/u-s-hourly-precipitation-data) from the US NOAA (National Oceanic and Atmospheric Administration) of daily precipitation data from weather stations across CA from the month of Sep. 2013.  We'll use the `precipitation` table here, which has a simplified schema:\n",
    "\n",
    "> `station_id INT`\n",
    "\n",
    "> `day INT`\n",
    "\n",
    "> `precipitation INT`"
   ]
  },
  {
   "cell_type": "code",
   "execution_count": null,
   "metadata": {
    "collapsed": false
   },
   "outputs": [],
   "source": [
    "%sql SELECT * FROM precipitation LIMIT 3;"
   ]
  },
  {
   "cell_type": "markdown",
   "metadata": {},
   "source": [
    "### Part (a): State Champions\n",
    "\n",
    "Using a _single SQL query_, find all of the stations that had the highest daily precipitation (across all CA stations) on any given day **more than once**, and return the counts of how many \"best days\" they had in descending order.  Further requirements:\n",
    "* Use `GROUP BY`\n",
    "* Write the shortest possible SQL query to accomplish this\n",
    "* Return relation `(station_id, num_best_days)`\n",
    "\n",
    "*Hint: Make sure your query correctly handles ties!*\n",
    "\n",
    "Write your query here:"
   ]
  },
  {
   "cell_type": "code",
   "execution_count": null,
   "metadata": {
    "collapsed": false
   },
   "outputs": [],
   "source": [
    "%%sql\n",
    "SELECT p.station_id, COUNT(p.station_id) AS num_best_days\n",
    "FROM (\n",
    "    SELECT day, MAX(precipitation) AS precipitation\n",
    "    FROM precipitation\n",
    "    GROUP BY day\n",
    "    ) AS pmax, precipitation p\n",
    "WHERE p.day = pmax.day AND p.precipitation = pmax.precipitation\n",
    "GROUP BY station_id\n",
    "HAVING COUNT(p.station_id) > 1\n",
    "ORDER BY num_best_days DESC\n"
   ]
  },
  {
   "cell_type": "code",
   "execution_count": null,
   "metadata": {
    "collapsed": false
   },
   "outputs": [],
   "source": [
    "\"\"\"\n",
    "Expected output below- don't re-evaluate this cell!\n",
    "\n",
    "NOTE: A valid answer must work for ALL inputs of the given type,\n",
    "not just this example.  I.e. do not hardcode around this answer / etc!\n",
    "\"\"\""
   ]
  },
  {
   "cell_type": "markdown",
   "metadata": {},
   "source": [
    "### Part (b.i): Median value, Pt. I\n",
    "\n",
    "Our goal in this part is going to be to find the **median value** of a list of values.  We want to do this for the general case, however we'll start with a slightly simplified setting:\n",
    "\n",
    "Write a _single SQL query_ to find the median value of a certain attribute in a table, given that:\n",
    "* The table contains an odd number of rows\n",
    "* The values of this attribute are unique in the table (e.g. no two rows have the same value for this attribute)\n",
    "\n",
    "Also, **do not hard code the size of the table and/or use any `ORDER BY` clause.  Think about the definition of median!**\n",
    "\n",
    "Let's test using the table $X$, constructed out of the distinct precipitation values of all stations on all days, having one attribute $p$:"
   ]
  },
  {
   "cell_type": "code",
   "execution_count": null,
   "metadata": {
    "collapsed": false
   },
   "outputs": [],
   "source": [
    "%%sql\n",
    "DROP TABLE IF EXISTS X;\n",
    "CREATE TABLE X AS SELECT DISTINCT precipitation AS p FROM precipitation;\n",
    "SELECT COUNT(*) FROM X;"
   ]
  },
  {
   "cell_type": "markdown",
   "metadata": {},
   "source": [
    "Write your query here:"
   ]
  },
  {
   "cell_type": "code",
   "execution_count": null,
   "metadata": {
    "collapsed": false
   },
   "outputs": [],
   "source": [
    "%%sql\n",
    "SELECT x1.p AS median\n",
    "FROM X AS x1\n",
    "WHERE (SELECT COUNT(*) FROM X AS x2 WHERE x1.p > x2.p) \n",
    "     =\n",
    "      (SELECT COUNT(*) FROM X AS x2 WHERE x1.p < x2.p)"
   ]
  },
  {
   "cell_type": "code",
   "execution_count": null,
   "metadata": {
    "collapsed": false
   },
   "outputs": [],
   "source": [
    "\"\"\"\n",
    "Expected output below- don't re-evaluate this cell!\n",
    "\n",
    "NOTE: A valid answer must work for ALL inputs of the given type,\n",
    "not just this example.  I.e. do not hardcode around this answer / etc!\n",
    "\"\"\""
   ]
  },
  {
   "cell_type": "markdown",
   "metadata": {},
   "source": [
    "### Part (b.ii): Median value, Pt. II\n",
    "\n",
    "Now, we want to find the median precipitation value across all days for a station `376101`.  **However to get credit, your query must work for ALL stations- test it on some others to be certain it's correct!**\n",
    "\n",
    "Write a _single SQL query_ to find the median.  Again, do not hardcode the size of any table and/or use any `ORDER BY` clause.\n",
    "\n",
    "Note that now:\n",
    "* The number of rows can be even\n",
    "* The values can have duplicates\n",
    "\n",
    "Also note that we will use the definition of _median_ where ties (e.g. when there are an even number of rows) are broken by averaging.  Write your query here:"
   ]
  },
  {
   "cell_type": "code",
   "execution_count": null,
   "metadata": {
    "collapsed": false
   },
   "outputs": [],
   "source": [
    "%%sql\n",
    "-- Wrong answer, note that there are duplicates\n",
    "SELECT p1.precipitation\n",
    "FROM precipitation p1\n",
    "WHERE p1.station_id = 376101 \n",
    "    AND (SELECT COUNT(*) \n",
    "         FROM precipitation AS p2 \n",
    "         WHERE p2.station_id = 376101 AND p1.precipitation >= p2.precipitation)\n",
    "        >=\n",
    "        (SELECT COUNT(*) \n",
    "         FROM precipitation AS p2 \n",
    "         WHERE p2.station_id = 376101 AND p1.precipitation < p2.precipitation)\n",
    "    AND (SELECT COUNT(*) \n",
    "         FROM precipitation AS p2 \n",
    "         WHERE p2.station_id = 376101 AND p1.precipitation > p2.precipitation)\n",
    "        <=\n",
    "        (SELECT COUNT(*) \n",
    "         FROM precipitation AS p2\n",
    "         WHERE p2.station_id = 376101 AND p1.precipitation <= p2.precipitation)\n"
   ]
  },
  {
   "cell_type": "code",
   "execution_count": null,
   "metadata": {
    "collapsed": false
   },
   "outputs": [],
   "source": [
    "%%sql\n",
    "SELECT AVG(p.precipitation)\n",
    "FROM (\n",
    "    SELECT p1.precipitation\n",
    "    FROM precipitation AS p1\n",
    "    WHERE p1.station_id = 376101 \n",
    "        AND (SELECT COUNT(*) \n",
    "             FROM precipitation AS p2 \n",
    "             WHERE p2.station_id = 376101 AND p1.precipitation >= p2.precipitation)\n",
    "            >=\n",
    "            (SELECT COUNT(*) \n",
    "             FROM precipitation AS p2 \n",
    "             WHERE p2.station_id = 376101 AND p1.precipitation < p2.precipitation)\n",
    "        AND (SELECT COUNT(*) \n",
    "             FROM precipitation AS p2 \n",
    "             WHERE p2.station_id = 376101 AND p1.precipitation > p2.precipitation)\n",
    "            <=\n",
    "            (SELECT COUNT(*) \n",
    "             FROM precipitation AS p2\n",
    "             WHERE p2.station_id = 376101 AND p1.precipitation <= p2.precipitation)\n",
    "    GROUP BY precipitation\n",
    "    ) AS p\n"
   ]
  },
  {
   "cell_type": "code",
   "execution_count": null,
   "metadata": {
    "collapsed": false
   },
   "outputs": [],
   "source": [
    "\"\"\"\n",
    "Expected output below- don't re-evaluate this cell!\n",
    "\n",
    "NOTE: A valid answer must work for ALL inputs of the given type,\n",
    "not just this example.  I.e. do not hardcode around this answer / etc!\n",
    "\"\"\""
   ]
  },
  {
   "cell_type": "markdown",
   "metadata": {},
   "source": [
    "### Part (c):\n",
    "\n",
    "Write a _single SQL query_ to find stations in CA which had a _smallest rainy day precipitation value_ (i.e. smallest non-zero `precipitation`) that was **within 400** of the _largest overall precipitation value_ (across all stations & all days).  Return tuples of type `(station_id, min_rainy_day_precip)`.\n",
    "\n",
    "*Note: do not hard-code the maximum daily precipitation value, or any other values.*\n",
    "\n",
    "**Do this using `GROUP BY` and aggregate functions (e.g. `COUNT`, `SUM`, `MAX`, `MIN`)**.  Write your query here:"
   ]
  },
  {
   "cell_type": "code",
   "execution_count": null,
   "metadata": {
    "collapsed": false
   },
   "outputs": [],
   "source": [
    "%%sql\n",
    "SELECT p1.station_id, p1.min_daily\n",
    "FROM (\n",
    "    SELECT station_id, MIN(precipitation) AS min_daily\n",
    "    FROM precipitation AS p\n",
    "    WHERE p.precipitation > 0\n",
    "    GROUP BY p.station_id\n",
    "    ) AS p1\n",
    "WHERE p1.min_daily > (SELECT MAX(precipitation) FROM precipitation) - 400"
   ]
  },
  {
   "cell_type": "code",
   "execution_count": null,
   "metadata": {
    "collapsed": false
   },
   "outputs": [],
   "source": [
    "\"\"\"\n",
    "Expected output below- don't re-evaluate this cell!\n",
    "\n",
    "NOTE: A valid answer must work for ALL inputs of the given type,\n",
    "not just this example.  I.e. do not hardcode around this answer / etc!\n",
    "\"\"\""
   ]
  },
  {
   "cell_type": "markdown",
   "metadata": {},
   "source": [
    "### Part (d):\n",
    "\n",
    "Do the same as above, except do **not** use `GROUP BY` or any aggregate functions.  Write your query here:"
   ]
  },
  {
   "cell_type": "code",
   "execution_count": null,
   "metadata": {
    "collapsed": false
   },
   "outputs": [],
   "source": [
    "%%sql\n",
    "SELECT p.station_id, p.min_daily\n",
    "FROM (\n",
    "    SELECT p1.station_id, p1.precipitation AS min_daily\n",
    "    FROM precipitation p1\n",
    "    WHERE p1.precipitation > 0 AND\n",
    "        NOT EXISTS (\n",
    "            SELECT p2.precipitation\n",
    "            FROM precipitation p2 \n",
    "            WHERE p2.station_id = p1.station_id \n",
    "                AND p2.precipitation < p1.precipitation\n",
    "                AND p2.precipitation > 0\n",
    "        )\n",
    "    ) AS p\n",
    "WHERE NOT EXISTS (\n",
    "    SELECT *\n",
    "    FROM precipitation p3\n",
    "    WHERE p.min_daily + 400 < p3.precipitation \n",
    "    ) "
   ]
  },
  {
   "cell_type": "code",
   "execution_count": null,
   "metadata": {
    "collapsed": false
   },
   "outputs": [],
   "source": [
    "\"\"\"\n",
    "Expected output below- don't re-evaluate this cell!\n",
    "\n",
    "NOTE: A valid answer must work for ALL inputs of the given type,\n",
    "not just this example.  I.e. do not hardcode around this answer / etc!\n",
    "\"\"\""
   ]
  },
  {
   "cell_type": "markdown",
   "metadata": {},
   "source": [
    "Problem 3: The Traveling SQL Server Salesman Problem\n",
    "--------------------------------------------------\n",
    "\n",
    "SQL Server salespeople are lucky as far as traveling salespeople go- they only have to sell one or two big enterprise contracts, at one or two offices in Silicon Valley, in order to make their monthly quota!\n",
    "\n",
    "Answer the following questions using the table of streets connecting company office buildings.\n",
    "\n",
    "**Note that for convenience all streets are included _twice_, as $A \\rightarrow B$ and $B \\rightarrow A$.  This should make some parts of the problem easier, but remember to take it into account!**"
   ]
  },
  {
   "cell_type": "code",
   "execution_count": null,
   "metadata": {
    "collapsed": false
   },
   "outputs": [],
   "source": [
    "%sql SELECT * FROM streets LIMIT 4;"
   ]
  },
  {
   "cell_type": "markdown",
   "metadata": {},
   "source": [
    "### Part (a): One-hop, two-hop, three-hop...\n",
    "\n",
    "Our salesperson has stopped at Stanford, to steal some cool new RDBMS technology from CS145-ers, and now wants to go sell it to a company _within 10 miles of Stanford_ and _passing through no more than 3 distinct streets_.  Write a single query, not using `WITH` (see later on), to find all such companies.\n",
    "\n",
    "Your query should return tuples `(company, distance)` where distance is cumulative from Stanford.\n",
    "\n",
    "Write your query here:"
   ]
  },
  {
   "cell_type": "code",
   "execution_count": null,
   "metadata": {
    "collapsed": false
   },
   "outputs": [],
   "source": [
    "%%sql\n",
    "-- Not the best way\n",
    "SELECT B, d\n",
    "FROM streets\n",
    "WHERE A = 'Stanford'\n",
    "AND d < 10\n",
    "UNION\n",
    "SELECT e.B, (e.d + s.d)\n",
    "FROM streets AS e,\n",
    "    (SELECT A, B, d\n",
    "    FROM streets\n",
    "    WHERE A = 'Stanford'\n",
    "    AND d < 10\n",
    "    ) AS s\n",
    "WHERE s.B = e.A AND (e.d + s.d) < 10\n",
    "-- UNION\n",
    "-- ..."
   ]
  },
  {
   "cell_type": "code",
   "execution_count": null,
   "metadata": {
    "collapsed": false
   },
   "outputs": [],
   "source": [
    "%%sql\n",
    "SELECT B AS company, d AS distance\n",
    "FROM (\n",
    "    SELECT s1.B, s1.d FROM streets AS s1 WHERE s1.d <= 10 AND s1.A = 'Stanford'\n",
    "    UNION\n",
    "    SELECT s2.B, (s2.d + s1.d) AS d FROM streets s1, streets s2 WHERE (s2.d + s1.d) <= 10\n",
    "        AND s1.A = 'Stanford' AND s1.B = s2.A AND s2.B <> s1.A\n",
    "    UNION\n",
    "    SELECT s3.B, (s2.d + s1.d + s3.d) AS d FROM streets s1, streets s2, streets s3\n",
    "        WHERE (s2.d + s1.d + s3.d) <= 10 AND s1.A = 'Stanford' AND s1.B = s2.A AND s2.B = s3.A\n",
    "        AND s2.B <> s1.A AND s3.B <> s2.A AND s3.B <> s1.A\n",
    ")"
   ]
  },
  {
   "cell_type": "code",
   "execution_count": null,
   "metadata": {
    "collapsed": false
   },
   "outputs": [],
   "source": [
    "\"\"\"\n",
    "Expected output below- don't re-evaluate this cell!\n",
    "\n",
    "NOTE: A valid answer must work for ALL inputs of the given type,\n",
    "not just this example.  I.e. do not hardcode around this answer / etc!\n",
    "\"\"\""
   ]
  },
  {
   "cell_type": "markdown",
   "metadata": {},
   "source": [
    "### Part (b): A stop at the Farm\n",
    "\n",
    "Now, our salesperson is out in the field, and wants to see all routes- and their distances- which will take him/her from a company $A$ to a company $B$, with the following constraints:\n",
    "* The route must _pass through Stanford_ (in order to pick up new RDBMS tech to sell!)\n",
    "* $A$ and $B$ must _each individually_ be _within 3 hops of Stanford_\n",
    "* $A$ and $B$ must be different companies\n",
    "* _The total distance must be $<= 15$_\n",
    "* Do not use `WITH`\n",
    "* If you return a path $A \\rightarrow B$, _also include $B \\rightarrow A$ in your answer_\n",
    "\n",
    "In order to make your answer a bit cleaner, you may split into two queries, one of which creates a `VIEW`.  A view is a virtual table based on the output set of a SQL query.  A view can be used just like a normal table- the only difference under the hood is that the DBMS re-evaluates the query used to generate it each time a view is queried by a user (thus the data is always up-to date!)\n",
    "\n",
    "Here's a simple example of a view:"
   ]
  },
  {
   "cell_type": "code",
   "execution_count": null,
   "metadata": {
    "collapsed": false
   },
   "outputs": [],
   "source": [
    "%%sql \n",
    "DROP VIEW IF EXISTS short_streets;\n",
    "CREATE VIEW short_streets AS \n",
    "SELECT A, B, d FROM streets WHERE d < 3;\n",
    "SELECT * FROM short_streets LIMIT 3;"
   ]
  },
  {
   "cell_type": "markdown",
   "metadata": {},
   "source": [
    "Write your query or queries here:"
   ]
  },
  {
   "cell_type": "code",
   "execution_count": null,
   "metadata": {
    "collapsed": false
   },
   "outputs": [],
   "source": [
    "%%sql\n",
    "DROP VIEW IF EXISTS non_cyclic_distance;\n",
    "CREATE VIEW non_cyclic_distance AS\n",
    "SELECT s1.A, s1.B, s1.d AS dist\n",
    "FROM streets s1\n",
    "UNION\n",
    "SELECT s1.A, s2.B, (s1.d + s2.d) AS dist\n",
    "FROM streets s1, streets s2\n",
    "WHERE s1.B = s2.A AND s2.B <> s1.A \n",
    "UNION\n",
    "SELECT s1.A, s3.B, (s1.d + s2.d + s3.d) AS dist\n",
    "FROM streets s1, streets s2, streets s3\n",
    "WHERE s1.B = s2.A AND s2.B = s3.A AND s2.B <> s1.A AND s3.B <> s2.A AND s3.B <> s1.A;\n",
    "\n",
    "SELECT d1.B AS company_1, d2.B AS company_2, MIN(d1.dist + d2.dist) as distance\n",
    "FROM non_cyclic_distance d1, non_cyclic_distance d2\n",
    "WHERE d1.A = 'Stanford' AND d2.A = 'Stanford' AND d1.B <> d2.B\n",
    "GROUP BY d1.B, d2.B\n",
    "HAVING distance <= 15 -- interesting!"
   ]
  },
  {
   "cell_type": "code",
   "execution_count": null,
   "metadata": {
    "collapsed": false
   },
   "outputs": [],
   "source": [
    "\"\"\"\n",
    "Expected output below- don't re-evaluate this cell!\n",
    "\n",
    "NOTE: A valid answer must work for ALL inputs of the given type,\n",
    "not just this example.  I.e. do not hardcode around this answer / etc!\n",
    "\"\"\""
   ]
  },
  {
   "cell_type": "markdown",
   "metadata": {},
   "source": [
    "### Part (c): Ensuring acyclicity\n",
    "\n",
    "You may have noticed at this point that the network, or **_graph_**, of streets in our `streets` table seems like it might be a **tree**.\n",
    "\n",
    "Recall that a **_tree_** is an undirected graph where each node has exactly one parent (or, is the root, and has none), but may have multiple children.  A slightly more formal definition of a tree is as follows: \n",
    "\n",
    "> An undirected graph $T$ is a **_tree_** if it is **connected**- meaning that there is a path between every pair of nodes- and has no **cycles** (informally, closed loops)\n",
    "\n",
    "Suppose that we guarantee the following about the graph of companies & streets determined by the `streets` table:\n",
    "* It is _connected_\n",
    "* It has no cycles of length $> 3$\n",
    "\n",
    "Write a _single SQL query_ which, if our graph is not a tree (i.e. if this isn't a [shaggy dog problem](https://en.wikipedia.org/wiki/Shaggy_dog_story)), **turns it into a tree** by deleting exactly _one_ street (*= two entries in our table!*).  Write your query here:"
   ]
  },
  {
   "cell_type": "code",
   "execution_count": null,
   "metadata": {
    "collapsed": false
   },
   "outputs": [],
   "source": [
    "%reload_ext sql\n",
    "%sql sqlite:///PS1.db"
   ]
  },
  {
   "cell_type": "code",
   "execution_count": null,
   "metadata": {
    "collapsed": false
   },
   "outputs": [],
   "source": [
    "%%sql\n",
    "DELETE FROM streets\n",
    "WHERE id IN\n",
    "(\n",
    "    SELECT s1.id\n",
    "    FROM streets s1, streets s2, streets s3\n",
    "    WHERE s1.B = s2.A AND s2.B = s3.A AND s3.B = s1.A\n",
    "    LIMIT 1 -- Because these three companies form a cycle\n",
    ");"
   ]
  },
  {
   "cell_type": "code",
   "execution_count": null,
   "metadata": {
    "collapsed": false
   },
   "outputs": [],
   "source": [
    "\"\"\"\n",
    "Expected output below- don't re-evaluate this cell!\n",
    "\n",
    "NOTE: A valid answer must work for ALL inputs of the given type,\n",
    "not just this example.  I.e. do not hardcode around this answer / etc!\n",
    "\"\"\""
   ]
  },
  {
   "cell_type": "markdown",
   "metadata": {},
   "source": [
    "### Part (d): The longest path\n",
    "\n",
    "In this part, we want to find the distance of the _longest path between any two companies_.\n",
    "\n",
    "Note that you should probably have done Part (c) first so that the graph of streets is a _tree_- this will make it much easier to work with!\n",
    "\n",
    "If you've done the other parts above, you might be skeptical that SQL can find paths of arbitrary lengths (which is what we need to do for this problem); how can we do this?\n",
    "\n",
    "There are some non-standard SQL functions- i.e. not universally supported by all SQL DBMSs- which are often incredibly useful.  One of these is the `WITH RECURSIVE` clause, supported by SQLite.\n",
    "\n",
    "A `WITH` clause lets you define what is essentially a view within a clause, mainly to clean up your SQL code.  A trivial example, to illustrate `WITH`:"
   ]
  },
  {
   "cell_type": "code",
   "execution_count": null,
   "metadata": {
    "collapsed": false
   },
   "outputs": [],
   "source": [
    "%%sql\n",
    "WITH companies(name) AS (\n",
    "    SELECT DISTINCT A FROM streets)\n",
    "SELECT * \n",
    "FROM companies \n",
    "WHERE name LIKE '%Gizmo%';"
   ]
  },
  {
   "cell_type": "markdown",
   "metadata": {},
   "source": [
    "There is also a recursive variant, `WITH RECURSIVE`.  `WITH RECURSIVE` allows you to define a view just as above, except the table can be defined recursively.  A `WITH RECURSIVE` clause must be of the following form:\n",
    "\n",
    "```\n",
    "WITH RECURSIVE \n",
    "    R(...) AS (\n",
    "        SELECT ... \n",
    "        UNION [ALL] \n",
    "        SELECT ... FROM R, ...\n",
    "    )\n",
    "...\n",
    "```\n",
    "\n",
    "`R` is the _recursive table_.  The `AS` clause contains two `SELECT` statements, conjoined by a `UNION` or `UNION ALL`; the first `SELECT` statement provides the initial / base case values, and the second or _recursive_ `SELECT` statement must include the recursive table in its `FROM` clause.\n",
    "\n",
    "Basically, the recursive `SELECT` statement continues executing on the tuple _most recently inserted into `R`_, inserting output rows back into `R`, and proceeding recursively in this way, until it no longer outputs any rows, and then stops.  See the [SQLite documentation](https://www.sqlite.org/lang_with.html) for more detail.\n",
    "\n",
    "The following example computes $5! = 5*4*3*2*1$ using `WITH RECURSIVE`:"
   ]
  },
  {
   "cell_type": "code",
   "execution_count": null,
   "metadata": {
    "collapsed": false
   },
   "outputs": [],
   "source": [
    "%%sql\n",
    "WITH RECURSIVE\n",
    "    factorials(n,x) AS (\n",
    "        SELECT 1, 1\n",
    "        UNION\n",
    "        SELECT n+1, (n+1)*x FROM factorials WHERE n < 5)\n",
    "SELECT x FROM factorials WHERE n = 5;"
   ]
  },
  {
   "cell_type": "markdown",
   "metadata": {},
   "source": [
    "In this example:\n",
    "\n",
    "1. First, `(1,1)` is inserted into the table `factorials` (the base case).\n",
    "2. Next, this tuple is returned by the recursive select, as `(n, x)`, and we insert the result back into `factorials`: `(1+1, (1+1)*1) = (2,2)`\n",
    "3. Next, we do the same with the last tuple inserted into `factorials`- `(2,2)`- and insert `(2+1, (2+1)*2) = (3,6)`\n",
    "4. And again: get `(3,6)` from `factorials` and insert `(3+1, (3+1)*6) = (4,24)` back in\n",
    "5. And again: `(4,24)` -> `(4+1, (4+1)*24) = (5,120)`\n",
    "6. Now the last tuple inserted into `factorials` is `(5, 120)`, which fails the `WHERE n < 5` clause, and thus our recursive select returns an empty set, and our `WITH RECURSIVE` statement concludes\n",
    "7. Finally, now that our `WITH RECURSIVE` clause has concluded, we move on to the `SELECT x FROM factorials WHERE n=5` clause, which gets us our answer!"
   ]
  },
  {
   "cell_type": "markdown",
   "metadata": {},
   "source": [
    "#### Now, your turn!\n",
    "\n",
    "Write a single SQL query that uses `WITH RECURSIVE` to find the furthest (by distance) pair of companies that still have a path of streets connecting them.  Your query should return `(A, B, distance)`.\n",
    "\n",
    "Write your query here:"
   ]
  },
  {
   "cell_type": "code",
   "execution_count": 4,
   "metadata": {
    "collapsed": false
   },
   "outputs": [
    {
     "name": "stdout",
     "output_type": "stream",
     "text": [
      "Done.\n"
     ]
    },
    {
     "data": {
      "text/html": [
       "<table>\n",
       "    <tr>\n",
       "        <th>A</th>\n",
       "        <th>B</th>\n",
       "        <th>A_1</th>\n",
       "        <th>d</th>\n",
       "    </tr>\n",
       "    <tr>\n",
       "        <td>Stanford</td>\n",
       "        <td>DooHickey Collective</td>\n",
       "        <td>Stanford</td>\n",
       "        <td>7</td>\n",
       "    </tr>\n",
       "</table>"
      ],
      "text/plain": [
       "[(u'Stanford', u'DooHickey Collective', u'Stanford', 7)]"
      ]
     },
     "execution_count": 4,
     "metadata": {},
     "output_type": "execute_result"
    }
   ],
   "source": [
    "%%sql\n",
    "SELECT A, B, A, d\n",
    "FROM streets\n",
    "LIMIT 1"
   ]
  },
  {
   "cell_type": "code",
   "execution_count": 7,
   "metadata": {
    "collapsed": false
   },
   "outputs": [
    {
     "name": "stdout",
     "output_type": "stream",
     "text": [
      "Done.\n"
     ]
    },
    {
     "data": {
      "text/html": [
       "<table>\n",
       "    <tr>\n",
       "        <th>A</th>\n",
       "        <th>B</th>\n",
       "        <th>MAX(d)</th>\n",
       "    </tr>\n",
       "    <tr>\n",
       "        <td>GadgetWorks</td>\n",
       "        <td>ThingWorks</td>\n",
       "        <td>63</td>\n",
       "    </tr>\n",
       "</table>"
      ],
      "text/plain": [
       "[(u'GadgetWorks', u'ThingWorks', 63)]"
      ]
     },
     "execution_count": 7,
     "metadata": {},
     "output_type": "execute_result"
    }
   ],
   "source": [
    "%%sql\n",
    "WITH RECURSIVE\n",
    "    paths(A, B, prev, d) AS (\n",
    "        SELECT A, B, A, d\n",
    "        FROM streets\n",
    "        UNION ALL\n",
    "        SELECT p.A, s.B, s.A, s.d + p.d\n",
    "        FROM streets s, paths p\n",
    "        WHERE p.B = s.A AND s.B <> p.A AND s.b <> p.prev\n",
    "    )\n",
    "SELECT A, B, MAX(d) FROM paths;"
   ]
  },
  {
   "cell_type": "code",
   "execution_count": null,
   "metadata": {
    "collapsed": false
   },
   "outputs": [],
   "source": [
    "\"\"\"\n",
    "Expected output below- don't re-evaluate this cell!\n",
    "\n",
    "NOTE: A valid answer must work for ALL inputs of the given type,\n",
    "not just this example.  I.e. do not hardcode around this answer / etc!\n",
    "\"\"\""
   ]
  },
  {
   "cell_type": "markdown",
   "metadata": {},
   "source": [
    "### Note on alternate output\n",
    "\n",
    "**NOTE:** The **_distance_** of the longest path could be **49 _OR_ 63** depending on which street you deleted in Part (c)!"
   ]
  },
  {
   "cell_type": "markdown",
   "metadata": {},
   "source": [
    "### Bonus Problem 1: The longest path, Pt. II\n",
    "\n",
    "Using `WITH RECURSIVE` may be a little tricky syntactically, but it is quite elegant.  What would alternatives look like?  We already know we can't do it with non-recursive SQL.\n",
    "\n",
    "For this problem, **use SQL _and_ Python** to find the longest path (by cumulative distance) between two companies in the streets graph, **without using a `WITH` clause**, again returning a single tuple of the form `(A, B, distance)`.\n",
    "\n",
    "_Note: Be careful of trivial cycles in the graph!  Especially if you write recursive functions in your python code, note that IPython handles hitting the max recursion depth pretty poorly (i.e. crashes / freezes up).  You can debug in a normal terminal first if this is a concern._\n",
    "\n",
    "Write your code / queries here:"
   ]
  },
  {
   "cell_type": "code",
   "execution_count": null,
   "metadata": {
    "collapsed": false
   },
   "outputs": [],
   "source": [
    "\"\"\"\n",
    "Expected output below- don't re-evaluate this cell!\n",
    "\n",
    "NOTE: A valid answer must work for ALL inputs of the given type,\n",
    "not just this example.  I.e. do not hardcode around this answer / etc!\n",
    "\"\"\""
   ]
  },
  {
   "cell_type": "markdown",
   "metadata": {},
   "source": [
    "### Note on alternate output\n",
    "\n",
    "**NOTE:** The **_distance_** of the longest path could be **49 _OR_ 63** depending on which street you deleted in Part (c)!"
   ]
  },
  {
   "cell_type": "markdown",
   "metadata": {},
   "source": [
    "Bonus Problem 2: How many cooks?\n",
    "-------------------------------\n",
    "\n",
    "What does the following query get you?  Think about it before you execute it!"
   ]
  },
  {
   "cell_type": "code",
   "execution_count": null,
   "metadata": {
    "collapsed": false
   },
   "outputs": [],
   "source": [
    "%%sql\n",
    "WITH RECURSIVE\n",
    "    cooks(x) AS (SELECT 1 UNION ALL SELECT x+1 FROM cooks)\n",
    "SELECT x FROM cooks;"
   ]
  },
  {
   "cell_type": "markdown",
   "metadata": {},
   "source": [
    "[Hint](https://www.youtube.com/watch?v=QrGrOK8oZG8)"
   ]
  }
 ],
 "metadata": {
  "kernelspec": {
   "display_name": "Python 2",
   "language": "python",
   "name": "python2"
  },
  "language_info": {
   "codemirror_mode": {
    "name": "ipython",
    "version": 2
   },
   "file_extension": ".py",
   "mimetype": "text/x-python",
   "name": "python",
   "nbconvert_exporter": "python",
   "pygments_lexer": "ipython2",
   "version": "2.7.10"
  }
 },
 "nbformat": 4,
 "nbformat_minor": 0
}
