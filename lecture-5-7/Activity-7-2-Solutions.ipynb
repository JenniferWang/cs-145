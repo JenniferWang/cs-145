{
 "cells": [
  {
   "cell_type": "markdown",
   "metadata": {},
   "source": [
    "Activity 7-2\n",
    "------------\n",
    "\n",
    "First we'll load some data, some tools from last time, and some utilities for nicer displaying (of tables side-by-side):"
   ]
  },
  {
   "cell_type": "code",
   "execution_count": 1,
   "metadata": {
    "collapsed": false
   },
   "outputs": [
    {
     "name": "stderr",
     "output_type": "stream",
     "text": [
      "/Library/Python/2.7/site-packages/IPython/config.py:13: ShimWarning: The `IPython.config` package has been deprecated. You should import from traitlets.config instead.\n",
      "  \"You should import from traitlets.config instead.\", ShimWarning)\n",
      "/Library/Python/2.7/site-packages/IPython/utils/traitlets.py:5: UserWarning: IPython.utils.traitlets has moved to a top-level traitlets package.\n",
      "  warn(\"IPython.utils.traitlets has moved to a top-level traitlets package.\")\n"
     ]
    },
    {
     "data": {
      "text/plain": [
       "'Connected: None@None'"
      ]
     },
     "execution_count": 1,
     "metadata": {},
     "output_type": "execute_result"
    }
   ],
   "source": [
    "%load_ext sql\n",
    "%sql sqlite://"
   ]
  },
  {
   "cell_type": "code",
   "execution_count": 14,
   "metadata": {
    "collapsed": false
   },
   "outputs": [
    {
     "name": "stdout",
     "output_type": "stream",
     "text": [
      "Done.\n",
      "Done.\n",
      "1 rows affected.\n",
      "1 rows affected.\n",
      "1 rows affected.\n"
     ]
    },
    {
     "data": {
      "text/plain": [
       "[]"
      ]
     },
     "execution_count": 14,
     "metadata": {},
     "output_type": "execute_result"
    }
   ],
   "source": [
    "%%sql\n",
    "DROP TABLE IF EXISTS Player;\n",
    "CREATE TABLE Player(uniform_number INT, team TEXT, position TEXT, first_name TEXT, last_name TEXT);\n",
    "INSERT INTO Player VALUES (1, 'Stanford', 'WR', 'Bob', 'Jones');\n",
    "INSERT INTO Player VALUES (2, 'Stanford', 'RB', 'Joe', 'Bobson');\n",
    "INSERT INTO Player VALUES (1, 'UCLA', 'WR', 'Bob', 'Roberts');"
   ]
  },
  {
   "cell_type": "code",
   "execution_count": 20,
   "metadata": {
    "collapsed": true
   },
   "outputs": [],
   "source": [
    "from IPython.core.display import display_html, HTML\n",
    "def to_html_table(res, style=None):\n",
    "    html = '<table' + (' style=\"' + style + '\"' if style else '') + '><tr><th>'\n",
    "    html += '</th><th>'.join(res.keys) + '</th></tr><tr><td>'\n",
    "    html += '</td></tr><tr><td>'.join(['</td><td>'.join([str(cell) for cell in row]) for row in list(res)])\n",
    "    return html + '</tr></table>'\n",
    "def display_side_by_side(l, r):\n",
    "    s = \"display: inline-block;\"\n",
    "    html = to_html_table(l, style=s) + ' ' + to_html_table(r, style=s)\n",
    "    display_html(HTML(data=html))"
   ]
  },
  {
   "cell_type": "code",
   "execution_count": 16,
   "metadata": {
    "collapsed": true
   },
   "outputs": [],
   "source": [
    "def to_set(x):\n",
    "    if type(x) == set:\n",
    "        return x\n",
    "    elif type(x) in [list, set]:\n",
    "        return set(x)\n",
    "    elif type(x) in [str, int]:\n",
    "        return set([x])\n",
    "    else:\n",
    "        raise Exception(\"Unrecognized type.\")\n",
    "def fd_to_str((lhs,rhs)): return \",\".join(to_set(lhs)) + \" -> \" + \",\".join(to_set(rhs))\n",
    "def fds_to_str(fds): return \"\\n\\t\".join(map(fd_to_str, fds))\n",
    "def set_to_str(x): return \"{\" + \",\".join(x) + \"}\"\n",
    "def fd_applies_to(fd, x): \n",
    "    lhs, rhs = map(to_set, fd)\n",
    "    return lhs.issubset(x)\n",
    "def compute_closure(x, fds, verbose=False):\n",
    "    bChanged = True        # We will repeat until there are no changes.\n",
    "    x_ret    = to_set(x).copy()    # Make a copy of the input to hold x^{+}\n",
    "    while bChanged:\n",
    "        bChanged = False   # Must change on each iteration\n",
    "        for fd in fds:     # loop through all the FDs.\n",
    "            (lhs, rhs) = map(to_set, fd) # recall: lhs -> rhs\n",
    "            if fd_applies_to(fd, x_ret) and not rhs.issubset(x_ret):\n",
    "                x_ret = x_ret.union(rhs)\n",
    "                if verbose:\n",
    "                    print(\"Using FD \" + fd_to_str(fd))\n",
    "                    print(\"\\t Updated x to \" + set_to_str(x_ret))\n",
    "                bChanged = True\n",
    "    return x_ret\n",
    "def is_superkey_for(A, X, fds, verbose=False): \n",
    "    return X.issubset(compute_closure(A, fds, verbose=verbose))\n",
    "import itertools\n",
    "def is_key_for(A, X, fds, verbose=False):\n",
    "    subsets = set(itertools.combinations(A, len(A)-1))\n",
    "    return is_superkey_for(A, X, fds) and \\\n",
    "        all([not is_superkey_for(set(SA), X, fds) for SA in subsets])"
   ]
  },
  {
   "cell_type": "markdown",
   "metadata": {},
   "source": [
    "Suppose we have a schema of football players:"
   ]
  },
  {
   "cell_type": "code",
   "execution_count": 17,
   "metadata": {
    "collapsed": false
   },
   "outputs": [
    {
     "name": "stdout",
     "output_type": "stream",
     "text": [
      "Done.\n"
     ]
    },
    {
     "data": {
      "text/html": [
       "<table>\n",
       "    <tr>\n",
       "        <th>uniform_number</th>\n",
       "        <th>team</th>\n",
       "        <th>position</th>\n",
       "        <th>first_name</th>\n",
       "        <th>last_name</th>\n",
       "    </tr>\n",
       "    <tr>\n",
       "        <td>1</td>\n",
       "        <td>Stanford</td>\n",
       "        <td>WR</td>\n",
       "        <td>Bob</td>\n",
       "        <td>Jones</td>\n",
       "    </tr>\n",
       "    <tr>\n",
       "        <td>2</td>\n",
       "        <td>Stanford</td>\n",
       "        <td>RB</td>\n",
       "        <td>Joe</td>\n",
       "        <td>Bobson</td>\n",
       "    </tr>\n",
       "    <tr>\n",
       "        <td>1</td>\n",
       "        <td>UCLA</td>\n",
       "        <td>WR</td>\n",
       "        <td>Bob</td>\n",
       "        <td>Roberts</td>\n",
       "    </tr>\n",
       "</table>"
      ],
      "text/plain": [
       "[(1, u'Stanford', u'WR', u'Bob', u'Jones'),\n",
       " (2, u'Stanford', u'RB', u'Joe', u'Bobson'),\n",
       " (1, u'UCLA', u'WR', u'Bob', u'Roberts')]"
      ]
     },
     "execution_count": 17,
     "metadata": {},
     "output_type": "execute_result"
    }
   ],
   "source": [
    "%sql SELECT * FROM Player;"
   ]
  },
  {
   "cell_type": "markdown",
   "metadata": {},
   "source": [
    "Where the following FDs hold:"
   ]
  },
  {
   "cell_type": "code",
   "execution_count": 18,
   "metadata": {
    "collapsed": true
   },
   "outputs": [],
   "source": [
    "F = [\n",
    "    ('uniform_number','position'),\n",
    "    (set(['position','last_name']),'uniform_number')\n",
    "]"
   ]
  },
  {
   "cell_type": "markdown",
   "metadata": {},
   "source": [
    "In other words, in this league\n",
    "\n",
    "1. The numbers on a player's uniform are always associated with specific positions\n",
    "2. _Across all teams_, a player's postion plus their last name should uniquely determine their uniform number."
   ]
  },
  {
   "cell_type": "markdown",
   "metadata": {},
   "source": [
    "### Exercise 1\n",
    "\n",
    "Determine and carry out a _lossy_ BCNF decomposition, i.e. one that will result in a 'lost' FD.  Show that the FD is lost by inserting some tuples into the decomposed tables, **respecting the remaining local FDs**, then joining the decomposed tables back together:"
   ]
  },
  {
   "cell_type": "code",
   "execution_count": 26,
   "metadata": {
    "collapsed": false
   },
   "outputs": [
    {
     "name": "stdout",
     "output_type": "stream",
     "text": [
      "Done.\n",
      "Done.\n",
      "Done.\n",
      "Done.\n",
      "Done.\n",
      "Done.\n"
     ]
    },
    {
     "data": {
      "text/html": [
       "<table style=\"display: inline-block;\"><tr><th>uniform_number</th><th>position</th></tr><tr><td>1</td><td>WR</td></tr><tr><td>2</td><td>RB</tr></table> <table style=\"display: inline-block;\"><tr><th>uniform_number</th><th>team</th><th>first_name</th><th>last_name</th></tr><tr><td>1</td><td>Stanford</td><td>Bob</td><td>Jones</td></tr><tr><td>2</td><td>Stanford</td><td>Joe</td><td>Bobson</td></tr><tr><td>1</td><td>UCLA</td><td>Bob</td><td>Roberts</tr></table>"
      ]
     },
     "metadata": {},
     "output_type": "display_data"
    }
   ],
   "source": [
    "%sql DROP TABLE IF EXISTS A;\n",
    "%sql CREATE TABLE A AS SELECT DISTINCT * FROM (SELECT uniform_number, position FROM Player);\n",
    "%sql DROP TABLE IF EXISTS B;\n",
    "%sql CREATE TABLE B AS SELECT DISTINCT * FROM (SELECT uniform_number, team, first_name, last_name FROM Player);\n",
    "l = %sql SELECT * FROM A;\n",
    "r = %sql SELECT * FROM B;\n",
    "display_side_by_side(l,r)"
   ]
  },
  {
   "cell_type": "code",
   "execution_count": 27,
   "metadata": {
    "collapsed": false
   },
   "outputs": [
    {
     "name": "stdout",
     "output_type": "stream",
     "text": [
      "1 rows affected.\n",
      "1 rows affected.\n"
     ]
    },
    {
     "data": {
      "text/plain": [
       "[]"
      ]
     },
     "execution_count": 27,
     "metadata": {},
     "output_type": "execute_result"
    }
   ],
   "source": [
    "%%sql\n",
    "INSERT INTO A VALUES (3, 'WR');\n",
    "INSERT INTO B VALUES (3, 'UCLA', 'John', 'Jones');"
   ]
  },
  {
   "cell_type": "code",
   "execution_count": 28,
   "metadata": {
    "collapsed": false
   },
   "outputs": [
    {
     "name": "stdout",
     "output_type": "stream",
     "text": [
      "Done.\n"
     ]
    },
    {
     "data": {
      "text/html": [
       "<table>\n",
       "    <tr>\n",
       "        <th>uniform_number</th>\n",
       "        <th>team</th>\n",
       "        <th>position</th>\n",
       "        <th>first_name</th>\n",
       "        <th>last_name</th>\n",
       "    </tr>\n",
       "    <tr>\n",
       "        <td>1</td>\n",
       "        <td>Stanford</td>\n",
       "        <td>WR</td>\n",
       "        <td>Bob</td>\n",
       "        <td>Jones</td>\n",
       "    </tr>\n",
       "    <tr>\n",
       "        <td>1</td>\n",
       "        <td>UCLA</td>\n",
       "        <td>WR</td>\n",
       "        <td>Bob</td>\n",
       "        <td>Roberts</td>\n",
       "    </tr>\n",
       "    <tr>\n",
       "        <td>2</td>\n",
       "        <td>Stanford</td>\n",
       "        <td>RB</td>\n",
       "        <td>Joe</td>\n",
       "        <td>Bobson</td>\n",
       "    </tr>\n",
       "    <tr>\n",
       "        <td>3</td>\n",
       "        <td>UCLA</td>\n",
       "        <td>WR</td>\n",
       "        <td>John</td>\n",
       "        <td>Jones</td>\n",
       "    </tr>\n",
       "</table>"
      ],
      "text/plain": [
       "[(1, u'Stanford', u'WR', u'Bob', u'Jones'),\n",
       " (1, u'UCLA', u'WR', u'Bob', u'Roberts'),\n",
       " (2, u'Stanford', u'RB', u'Joe', u'Bobson'),\n",
       " (3, u'UCLA', u'WR', u'John', u'Jones')]"
      ]
     },
     "execution_count": 28,
     "metadata": {},
     "output_type": "execute_result"
    }
   ],
   "source": [
    "%%sql\n",
    "SELECT a.uniform_number, b.team, a.position, b.first_name, b.last_name\n",
    "FROM A AS a, B AS b\n",
    "WHERE a.uniform_number = b.uniform_number;"
   ]
  },
  {
   "cell_type": "markdown",
   "metadata": {},
   "source": [
    "We see that the tuples we inserted didn't break any _local_ FDs (that were preserved by the BCNF decomposition), however now the FD $\\{\\text{last_name},\\text{postion}\\}\\rightarrow\\text{uniform_number}$ is violated!"
   ]
  },
  {
   "cell_type": "markdown",
   "metadata": {},
   "source": [
    "### Exercise 2\n",
    "\n",
    "Discuss how we might practically deal with this issue, while still using BCNF..."
   ]
  }
 ],
 "metadata": {
  "kernelspec": {
   "display_name": "Python 2",
   "language": "python",
   "name": "python2"
  },
  "language_info": {
   "codemirror_mode": {
    "name": "ipython",
    "version": 2
   },
   "file_extension": ".py",
   "mimetype": "text/x-python",
   "name": "python",
   "nbconvert_exporter": "python",
   "pygments_lexer": "ipython2",
   "version": "2.7.10"
  }
 },
 "nbformat": 4,
 "nbformat_minor": 0
}
