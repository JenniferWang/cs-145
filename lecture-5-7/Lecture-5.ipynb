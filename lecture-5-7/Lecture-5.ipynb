{
 "cells": [
  {
   "cell_type": "markdown",
   "metadata": {
    "slideshow": {
     "slide_type": "slide"
    }
   },
   "source": [
    "Lecture 5 Notebook\n",
    "------------------\n",
    "\n",
    "_Note: This notebook mostly covers material from sections 2 and 3 of Lecture 5_\n",
    "\n",
    " * **Goals**: Learn keys, superkeys, and the FD closure algorithm."
   ]
  },
  {
   "cell_type": "markdown",
   "metadata": {
    "slideshow": {
     "slide_type": "slide"
    }
   },
   "source": [
    "Given a set of attributes  $\\{A_1, \\dots, A_n\\}$ and a set of FDs $\\Gamma$\n",
    "\n",
    "The closure, denoted $\\{A_1, \\dots, A_n\\}^+$, is defined to be the largest set of attributes B s.t. $$A_1,\\dots,A_n \\rightarrow B \\text{ using } \\Gamma.$$\n",
    "\n",
    "_First, we'll set up some utility functions quickly:_"
   ]
  },
  {
   "cell_type": "code",
   "execution_count": 3,
   "metadata": {
    "collapsed": false,
    "slideshow": {
     "slide_type": "slide"
    }
   },
   "outputs": [],
   "source": [
    "A  = set([\"name\", \"category\"]) # These are the attribute set.\n",
    "fds = [ (set([\"name\"]),\"color\"), # name -> color\n",
    "        (set([\"category\"]), \"department\"), # category -> department\n",
    "        (set([\"color\", \"category\"]), \"price\") ] # color, category -> price\n",
    "def to_set(x):\n",
    "    if type(x) == set:\n",
    "        return x\n",
    "    elif type(x) in [list, set]:\n",
    "        return set(x)\n",
    "    elif type(x) in [str, int]:\n",
    "        return set([x])\n",
    "    else:\n",
    "        raise Exception(\"Unrecognized type.\")\n",
    "def fd_to_str((lhs,rhs)): return \",\".join(to_set(lhs)) + \" -> \" + \",\".join(to_set(rhs))\n",
    "def fds_to_str(fds): return \"\\n\\t\".join(map(fd_to_str, fds))\n",
    "def set_to_str(x): return \"{\" + \",\".join(x) + \"}\"\n",
    "def print_setup(A, fds):\n",
    "    print(\"Attributes = \" + set_to_str(A))\n",
    "    print(\"FDs = \\t\" + fds_to_str(fds))"
   ]
  },
  {
   "cell_type": "code",
   "execution_count": 4,
   "metadata": {
    "collapsed": false,
    "slideshow": {
     "slide_type": "subslide"
    }
   },
   "outputs": [
    {
     "name": "stdout",
     "output_type": "stream",
     "text": [
      "Attributes = {category,name}\n",
      "FDs = \tname -> color\n",
      "\tcategory -> department\n",
      "\tcolor,category -> price\n"
     ]
    }
   ],
   "source": [
    "print_setup(A, fds)"
   ]
  },
  {
   "cell_type": "markdown",
   "metadata": {
    "slideshow": {
     "slide_type": "slide"
    }
   },
   "source": [
    "Now we define a simple function to determing if a FD $f = (lhs, rhs)$ **_applies to_** a set of attributes $x$:"
   ]
  },
  {
   "cell_type": "code",
   "execution_count": 5,
   "metadata": {
    "collapsed": true,
    "slideshow": {
     "slide_type": "fragment"
    }
   },
   "outputs": [],
   "source": [
    "def fd_applies_to((lhs,rhs), x): return to_set(lhs).issubset(x)"
   ]
  },
  {
   "cell_type": "code",
   "execution_count": 6,
   "metadata": {
    "collapsed": false,
    "slideshow": {
     "slide_type": "fragment"
    }
   },
   "outputs": [
    {
     "name": "stdout",
     "output_type": "stream",
     "text": [
      "Attributes = {category,name}\n",
      "FDs = \tname -> color\n",
      "\tcategory -> department\n",
      "\tcolor,category -> price\n",
      "\n",
      "name -> color applies to attributes set? True\n"
     ]
    }
   ],
   "source": [
    "print_setup(A, fds); print \"\\n\" + fd_to_str(fds[0]) + \" applies to attributes set? \" + str(fd_applies_to(fds[0],A)); "
   ]
  },
  {
   "cell_type": "code",
   "execution_count": 8,
   "metadata": {
    "collapsed": false,
    "slideshow": {
     "slide_type": "fragment"
    }
   },
   "outputs": [
    {
     "name": "stdout",
     "output_type": "stream",
     "text": [
      "color,category -> price applies to attributes set? False\n"
     ]
    }
   ],
   "source": [
    "print fd_to_str(fds[2]) + \" applies to attributes set? \" + str(fd_applies_to(fds[2],A));"
   ]
  },
  {
   "cell_type": "markdown",
   "metadata": {},
   "source": [
    "**Note** also that although our functions work for general FDs of form $\\{a_1,...,a_n\\}\\rightarrow\\{b_1,...b_m\\}$, for convenience, **we only actually need to support FDs of the form $\\{a_1,...,a_n\\}\\rightarrow b$**.  Why?  See lecture!"
   ]
  },
  {
   "cell_type": "markdown",
   "metadata": {
    "slideshow": {
     "slide_type": "subslide"
    }
   },
   "source": [
    "### An algorithm for Computing Closures:"
   ]
  },
  {
   "cell_type": "code",
   "execution_count": 9,
   "metadata": {
    "collapsed": false,
    "slideshow": {
     "slide_type": "fragment"
    }
   },
   "outputs": [],
   "source": [
    "def compute_closure(x, fds, verbose=False):\n",
    "    bChanged = True        # We will repeat until there are no changes.\n",
    "    x_ret    = x.copy()    # Make a copy of the input to hold x^{+}\n",
    "    while bChanged:\n",
    "        bChanged = False   # Must change on each iteration\n",
    "        for fd in fds:     # loop through all the FDs.\n",
    "            (lhs, rhs) = map(to_set, fd) # recall: lhs -> rhs\n",
    "            if fd_applies_to(fd, x_ret) and not rhs.issubset(x_ret):\n",
    "                x_ret = x_ret.union(rhs)\n",
    "                if verbose:\n",
    "                    print(\"Using FD \" + fd_to_str(fd))\n",
    "                    print(\"\\t Updated x to \" + set_to_str(x_ret))\n",
    "                bChanged = True\n",
    "    return x_ret"
   ]
  },
  {
   "cell_type": "code",
   "execution_count": 10,
   "metadata": {
    "collapsed": false,
    "slideshow": {
     "slide_type": "subslide"
    }
   },
   "outputs": [
    {
     "name": "stdout",
     "output_type": "stream",
     "text": [
      "Attributes = {category,name}\n",
      "FDs = \tname -> color\n",
      "\tcategory -> department\n",
      "\tcolor,category -> price\n",
      "Using FD name -> color\n",
      "\t Updated x to {category,color,name}\n",
      "Using FD category -> department\n",
      "\t Updated x to {category,color,department,name}\n",
      "Using FD color,category -> price\n",
      "\t Updated x to {category,color,price,department,name}\n",
      "\n",
      "{category,name}+ = {category,color,price,department,name}\n"
     ]
    }
   ],
   "source": [
    "print_setup(A, fds)\n",
    "A_plus = compute_closure(A, fds, verbose=True)\n",
    "print '\\n' + set_to_str(A) + \"+ = \" + set_to_str(A_plus)"
   ]
  },
  {
   "cell_type": "markdown",
   "metadata": {
    "slideshow": {
     "slide_type": "slide"
    }
   },
   "source": [
    "*Another example:*"
   ]
  },
  {
   "cell_type": "code",
   "execution_count": 11,
   "metadata": {
    "collapsed": false,
    "slideshow": {
     "slide_type": "fragment"
    }
   },
   "outputs": [
    {
     "name": "stdout",
     "output_type": "stream",
     "text": [
      "FDs:\tA,B -> C\n",
      "\tA,D -> E\n",
      "\tB -> D\n",
      "\tA,F -> B\n"
     ]
    }
   ],
   "source": [
    "fds = [ (set([\"A\", \"B\"]), \"C\"), (set([\"A\", \"D\"]), \"E\"), \n",
    "        (set([\"B\"])     , \"D\"), (set([\"A\",\"F\"]) , \"B\")] \n",
    "print \"FDs:\\t\" + fds_to_str(fds)"
   ]
  },
  {
   "cell_type": "code",
   "execution_count": 12,
   "metadata": {
    "collapsed": false,
    "slideshow": {
     "slide_type": "subslide"
    }
   },
   "outputs": [
    {
     "name": "stdout",
     "output_type": "stream",
     "text": [
      "Using FD A,B -> C\n",
      "\t Updated x to {A,C,B}\n",
      "Using FD B -> D\n",
      "\t Updated x to {A,C,B,D}\n",
      "Using FD A,D -> E\n",
      "\t Updated x to {A,C,B,E,D}\n",
      "\n",
      "{A,B}+ = {A,C,B,E,D}\n"
     ]
    }
   ],
   "source": [
    "# Compute {A,B}+\n",
    "A0 = set([\"A\", \"B\"])\n",
    "A0_plus = compute_closure(A0, fds, verbose=True)\n",
    "print '\\n' + set_to_str(A0) + \"+ = \" + set_to_str(A0_plus)"
   ]
  },
  {
   "cell_type": "code",
   "execution_count": 13,
   "metadata": {
    "collapsed": false,
    "slideshow": {
     "slide_type": "subslide"
    }
   },
   "outputs": [
    {
     "name": "stdout",
     "output_type": "stream",
     "text": [
      "Using FD A,F -> B\n",
      "\t Updated x to {A,B,F}\n",
      "Using FD A,B -> C\n",
      "\t Updated x to {A,C,B,F}\n",
      "Using FD B -> D\n",
      "\t Updated x to {A,C,B,D,F}\n",
      "Using FD A,D -> E\n",
      "\t Updated x to {A,C,B,E,D,F}\n",
      "\n",
      "{A,F}+ = {A,C,B,E,D,F}\n"
     ]
    }
   ],
   "source": [
    "# Compute {A,F}+\n",
    "A1 = set([\"A\", \"F\"])\n",
    "A1_plus = compute_closure(A1, fds, verbose=True)\n",
    "print '\\n' + set_to_str(A1) + \"+ = \" + set_to_str(A1_plus)"
   ]
  },
  {
   "cell_type": "markdown",
   "metadata": {
    "slideshow": {
     "slide_type": "slide"
    }
   },
   "source": [
    "### Using FD closures to check FDs:\n",
    "\n",
    "With the FD closure, we can check FDs easily!\n",
    "\n",
    "(_Again, note that we only need to check set-to-single-attribute FDs, though our functions support set-to-set ones!_)\n",
    "\n",
    "For attribute set $X$, attribute $a$:\n",
    "* To check if $X \\rightarrow a$\n",
    "  * Compute $X^{+}$\n",
    "  * Check if $a \\in X^{+}$\n",
    "      * If yes $\\implies X \\rightarrow a$!\n",
    "      \n",
    "Why?  A: Transitivity + trivial (+ combine) rules!"
   ]
  },
  {
   "cell_type": "code",
   "execution_count": 14,
   "metadata": {
    "collapsed": false,
    "slideshow": {
     "slide_type": "subslide"
    }
   },
   "outputs": [],
   "source": [
    "def is_fd_implied(fds, lhs, rhs, verbose=False):\n",
    "   xp = compute_closure(lhs,fds,verbose=verbose)\n",
    "   if verbose: print(set_to_str(lhs) +\"+ = \"+ set_to_str(xp))\n",
    "   return to_set(rhs).issubset(xp)"
   ]
  },
  {
   "cell_type": "code",
   "execution_count": 15,
   "metadata": {
    "collapsed": false,
    "slideshow": {
     "slide_type": "subslide"
    }
   },
   "outputs": [
    {
     "name": "stdout",
     "output_type": "stream",
     "text": [
      "Using FD A,B -> C\n",
      "\t Updated x to {A,C,B}\n",
      "Using FD B -> D\n",
      "\t Updated x to {A,C,B,D}\n",
      "Using FD A,D -> E\n",
      "\t Updated x to {A,C,B,E,D}\n",
      "{A,B}+ = {A,C,B,E,D}\n"
     ]
    },
    {
     "data": {
      "text/plain": [
       "True"
      ]
     },
     "execution_count": 15,
     "metadata": {},
     "output_type": "execute_result"
    }
   ],
   "source": [
    "# Check if AB -> E\n",
    "is_fd_implied(fds, set([\"A\",\"B\"]), \"E\", verbose=True)"
   ]
  },
  {
   "cell_type": "code",
   "execution_count": 16,
   "metadata": {
    "collapsed": false,
    "slideshow": {
     "slide_type": "subslide"
    }
   },
   "outputs": [
    {
     "name": "stdout",
     "output_type": "stream",
     "text": [
      "Using FD A,B -> C\n",
      "\t Updated x to {A,C,B}\n",
      "Using FD B -> D\n",
      "\t Updated x to {A,C,B,D}\n",
      "Using FD A,D -> E\n",
      "\t Updated x to {A,C,B,E,D}\n",
      "{A,B}+ = {A,C,B,E,D}\n"
     ]
    },
    {
     "data": {
      "text/plain": [
       "False"
      ]
     },
     "execution_count": 16,
     "metadata": {},
     "output_type": "execute_result"
    }
   ],
   "source": [
    "# Check if AB -> F\n",
    "is_fd_implied(fds, set([\"A\",\"B\"]), \"F\", verbose=True)"
   ]
  },
  {
   "cell_type": "markdown",
   "metadata": {
    "slideshow": {
     "slide_type": "slide"
    }
   },
   "source": [
    "### Superkeys and Keys\n",
    "\n",
    "* A _superkey_ for a relation $R$ having attributes $B = \\{B_1,\\dots,B_m\\}$ is a set of attributes $A\\subseteq B$ s.t. $A\\rightarrow B$\n",
    "\n",
    "* A _key_ is a minimal (setwise) _superkey_"
   ]
  },
  {
   "cell_type": "code",
   "execution_count": 17,
   "metadata": {
    "collapsed": true,
    "slideshow": {
     "slide_type": "skip"
    }
   },
   "outputs": [],
   "source": [
    "# check if A is a superkey for attributes B according to FDs F\n",
    "def is_superkey_slow(A,B,F):\n",
    "    return all([is_fd_implied(F,A,b) for b in B])"
   ]
  },
  {
   "cell_type": "markdown",
   "metadata": {
    "slideshow": {
     "slide_type": "subslide"
    }
   },
   "source": [
    "How can we check if a set of attributes $A$ is a superkey for $R$ with attributes $B$, given FDs $F$?\n",
    "\n",
    "### Simple algorithm using the FD / closure algorithms that we made:"
   ]
  },
  {
   "cell_type": "code",
   "execution_count": 18,
   "metadata": {
    "collapsed": true,
    "slideshow": {
     "slide_type": "fragment"
    }
   },
   "outputs": [],
   "source": [
    "def is_superkey(A, B, F): return is_fd_implied(F, A, B)"
   ]
  },
  {
   "cell_type": "code",
   "execution_count": 19,
   "metadata": {
    "collapsed": false,
    "slideshow": {
     "slide_type": "fragment"
    }
   },
   "outputs": [
    {
     "data": {
      "text/plain": [
       "True"
      ]
     },
     "execution_count": 19,
     "metadata": {},
     "output_type": "execute_result"
    }
   ],
   "source": [
    "B=set([\"A\",\"B\",\"C\",\"D\",\"E\",\"F\"])\n",
    "A=set([\"A\",\"B\",\"F\"])\n",
    "is_superkey(A, B, fds)"
   ]
  },
  {
   "cell_type": "code",
   "execution_count": 20,
   "metadata": {
    "collapsed": false,
    "slideshow": {
     "slide_type": "skip"
    }
   },
   "outputs": [
    {
     "data": {
      "text/plain": [
       "True"
      ]
     },
     "execution_count": 20,
     "metadata": {},
     "output_type": "execute_result"
    }
   ],
   "source": [
    "B=set([\"A\",\"B\",\"C\",\"D\",\"E\",\"F\"])\n",
    "is_superkey_slow(set([\"A\",\"B\",\"F\"]), B, fds)"
   ]
  },
  {
   "cell_type": "code",
   "execution_count": 21,
   "metadata": {
    "collapsed": false,
    "slideshow": {
     "slide_type": "skip"
    }
   },
   "outputs": [],
   "source": [
    "# This is equivalent\n",
    "def is_superkey(A,B,fds, verbose=False): \n",
    "    return B.issubset(compute_closure(A,fds,verbose=verbose))"
   ]
  },
  {
   "cell_type": "code",
   "execution_count": 22,
   "metadata": {
    "collapsed": false,
    "slideshow": {
     "slide_type": "skip"
    }
   },
   "outputs": [
    {
     "name": "stdout",
     "output_type": "stream",
     "text": [
      "Using FD A,B -> C\n",
      "\t Updated x to {A,C,B,F}\n",
      "Using FD B -> D\n",
      "\t Updated x to {A,C,B,D,F}\n",
      "Using FD A,D -> E\n",
      "\t Updated x to {A,C,B,E,D,F}\n"
     ]
    },
    {
     "data": {
      "text/plain": [
       "True"
      ]
     },
     "execution_count": 22,
     "metadata": {},
     "output_type": "execute_result"
    }
   ],
   "source": [
    "is_superkey(set([\"A\",\"B\",\"F\"]), B, fds,verbose=True)"
   ]
  },
  {
   "cell_type": "markdown",
   "metadata": {
    "slideshow": {
     "slide_type": "subslide"
    }
   },
   "source": [
    "Then, to test if $A$ is a _key_, need to check that:\n",
    "1. $A$ is a super key\n",
    "2. No proper subset of $A$ is a superkey (or a key)\n",
    "\n",
    "Why is it enough to check just sets of the form $A \\setminus \\{a\\}$ for $a \\in A$?"
   ]
  },
  {
   "cell_type": "code",
   "execution_count": 25,
   "metadata": {
    "collapsed": false,
    "slideshow": {
     "slide_type": "subslide"
    }
   },
   "outputs": [],
   "source": [
    "import itertools\n",
    "def is_key(A,B,fds,verbose=False):\n",
    "    subsets = set(itertools.combinations(A, len(A)-1))\n",
    "    return is_superkey(A,B,fds) and \\\n",
    "        all([not is_superkey(set(SA),B,fds) for SA in subsets])"
   ]
  },
  {
   "cell_type": "code",
   "execution_count": 26,
   "metadata": {
    "collapsed": false,
    "slideshow": {
     "slide_type": "fragment"
    }
   },
   "outputs": [
    {
     "name": "stdout",
     "output_type": "stream",
     "text": [
      "Attributes = {A,C,B,E,D,F}\n",
      "FDs = \tA,B -> C\n",
      "\tA,D -> E\n",
      "\tB -> D\n",
      "\tA,F -> B\n",
      "{A,B,F} is superkey?  True\n",
      "{A,B,F} is key?  False\n",
      "{A,F} is key?  True\n"
     ]
    }
   ],
   "source": [
    "print_setup(B, fds)\n",
    "C = set([\"A\",\"F\",\"B\"])\n",
    "C_1 = set([\"A\", \"F\"])\n",
    "print set_to_str(C) + \" is superkey?  \" + str(is_superkey(C, B, fds))\n",
    "print set_to_str(C) + \" is key?  \" + str(is_key(C, B, fds))\n",
    "print set_to_str(C_1) + \" is key?  \" + str(is_key(C_1, B, fds))"
   ]
  },
  {
   "cell_type": "markdown",
   "metadata": {
    "collapsed": false,
    "slideshow": {
     "slide_type": "slide"
    }
   },
   "source": [
    "Can you create a relation with two keys?"
   ]
  },
  {
   "cell_type": "markdown",
   "metadata": {
    "slideshow": {
     "slide_type": "fragment"
    }
   },
   "source": [
    "Can you create a relation and FDs with two keys?\n",
    "* Audience participation required..."
   ]
  },
  {
   "cell_type": "markdown",
   "metadata": {
    "slideshow": {
     "slide_type": "slide"
    }
   },
   "source": [
    "In this notebook, we learned about\n",
    "* functional dependencies and their axioms\n",
    "* the definitions of _super_ _key_ and _key_\n",
    "* how to check these definisions using the FD closure."
   ]
  }
 ],
 "metadata": {
  "kernelspec": {
   "display_name": "Python 2",
   "language": "python",
   "name": "python2"
  },
  "language_info": {
   "codemirror_mode": {
    "name": "ipython",
    "version": 2
   },
   "file_extension": ".py",
   "mimetype": "text/x-python",
   "name": "python",
   "nbconvert_exporter": "python",
   "pygments_lexer": "ipython2",
   "version": "2.7.10"
  }
 },
 "nbformat": 4,
 "nbformat_minor": 0
}
