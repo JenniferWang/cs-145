{
 "cells": [
  {
   "cell_type": "markdown",
   "metadata": {},
   "source": [
    "Lecture 7 Notebook\n",
    "------------------\n",
    "\n",
    "**Note: This notebook requires the algorithms developed in the Lecture 5 Notebook, which are in the file `closure.py`- make sure this file is in the same directory as this notebook!**"
   ]
  },
  {
   "cell_type": "markdown",
   "metadata": {
    "slideshow": {
     "slide_type": "slide"
    }
   },
   "source": [
    "### BCNF Main Idea\n",
    "\n",
    "* If $X \\rightarrow A$ and $X$ is a superkey, then the fd is OK.\n",
    "* If $X \\rightarrow A$ is not, then the FD is bad.\n",
    "\n",
    "Said another way\n",
    "\n",
    "* That is, $X$ is BCNF-good for $B$ if:\n",
    "$$X^{+} = X \\text{ or } X^{+} = B$$\n",
    "* A relation $R(B)$ is in BCNF if every $X \\subseteq B$, $X$ is BCNF good for $B$."
   ]
  },
  {
   "cell_type": "code",
   "execution_count": 1,
   "metadata": {
    "collapsed": false,
    "slideshow": {
     "slide_type": "slide"
    }
   },
   "outputs": [
    {
     "name": "stderr",
     "output_type": "stream",
     "text": [
      "/Library/Python/2.7/site-packages/IPython/config.py:13: ShimWarning: The `IPython.config` package has been deprecated. You should import from traitlets.config instead.\n",
      "  \"You should import from traitlets.config instead.\", ShimWarning)\n",
      "/Library/Python/2.7/site-packages/IPython/utils/traitlets.py:5: UserWarning: IPython.utils.traitlets has moved to a top-level traitlets package.\n",
      "  warn(\"IPython.utils.traitlets has moved to a top-level traitlets package.\")\n"
     ]
    },
    {
     "data": {
      "text/plain": [
       "'Connected: None@None'"
      ]
     },
     "execution_count": 1,
     "metadata": {},
     "output_type": "execute_result"
    }
   ],
   "source": [
    "%load_ext sql\n",
    "%sql sqlite://"
   ]
  },
  {
   "cell_type": "code",
   "execution_count": 2,
   "metadata": {
    "collapsed": false,
    "slideshow": {
     "slide_type": "slide"
    }
   },
   "outputs": [
    {
     "name": "stdout",
     "output_type": "stream",
     "text": [
      "Done.\n",
      "Done.\n",
      "1 rows affected.\n",
      "1 rows affected.\n",
      "1 rows affected.\n",
      "1 rows affected.\n"
     ]
    },
    {
     "data": {
      "text/plain": [
       "[]"
      ]
     },
     "execution_count": 2,
     "metadata": {},
     "output_type": "execute_result"
    }
   ],
   "source": [
    "%%sql drop table if exists T;\n",
    "create table T(name varchar, ssn varchar, phone varchar, city varchar);\n",
    "insert into T values ('Fred', '123-45-6789', '650-555-1234', 'Palo Alto');\n",
    "insert into T values ('Fred', '123-45-6789', '650-555-2000', 'Palo Alto');\n",
    "insert into T values ('Joe', '987-65-4321', '415-555-3131', 'Palo Alto');\n",
    "insert into T values ('Joe', '987-65-4321', '415-555-4000', 'Palo Alto');"
   ]
  },
  {
   "cell_type": "code",
   "execution_count": 3,
   "metadata": {
    "collapsed": false,
    "slideshow": {
     "slide_type": "slide"
    }
   },
   "outputs": [
    {
     "name": "stdout",
     "output_type": "stream",
     "text": [
      "Done.\n"
     ]
    },
    {
     "data": {
      "text/html": [
       "<table>\n",
       "    <tr>\n",
       "        <th>name</th>\n",
       "        <th>ssn</th>\n",
       "        <th>phone</th>\n",
       "        <th>city</th>\n",
       "    </tr>\n",
       "    <tr>\n",
       "        <td>Fred</td>\n",
       "        <td>123-45-6789</td>\n",
       "        <td>650-555-1234</td>\n",
       "        <td>Palo Alto</td>\n",
       "    </tr>\n",
       "    <tr>\n",
       "        <td>Fred</td>\n",
       "        <td>123-45-6789</td>\n",
       "        <td>650-555-2000</td>\n",
       "        <td>Palo Alto</td>\n",
       "    </tr>\n",
       "    <tr>\n",
       "        <td>Joe</td>\n",
       "        <td>987-65-4321</td>\n",
       "        <td>415-555-3131</td>\n",
       "        <td>Palo Alto</td>\n",
       "    </tr>\n",
       "    <tr>\n",
       "        <td>Joe</td>\n",
       "        <td>987-65-4321</td>\n",
       "        <td>415-555-4000</td>\n",
       "        <td>Palo Alto</td>\n",
       "    </tr>\n",
       "</table>"
      ],
      "text/plain": [
       "[(u'Fred', u'123-45-6789', u'650-555-1234', u'Palo Alto'),\n",
       " (u'Fred', u'123-45-6789', u'650-555-2000', u'Palo Alto'),\n",
       " (u'Joe', u'987-65-4321', u'415-555-3131', u'Palo Alto'),\n",
       " (u'Joe', u'987-65-4321', u'415-555-4000', u'Palo Alto')]"
      ]
     },
     "execution_count": 3,
     "metadata": {},
     "output_type": "execute_result"
    }
   ],
   "source": [
    "%sql select * from T;"
   ]
  },
  {
   "cell_type": "code",
   "execution_count": 4,
   "metadata": {
    "collapsed": false,
    "slideshow": {
     "slide_type": "slide"
    }
   },
   "outputs": [
    {
     "name": "stdout",
     "output_type": "stream",
     "text": [
      "Attributes = {phone,ssn,name,city}\n",
      "FDs = \tssn -> name\n",
      "\tssn -> city\n"
     ]
    }
   ],
   "source": [
    "import closure as c\n",
    "B   = set([\"name\", \"ssn\", \"phone\", \"city\"])\n",
    "fds = [(set([\"ssn\"]),\"name\"),(set([\"ssn\"]), \"city\")] # SSN -> Name, City\n",
    "c.print_setup(B, fds)"
   ]
  },
  {
   "cell_type": "code",
   "execution_count": 5,
   "metadata": {
    "collapsed": false,
    "slideshow": {
     "slide_type": "fragment"
    }
   },
   "outputs": [
    {
     "data": {
      "text/plain": [
       "False"
      ]
     },
     "execution_count": 5,
     "metadata": {},
     "output_type": "execute_result"
    }
   ],
   "source": [
    "c.is_superkey(set([\"ssn\"]),B,fds)"
   ]
  },
  {
   "cell_type": "markdown",
   "metadata": {
    "collapsed": false,
    "slideshow": {
     "slide_type": "fragment"
    }
   },
   "source": [
    "Is 'ssn' a good-BCNF FD for $B$ or a bad one?"
   ]
  },
  {
   "cell_type": "markdown",
   "metadata": {
    "slideshow": {
     "slide_type": "slide"
    }
   },
   "source": [
    "Let's fix it!"
   ]
  },
  {
   "cell_type": "code",
   "execution_count": 6,
   "metadata": {
    "collapsed": false,
    "slideshow": {
     "slide_type": "fragment"
    }
   },
   "outputs": [
    {
     "name": "stdout",
     "output_type": "stream",
     "text": [
      "L={city,ssn,name} R={phone,ssn}\n"
     ]
    }
   ],
   "source": [
    "A = set([\"ssn\"])\n",
    "L = c.compute_closure(A,fds) # {ssn}^{+}\n",
    "R = B.difference(L).union(A) # B / {ssn}^{+} union {ssn}\n",
    "print(\"L={0} R={1}\".format(c.set_to_str(L), c.set_to_str(R)))"
   ]
  },
  {
   "cell_type": "markdown",
   "metadata": {
    "slideshow": {
     "slide_type": "fragment"
    }
   },
   "source": [
    "If we decompose into L(ssn,city,name) and R(ssn,phone) we should fix this bad dependency!\n",
    "* NB: Why is $\\{ssn\\}^{+}$ good in both L and in R? "
   ]
  },
  {
   "cell_type": "code",
   "execution_count": 7,
   "metadata": {
    "collapsed": false,
    "slideshow": {
     "slide_type": "slide"
    }
   },
   "outputs": [
    {
     "name": "stdout",
     "output_type": "stream",
     "text": [
      "Done.\n",
      "Done.\n",
      "Done.\n",
      "Done.\n"
     ]
    },
    {
     "data": {
      "text/plain": [
       "[]"
      ]
     },
     "execution_count": 7,
     "metadata": {},
     "output_type": "execute_result"
    }
   ],
   "source": [
    "%%sql\n",
    "drop table if exists L; drop table if exists R;\n",
    "create table L as SELECT distinct ssn, city, name FROM T;\n",
    "create table R as SELECT distinct ssn, phone      FROM T;"
   ]
  },
  {
   "cell_type": "markdown",
   "metadata": {},
   "source": [
    "_Some utility functions for displaying stuff...:_"
   ]
  },
  {
   "cell_type": "code",
   "execution_count": 10,
   "metadata": {
    "collapsed": false,
    "slideshow": {
     "slide_type": "subslide"
    }
   },
   "outputs": [],
   "source": [
    "from IPython.core.display import display_html, HTML\n",
    "def to_html_table(res, style=None):\n",
    "    html = '<table' + (' style=\"' + style + '\"' if style else '') + '><tr><th>'\n",
    "    html += '</th><th>'.join(res.keys) + '</th></tr><tr><td>'\n",
    "    html += '</td></tr><tr><td>'.join('</td><td>'.join(row) for row in list(res))\n",
    "    return html + '</tr></table>'\n",
    "def display_side_by_side(l, r):\n",
    "    s = \"display: inline-block;\"\n",
    "    html = to_html_table(l, style=s) + ' ' + to_html_table(r, style=s)\n",
    "    display_html(HTML(data=html))"
   ]
  },
  {
   "cell_type": "code",
   "execution_count": 11,
   "metadata": {
    "collapsed": false,
    "slideshow": {
     "slide_type": "slide"
    }
   },
   "outputs": [
    {
     "name": "stdout",
     "output_type": "stream",
     "text": [
      "Done.\n",
      "Done.\n"
     ]
    },
    {
     "data": {
      "text/html": [
       "<table style=\"display: inline-block;\"><tr><th>ssn</th><th>city</th><th>name</th></tr><tr><td>123-45-6789</td><td>Palo Alto</td><td>Fred</td></tr><tr><td>987-65-4321</td><td>Palo Alto</td><td>Joe</tr></table> <table style=\"display: inline-block;\"><tr><th>ssn</th><th>phone</th></tr><tr><td>123-45-6789</td><td>650-555-1234</td></tr><tr><td>123-45-6789</td><td>650-555-2000</td></tr><tr><td>987-65-4321</td><td>415-555-3131</td></tr><tr><td>987-65-4321</td><td>415-555-4000</tr></table>"
      ]
     },
     "metadata": {},
     "output_type": "display_data"
    }
   ],
   "source": [
    "l = %sql SELECT * FROM L;\n",
    "r = %sql SELECT * FROM R;\n",
    "display_side_by_side(l,r)"
   ]
  },
  {
   "cell_type": "markdown",
   "metadata": {
    "slideshow": {
     "slide_type": "fragment"
    }
   },
   "source": [
    "Do we have redundancy? Ananomlies: Update, Insert, Delete? "
   ]
  },
  {
   "cell_type": "markdown",
   "metadata": {
    "slideshow": {
     "slide_type": "slide"
    }
   },
   "source": [
    "If we join $L$ and $R$, we get back _exactly_ the original table $T$."
   ]
  },
  {
   "cell_type": "code",
   "execution_count": 12,
   "metadata": {
    "collapsed": false,
    "scrolled": true,
    "slideshow": {
     "slide_type": "fragment"
    }
   },
   "outputs": [
    {
     "name": "stdout",
     "output_type": "stream",
     "text": [
      "Done.\n",
      "Done.\n"
     ]
    },
    {
     "data": {
      "text/html": [
       "<table style=\"display: inline-block;\"><tr><th>name</th><th>ssn</th><th>phone</th><th>city</th></tr><tr><td>Fred</td><td>123-45-6789</td><td>650-555-1234</td><td>Palo Alto</td></tr><tr><td>Fred</td><td>123-45-6789</td><td>650-555-2000</td><td>Palo Alto</td></tr><tr><td>Joe</td><td>987-65-4321</td><td>415-555-3131</td><td>Palo Alto</td></tr><tr><td>Joe</td><td>987-65-4321</td><td>415-555-4000</td><td>Palo Alto</tr></table> <table style=\"display: inline-block;\"><tr><th>name</th><th>ssn</th><th>phone</th><th>city</th></tr><tr><td>Fred</td><td>123-45-6789</td><td>650-555-1234</td><td>Palo Alto</td></tr><tr><td>Fred</td><td>123-45-6789</td><td>650-555-2000</td><td>Palo Alto</td></tr><tr><td>Joe</td><td>987-65-4321</td><td>415-555-3131</td><td>Palo Alto</td></tr><tr><td>Joe</td><td>987-65-4321</td><td>415-555-4000</td><td>Palo Alto</tr></table>"
      ]
     },
     "metadata": {},
     "output_type": "display_data"
    }
   ],
   "source": [
    "joined = %sql select name,L.ssn,phone,city FROM L,R where L.ssn = R.ssn;\n",
    "orig = %sql select * FROM T;\n",
    "display_side_by_side(joined, orig)"
   ]
  },
  {
   "cell_type": "markdown",
   "metadata": {},
   "source": [
    "We can do this decomposition according to \"bad FDs\" recursively to get a relation $R$ into to BCNF:"
   ]
  },
  {
   "cell_type": "code",
   "execution_count": 13,
   "metadata": {
    "collapsed": false,
    "slideshow": {
     "slide_type": "slide"
    }
   },
   "outputs": [],
   "source": [
    "def bcnf_decompose(fds0, B, verbose=False):\n",
    "    # Filter the FDs to those that are valid in this relation.\n",
    "    fds = filter(lambda (lhs,r): r in B and lhs.issubset(B),fds0) \n",
    "    for (lhs,r) in fds:\n",
    "        lhsp = c.compute_closure(lhs,fds) \n",
    "        if not (B == lhsp or lhsp == lhs):\n",
    "            rhs = B.difference(lhsp).union(lhs)\n",
    "            if verbose:\n",
    "                print(\"Decomposing %s on bad FD LHS %s\" % (c.set_to_str(B), c.set_to_str(lhs)))\n",
    "                print(\"\\t L=%s R=%s\" % (c.set_to_str(lhsp), c.set_to_str(rhs)))\n",
    "            L = bcnf_decompose(fds, lhsp, verbose=verbose)\n",
    "            R = bcnf_decompose(fds, rhs , verbose=verbose)\n",
    "            return L.union(R)\n",
    "    return set([tuple(B)])"
   ]
  },
  {
   "cell_type": "code",
   "execution_count": 14,
   "metadata": {
    "collapsed": false,
    "slideshow": {
     "slide_type": "fragment"
    }
   },
   "outputs": [
    {
     "name": "stdout",
     "output_type": "stream",
     "text": [
      "Decomposing {phone,ssn,name,city} on bad FD LHS {ssn}\n",
      "\t L={city,ssn,name} R={phone,ssn}\n",
      "set([('city', 'ssn', 'name'), ('phone', 'ssn')])\n"
     ]
    }
   ],
   "source": [
    "print bcnf_decompose(fds,B,verbose=True);"
   ]
  },
  {
   "cell_type": "markdown",
   "metadata": {
    "slideshow": {
     "slide_type": "slide"
    }
   },
   "source": [
    "Consider the following instance.\n",
    "* $R(A,B,C,D,E)$\n",
    "* $A \\rightarrow B,C$\n",
    "* $C \\rightarrow D$\n"
   ]
  },
  {
   "cell_type": "code",
   "execution_count": 15,
   "metadata": {
    "collapsed": false,
    "slideshow": {
     "slide_type": "slide"
    }
   },
   "outputs": [
    {
     "data": {
      "text/plain": [
       "{'A', 'B', 'C', 'D'}"
      ]
     },
     "execution_count": 15,
     "metadata": {},
     "output_type": "execute_result"
    }
   ],
   "source": [
    "R   = set([\"A\",\"B\",\"C\",\"D\",\"E\"])\n",
    "fds = [(set([\"A\"]),\"B\"), (set([\"A\"]),\"C\"), # A->B,C\n",
    "          (set([\"C\"]),\"D\")]\n",
    "c.compute_closure(fds[0][0],fds)"
   ]
  },
  {
   "cell_type": "code",
   "execution_count": 16,
   "metadata": {
    "collapsed": false,
    "scrolled": true,
    "slideshow": {
     "slide_type": "slide"
    }
   },
   "outputs": [
    {
     "name": "stdout",
     "output_type": "stream",
     "text": [
      "Decomposing {A,C,B,E,D} on bad FD LHS {A}\n",
      "\t L={A,C,B,D} R={A,E}\n",
      "Decomposing {A,C,B,D} on bad FD LHS {C}\n",
      "\t L={C,D} R={A,C,B}\n"
     ]
    },
    {
     "data": {
      "text/plain": [
       "{('A', 'C', 'B'), ('A', 'E'), ('C', 'D')}"
      ]
     },
     "execution_count": 16,
     "metadata": {},
     "output_type": "execute_result"
    }
   ],
   "source": [
    "bcnf_decompose(fds,R,verbose=True)"
   ]
  },
  {
   "cell_type": "markdown",
   "metadata": {
    "collapsed": true,
    "slideshow": {
     "slide_type": "fragment"
    }
   },
   "source": [
    "So, we would create three tables R0, R1, and R2:\n",
    "> create table R0 as select distinct A,C,B from R <br>\n",
    "> create table R1 as select distinct A,E from <br>\n",
    "> create table R2 as select distinct C,D from R <br>"
   ]
  },
  {
   "cell_type": "markdown",
   "metadata": {
    "slideshow": {
     "slide_type": "slide"
    }
   },
   "source": [
    "Decompositions\n",
    "========\n",
    "\n",
    "Are these decompositions always correct?"
   ]
  },
  {
   "cell_type": "code",
   "execution_count": 17,
   "metadata": {
    "collapsed": false
   },
   "outputs": [
    {
     "name": "stdout",
     "output_type": "stream",
     "text": [
      "Done.\n"
     ]
    },
    {
     "data": {
      "text/html": [
       "<table>\n",
       "    <tr>\n",
       "        <th>name</th>\n",
       "        <th>ssn</th>\n",
       "        <th>phone</th>\n",
       "        <th>city</th>\n",
       "    </tr>\n",
       "    <tr>\n",
       "        <td>Fred</td>\n",
       "        <td>123-45-6789</td>\n",
       "        <td>650-555-1234</td>\n",
       "        <td>Palo Alto</td>\n",
       "    </tr>\n",
       "    <tr>\n",
       "        <td>Fred</td>\n",
       "        <td>123-45-6789</td>\n",
       "        <td>650-555-2000</td>\n",
       "        <td>Palo Alto</td>\n",
       "    </tr>\n",
       "    <tr>\n",
       "        <td>Joe</td>\n",
       "        <td>987-65-4321</td>\n",
       "        <td>415-555-3131</td>\n",
       "        <td>Palo Alto</td>\n",
       "    </tr>\n",
       "    <tr>\n",
       "        <td>Joe</td>\n",
       "        <td>987-65-4321</td>\n",
       "        <td>415-555-4000</td>\n",
       "        <td>Palo Alto</td>\n",
       "    </tr>\n",
       "</table>"
      ],
      "text/plain": [
       "[(u'Fred', u'123-45-6789', u'650-555-1234', u'Palo Alto'),\n",
       " (u'Fred', u'123-45-6789', u'650-555-2000', u'Palo Alto'),\n",
       " (u'Joe', u'987-65-4321', u'415-555-3131', u'Palo Alto'),\n",
       " (u'Joe', u'987-65-4321', u'415-555-4000', u'Palo Alto')]"
      ]
     },
     "execution_count": 17,
     "metadata": {},
     "output_type": "execute_result"
    }
   ],
   "source": [
    "%sql SELECT * FROM T;"
   ]
  },
  {
   "cell_type": "code",
   "execution_count": 18,
   "metadata": {
    "collapsed": false
   },
   "outputs": [
    {
     "name": "stdout",
     "output_type": "stream",
     "text": [
      "Done.\n",
      "Done.\n",
      "Done.\n",
      "Done.\n"
     ]
    },
    {
     "data": {
      "text/plain": [
       "[]"
      ]
     },
     "execution_count": 18,
     "metadata": {},
     "output_type": "execute_result"
    }
   ],
   "source": [
    "%%sql DROP TABLE IF EXISTS L0; DROP TABLE IF EXISTS R0;\n",
    "create table L0 as SELECT distinct city, name FROM T;\n",
    "create table R0 as SELECT distinct city, ssn, phone FROM T;"
   ]
  },
  {
   "cell_type": "code",
   "execution_count": 19,
   "metadata": {
    "collapsed": false
   },
   "outputs": [
    {
     "name": "stdout",
     "output_type": "stream",
     "text": [
      "Done.\n",
      "Done.\n"
     ]
    },
    {
     "data": {
      "text/html": [
       "<table style=\"display: inline-block;\"><tr><th>city</th><th>name</th></tr><tr><td>Palo Alto</td><td>Fred</td></tr><tr><td>Palo Alto</td><td>Joe</tr></table> <table style=\"display: inline-block;\"><tr><th>city</th><th>ssn</th><th>phone</th></tr><tr><td>Palo Alto</td><td>123-45-6789</td><td>650-555-1234</td></tr><tr><td>Palo Alto</td><td>123-45-6789</td><td>650-555-2000</td></tr><tr><td>Palo Alto</td><td>987-65-4321</td><td>415-555-3131</td></tr><tr><td>Palo Alto</td><td>987-65-4321</td><td>415-555-4000</tr></table>"
      ]
     },
     "metadata": {},
     "output_type": "display_data"
    }
   ],
   "source": [
    "l0 = %sql SELECT * FROM L0;\n",
    "r0 = %sql SELECT * FROM R0;\n",
    "display_side_by_side(l0, r0)"
   ]
  },
  {
   "cell_type": "code",
   "execution_count": 20,
   "metadata": {
    "collapsed": false
   },
   "outputs": [
    {
     "name": "stdout",
     "output_type": "stream",
     "text": [
      "Done.\n"
     ]
    },
    {
     "data": {
      "text/html": [
       "<table>\n",
       "    <tr>\n",
       "        <th>name</th>\n",
       "        <th>city</th>\n",
       "        <th>ssn</th>\n",
       "        <th>phone</th>\n",
       "    </tr>\n",
       "    <tr>\n",
       "        <td>Fred</td>\n",
       "        <td>Palo Alto</td>\n",
       "        <td>123-45-6789</td>\n",
       "        <td>650-555-1234</td>\n",
       "    </tr>\n",
       "    <tr>\n",
       "        <td>Fred</td>\n",
       "        <td>Palo Alto</td>\n",
       "        <td>123-45-6789</td>\n",
       "        <td>650-555-2000</td>\n",
       "    </tr>\n",
       "    <tr>\n",
       "        <td>Fred</td>\n",
       "        <td>Palo Alto</td>\n",
       "        <td>987-65-4321</td>\n",
       "        <td>415-555-3131</td>\n",
       "    </tr>\n",
       "    <tr>\n",
       "        <td>Fred</td>\n",
       "        <td>Palo Alto</td>\n",
       "        <td>987-65-4321</td>\n",
       "        <td>415-555-4000</td>\n",
       "    </tr>\n",
       "    <tr>\n",
       "        <td>Joe</td>\n",
       "        <td>Palo Alto</td>\n",
       "        <td>123-45-6789</td>\n",
       "        <td>650-555-1234</td>\n",
       "    </tr>\n",
       "    <tr>\n",
       "        <td>Joe</td>\n",
       "        <td>Palo Alto</td>\n",
       "        <td>123-45-6789</td>\n",
       "        <td>650-555-2000</td>\n",
       "    </tr>\n",
       "    <tr>\n",
       "        <td>Joe</td>\n",
       "        <td>Palo Alto</td>\n",
       "        <td>987-65-4321</td>\n",
       "        <td>415-555-3131</td>\n",
       "    </tr>\n",
       "    <tr>\n",
       "        <td>Joe</td>\n",
       "        <td>Palo Alto</td>\n",
       "        <td>987-65-4321</td>\n",
       "        <td>415-555-4000</td>\n",
       "    </tr>\n",
       "</table>"
      ],
      "text/plain": [
       "[(u'Fred', u'Palo Alto', u'123-45-6789', u'650-555-1234'),\n",
       " (u'Fred', u'Palo Alto', u'123-45-6789', u'650-555-2000'),\n",
       " (u'Fred', u'Palo Alto', u'987-65-4321', u'415-555-3131'),\n",
       " (u'Fred', u'Palo Alto', u'987-65-4321', u'415-555-4000'),\n",
       " (u'Joe', u'Palo Alto', u'123-45-6789', u'650-555-1234'),\n",
       " (u'Joe', u'Palo Alto', u'123-45-6789', u'650-555-2000'),\n",
       " (u'Joe', u'Palo Alto', u'987-65-4321', u'415-555-3131'),\n",
       " (u'Joe', u'Palo Alto', u'987-65-4321', u'415-555-4000')]"
      ]
     },
     "execution_count": 20,
     "metadata": {},
     "output_type": "execute_result"
    }
   ],
   "source": [
    "%sql SELECT name,L0.city,ssn,phone FROM L0, R0 where L0.city = R0.city"
   ]
  },
  {
   "cell_type": "markdown",
   "metadata": {
    "slideshow": {
     "slide_type": "slide"
    }
   },
   "source": [
    "Yikes! We hallucinated new tuples!\n",
    "--------------------------------\n",
    "\n",
    "* We returned tuples not in $T(ssn,city,phone,name)$ \n",
    "  * $L0(city,name)$ and $R0(city,ssn,phone)$ is called a _lossy decomposition_\n",
    "  * Any decompositions, when joined, contains _no fewer tuples_. Why? "
   ]
  },
  {
   "cell_type": "markdown",
   "metadata": {
    "slideshow": {
     "slide_type": "slide"
    }
   },
   "source": [
    "* In contrast, decomposing $T$ into $L(ssn,city,name)$ and $R(ssn,phone)$ is _lossless_\n",
    "  * Formally, joining $L$ and $R$ returned only tuples in $T$\n",
    "  * Why? _(hint: $L$'s schema is $\\{ssn\\}^{+}$))_"
   ]
  }
 ],
 "metadata": {
  "kernelspec": {
   "display_name": "Python 2",
   "language": "python",
   "name": "python2"
  },
  "language_info": {
   "codemirror_mode": {
    "name": "ipython",
    "version": 2
   },
   "file_extension": ".py",
   "mimetype": "text/x-python",
   "name": "python",
   "nbconvert_exporter": "python",
   "pygments_lexer": "ipython2",
   "version": "2.7.10"
  }
 },
 "nbformat": 4,
 "nbformat_minor": 0
}
