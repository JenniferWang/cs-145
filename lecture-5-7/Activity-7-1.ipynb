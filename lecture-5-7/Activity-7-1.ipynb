{
 "cells": [
  {
   "cell_type": "markdown",
   "metadata": {},
   "source": [
    "Activity 7-1\n",
    "------------\n",
    "\n",
    "The goal for this activity will be to compute some BCNF decompositions, using the tools from last lecture\n",
    "\n",
    "First we'll load those tools, and some sample data:"
   ]
  },
  {
   "cell_type": "code",
   "execution_count": 1,
   "metadata": {
    "collapsed": true
   },
   "outputs": [],
   "source": [
    "def to_set(x):\n",
    "    if type(x) == set:\n",
    "        return x\n",
    "    elif type(x) in [list, set]:\n",
    "        return set(x)\n",
    "    elif type(x) in [str, int]:\n",
    "        return set([x])\n",
    "    else:\n",
    "        raise Exception(\"Unrecognized type.\")\n",
    "def fd_to_str((lhs,rhs)): return \",\".join(to_set(lhs)) + \" -> \" + \",\".join(to_set(rhs))\n",
    "def fds_to_str(fds): return \"\\n\\t\".join(map(fd_to_str, fds))\n",
    "def set_to_str(x): return \"{\" + \",\".join(x) + \"}\"\n",
    "def fd_applies_to(fd, x): \n",
    "    lhs, rhs = map(to_set, fd)\n",
    "    return lhs.issubset(x)\n",
    "def compute_closure(x, fds, verbose=False):\n",
    "    bChanged = True        # We will repeat until there are no changes.\n",
    "    x_ret    = to_set(x).copy()    # Make a copy of the input to hold x^{+}\n",
    "    while bChanged:\n",
    "        bChanged = False   # Must change on each iteration\n",
    "        for fd in fds:     # loop through all the FDs.\n",
    "            (lhs, rhs) = map(to_set, fd) # recall: lhs -> rhs\n",
    "            if fd_applies_to(fd, x_ret) and not rhs.issubset(x_ret):\n",
    "                x_ret = x_ret.union(rhs)\n",
    "                if verbose:\n",
    "                    print(\"Using FD \" + fd_to_str(fd))\n",
    "                    print(\"\\t Updated x to \" + set_to_str(x_ret))\n",
    "                bChanged = True\n",
    "    return x_ret\n",
    "def is_superkey_for(A, X, fds, verbose=False): \n",
    "    return X.issubset(compute_closure(A, fds, verbose=verbose))\n",
    "import itertools\n",
    "def is_key_for(A, X, fds, verbose=False):\n",
    "    subsets = set(itertools.combinations(A, len(A)-1))\n",
    "    return is_superkey_for(A, X, fds) and \\\n",
    "        all([not is_superkey_for(set(SA), X, fds) for SA in subsets])"
   ]
  },
  {
   "cell_type": "code",
   "execution_count": 2,
   "metadata": {
    "collapsed": false
   },
   "outputs": [
    {
     "name": "stderr",
     "output_type": "stream",
     "text": [
      "/Library/Python/2.7/site-packages/IPython/config.py:13: ShimWarning: The `IPython.config` package has been deprecated. You should import from traitlets.config instead.\n",
      "  \"You should import from traitlets.config instead.\", ShimWarning)\n",
      "/Library/Python/2.7/site-packages/IPython/utils/traitlets.py:5: UserWarning: IPython.utils.traitlets has moved to a top-level traitlets package.\n",
      "  warn(\"IPython.utils.traitlets has moved to a top-level traitlets package.\")\n"
     ]
    },
    {
     "data": {
      "text/plain": [
       "'Connected: None@None'"
      ]
     },
     "execution_count": 2,
     "metadata": {},
     "output_type": "execute_result"
    }
   ],
   "source": [
    "%load_ext sql\n",
    "%sql sqlite://"
   ]
  },
  {
   "cell_type": "code",
   "execution_count": 3,
   "metadata": {
    "collapsed": false
   },
   "outputs": [
    {
     "name": "stdout",
     "output_type": "stream",
     "text": [
      "Done.\n",
      "Done.\n",
      "1 rows affected.\n",
      "1 rows affected.\n",
      "1 rows affected.\n",
      "1 rows affected.\n"
     ]
    },
    {
     "data": {
      "text/plain": [
       "[]"
      ]
     },
     "execution_count": 3,
     "metadata": {},
     "output_type": "execute_result"
    }
   ],
   "source": [
    "%%sql drop table if exists T;\n",
    "create table T(name varchar, ssn varchar, phone varchar, city varchar, zipcode int);\n",
    "insert into T values ('Fred', '123-45-6789', '650-555-1234', 'Palo Alto', 94306);\n",
    "insert into T values ('Fred', '123-45-6789', '650-555-2000', 'Palo Alto', 94306);\n",
    "insert into T values ('Joe', '987-65-4321', '415-555-3131', 'Palo Alto', 94306);\n",
    "insert into T values ('Joe', '987-65-4321', '415-555-4000', 'Palo Alto', 94306);"
   ]
  },
  {
   "cell_type": "markdown",
   "metadata": {},
   "source": [
    "We'll also provide a tool for nicely displaying tables side-by-side, in case this is helpful:"
   ]
  },
  {
   "cell_type": "code",
   "execution_count": 1,
   "metadata": {
    "collapsed": true
   },
   "outputs": [],
   "source": [
    "from IPython.core.display import display_html, HTML\n",
    "def to_html_table(res, style=None):\n",
    "    html = '<table' + (' style=\"' + style + '\"' if style else '') + '><tr><th>'\n",
    "    html += '</th><th>'.join(res.keys) + '</th></tr><tr><td>'\n",
    "    html += '</td></tr><tr><td>'.join(['</td><td>'.join([str(cell) for cell in row]) for row in list(res)])\n",
    "    return html + '</tr></table>'\n",
    "def display_side_by_side(l, r):\n",
    "    s = \"display: inline-block;\"\n",
    "    html = to_html_table(l, style=s) + ' ' + to_html_table(r, style=s)\n",
    "    display_html(HTML(data=html))"
   ]
  },
  {
   "cell_type": "markdown",
   "metadata": {},
   "source": [
    "### Exercise 1\n",
    "\n",
    "Explicitly go through the steps of the BCNF algorithm using the `compute_closure` function above, then decompose the following table (i.e. by creating new SQL tables) into BCNF:"
   ]
  },
  {
   "cell_type": "code",
   "execution_count": 4,
   "metadata": {
    "collapsed": false
   },
   "outputs": [
    {
     "name": "stdout",
     "output_type": "stream",
     "text": [
      "Done.\n"
     ]
    },
    {
     "data": {
      "text/html": [
       "<table>\n",
       "    <tr>\n",
       "        <th>name</th>\n",
       "        <th>ssn</th>\n",
       "        <th>phone</th>\n",
       "        <th>city</th>\n",
       "        <th>zipcode</th>\n",
       "    </tr>\n",
       "    <tr>\n",
       "        <td>Fred</td>\n",
       "        <td>123-45-6789</td>\n",
       "        <td>650-555-1234</td>\n",
       "        <td>Palo Alto</td>\n",
       "        <td>94306</td>\n",
       "    </tr>\n",
       "    <tr>\n",
       "        <td>Fred</td>\n",
       "        <td>123-45-6789</td>\n",
       "        <td>650-555-2000</td>\n",
       "        <td>Palo Alto</td>\n",
       "        <td>94306</td>\n",
       "    </tr>\n",
       "    <tr>\n",
       "        <td>Joe</td>\n",
       "        <td>987-65-4321</td>\n",
       "        <td>415-555-3131</td>\n",
       "        <td>Palo Alto</td>\n",
       "        <td>94306</td>\n",
       "    </tr>\n",
       "    <tr>\n",
       "        <td>Joe</td>\n",
       "        <td>987-65-4321</td>\n",
       "        <td>415-555-4000</td>\n",
       "        <td>Palo Alto</td>\n",
       "        <td>94306</td>\n",
       "    </tr>\n",
       "</table>"
      ],
      "text/plain": [
       "[(u'Fred', u'123-45-6789', u'650-555-1234', u'Palo Alto', 94306),\n",
       " (u'Fred', u'123-45-6789', u'650-555-2000', u'Palo Alto', 94306),\n",
       " (u'Joe', u'987-65-4321', u'415-555-3131', u'Palo Alto', 94306),\n",
       " (u'Joe', u'987-65-4321', u'415-555-4000', u'Palo Alto', 94306)]"
      ]
     },
     "execution_count": 4,
     "metadata": {},
     "output_type": "execute_result"
    }
   ],
   "source": [
    "%sql SELECT * FROM T;"
   ]
  },
  {
   "cell_type": "markdown",
   "metadata": {},
   "source": [
    "Given the following FDs:"
   ]
  },
  {
   "cell_type": "code",
   "execution_count": 5,
   "metadata": {
    "collapsed": true
   },
   "outputs": [],
   "source": [
    "A = set(['name', 'ssn', 'phone', 'city', 'zipcode'])\n",
    "F = [('city', 'zipcode'), ('ssn', set(['name', 'city']))]"
   ]
  }
 ],
 "metadata": {
  "kernelspec": {
   "display_name": "Python 2",
   "language": "python",
   "name": "python2"
  },
  "language_info": {
   "codemirror_mode": {
    "name": "ipython",
    "version": 2
   },
   "file_extension": ".py",
   "mimetype": "text/x-python",
   "name": "python",
   "nbconvert_exporter": "python",
   "pygments_lexer": "ipython2",
   "version": "2.7.10"
  }
 },
 "nbformat": 4,
 "nbformat_minor": 0
}
