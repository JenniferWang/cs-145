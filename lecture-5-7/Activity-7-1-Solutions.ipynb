{
 "cells": [
  {
   "cell_type": "markdown",
   "metadata": {},
   "source": [
    "Activity 7-1\n",
    "------------\n",
    "\n",
    "The goal for this activity will be to compute some BCNF decompositions, using the tools from last lecture\n",
    "\n",
    "First we'll load those tools, and some sample data:"
   ]
  },
  {
   "cell_type": "code",
   "execution_count": 1,
   "metadata": {
    "collapsed": true
   },
   "outputs": [],
   "source": [
    "def to_set(x):\n",
    "    if type(x) == set:\n",
    "        return x\n",
    "    elif type(x) in [list, set]:\n",
    "        return set(x)\n",
    "    elif type(x) in [str, int]:\n",
    "        return set([x])\n",
    "    else:\n",
    "        raise Exception(\"Unrecognized type.\")\n",
    "def fd_to_str((lhs,rhs)): return \",\".join(to_set(lhs)) + \" -> \" + \",\".join(to_set(rhs))\n",
    "def fds_to_str(fds): return \"\\n\\t\".join(map(fd_to_str, fds))\n",
    "def set_to_str(x): return \"{\" + \",\".join(x) + \"}\"\n",
    "def fd_applies_to(fd, x): \n",
    "    lhs, rhs = map(to_set, fd)\n",
    "    return lhs.issubset(x)\n",
    "def compute_closure(x, fds, verbose=False):\n",
    "    bChanged = True        # We will repeat until there are no changes.\n",
    "    x_ret    = to_set(x).copy()    # Make a copy of the input to hold x^{+}\n",
    "    while bChanged:\n",
    "        bChanged = False   # Must change on each iteration\n",
    "        for fd in fds:     # loop through all the FDs.\n",
    "            (lhs, rhs) = map(to_set, fd) # recall: lhs -> rhs\n",
    "            if fd_applies_to(fd, x_ret) and not rhs.issubset(x_ret):\n",
    "                x_ret = x_ret.union(rhs)\n",
    "                if verbose:\n",
    "                    print(\"Using FD \" + fd_to_str(fd))\n",
    "                    print(\"\\t Updated x to \" + set_to_str(x_ret))\n",
    "                bChanged = True\n",
    "    return x_ret\n",
    "def is_superkey_for(A, X, fds, verbose=False): \n",
    "    return X.issubset(compute_closure(A, fds, verbose=verbose))\n",
    "import itertools\n",
    "def is_key_for(A, X, fds, verbose=False):\n",
    "    subsets = set(itertools.combinations(A, len(A)-1))\n",
    "    return is_superkey_for(A, X, fds) and \\\n",
    "        all([not is_superkey_for(set(SA), X, fds) for SA in subsets])"
   ]
  },
  {
   "cell_type": "code",
   "execution_count": 2,
   "metadata": {
    "collapsed": false
   },
   "outputs": [
    {
     "name": "stderr",
     "output_type": "stream",
     "text": [
      "/Library/Python/2.7/site-packages/IPython/config.py:13: ShimWarning: The `IPython.config` package has been deprecated. You should import from traitlets.config instead.\n",
      "  \"You should import from traitlets.config instead.\", ShimWarning)\n",
      "/Library/Python/2.7/site-packages/IPython/utils/traitlets.py:5: UserWarning: IPython.utils.traitlets has moved to a top-level traitlets package.\n",
      "  warn(\"IPython.utils.traitlets has moved to a top-level traitlets package.\")\n"
     ]
    },
    {
     "data": {
      "text/plain": [
       "'Connected: None@None'"
      ]
     },
     "execution_count": 2,
     "metadata": {},
     "output_type": "execute_result"
    }
   ],
   "source": [
    "%load_ext sql\n",
    "%sql sqlite://"
   ]
  },
  {
   "cell_type": "code",
   "execution_count": 3,
   "metadata": {
    "collapsed": false
   },
   "outputs": [
    {
     "name": "stdout",
     "output_type": "stream",
     "text": [
      "Done.\n",
      "Done.\n",
      "1 rows affected.\n",
      "1 rows affected.\n",
      "1 rows affected.\n",
      "1 rows affected.\n"
     ]
    },
    {
     "data": {
      "text/plain": [
       "[]"
      ]
     },
     "execution_count": 3,
     "metadata": {},
     "output_type": "execute_result"
    }
   ],
   "source": [
    "%%sql drop table if exists T;\n",
    "create table T(name varchar, ssn varchar, phone varchar, city varchar, zipcode int);\n",
    "insert into T values ('Fred', '123-45-6789', '650-555-1234', 'Palo Alto', 94306);\n",
    "insert into T values ('Fred', '123-45-6789', '650-555-2000', 'Palo Alto', 94306);\n",
    "insert into T values ('Joe', '987-65-4321', '415-555-3131', 'Palo Alto', 94306);\n",
    "insert into T values ('Joe', '987-65-4321', '415-555-4000', 'Palo Alto', 94306);"
   ]
  },
  {
   "cell_type": "markdown",
   "metadata": {},
   "source": [
    "### Exercise 1\n",
    "\n",
    "Explicitly go through the steps of the BCNF algorithm using the `compute_closure` function above, then decompose the following table (i.e. by creating new SQL tables) into BCNF:"
   ]
  },
  {
   "cell_type": "code",
   "execution_count": 4,
   "metadata": {
    "collapsed": false
   },
   "outputs": [
    {
     "name": "stdout",
     "output_type": "stream",
     "text": [
      "Done.\n"
     ]
    },
    {
     "data": {
      "text/html": [
       "<table>\n",
       "    <tr>\n",
       "        <th>name</th>\n",
       "        <th>ssn</th>\n",
       "        <th>phone</th>\n",
       "        <th>city</th>\n",
       "        <th>zipcode</th>\n",
       "    </tr>\n",
       "    <tr>\n",
       "        <td>Fred</td>\n",
       "        <td>123-45-6789</td>\n",
       "        <td>650-555-1234</td>\n",
       "        <td>Palo Alto</td>\n",
       "        <td>94306</td>\n",
       "    </tr>\n",
       "    <tr>\n",
       "        <td>Fred</td>\n",
       "        <td>123-45-6789</td>\n",
       "        <td>650-555-2000</td>\n",
       "        <td>Palo Alto</td>\n",
       "        <td>94306</td>\n",
       "    </tr>\n",
       "    <tr>\n",
       "        <td>Joe</td>\n",
       "        <td>987-65-4321</td>\n",
       "        <td>415-555-3131</td>\n",
       "        <td>Palo Alto</td>\n",
       "        <td>94306</td>\n",
       "    </tr>\n",
       "    <tr>\n",
       "        <td>Joe</td>\n",
       "        <td>987-65-4321</td>\n",
       "        <td>415-555-4000</td>\n",
       "        <td>Palo Alto</td>\n",
       "        <td>94306</td>\n",
       "    </tr>\n",
       "</table>"
      ],
      "text/plain": [
       "[(u'Fred', u'123-45-6789', u'650-555-1234', u'Palo Alto', 94306),\n",
       " (u'Fred', u'123-45-6789', u'650-555-2000', u'Palo Alto', 94306),\n",
       " (u'Joe', u'987-65-4321', u'415-555-3131', u'Palo Alto', 94306),\n",
       " (u'Joe', u'987-65-4321', u'415-555-4000', u'Palo Alto', 94306)]"
      ]
     },
     "execution_count": 4,
     "metadata": {},
     "output_type": "execute_result"
    }
   ],
   "source": [
    "%sql SELECT * FROM T;"
   ]
  },
  {
   "cell_type": "markdown",
   "metadata": {},
   "source": [
    "Given the following FDs:"
   ]
  },
  {
   "cell_type": "code",
   "execution_count": 5,
   "metadata": {
    "collapsed": true
   },
   "outputs": [],
   "source": [
    "A = set(['name', 'ssn', 'phone', 'city', 'zipcode'])\n",
    "F = [('city', 'zipcode'), ('ssn', set(['name', 'city']))]"
   ]
  },
  {
   "cell_type": "code",
   "execution_count": 6,
   "metadata": {
    "collapsed": false
   },
   "outputs": [
    {
     "data": {
      "text/plain": [
       "{'city', 'name', 'ssn', 'zipcode'}"
      ]
     },
     "execution_count": 6,
     "metadata": {},
     "output_type": "execute_result"
    }
   ],
   "source": [
    "# We find an X s.t. X^+ != A and X^+ != X\n",
    "X = set(['ssn'])\n",
    "compute_closure(X, F)"
   ]
  },
  {
   "cell_type": "code",
   "execution_count": 7,
   "metadata": {
    "collapsed": true
   },
   "outputs": [],
   "source": [
    "Y = set(['city','name','zipcode'])\n",
    "Z = set(['phone'])"
   ]
  },
  {
   "cell_type": "markdown",
   "metadata": {},
   "source": [
    "We decompose into $T_1$ and $T_2$:"
   ]
  },
  {
   "cell_type": "code",
   "execution_count": 10,
   "metadata": {
    "collapsed": false
   },
   "outputs": [
    {
     "name": "stdout",
     "output_type": "stream",
     "text": [
      "Done.\n",
      "Done.\n",
      "Done.\n",
      "Done.\n"
     ]
    },
    {
     "data": {
      "text/plain": [
       "[]"
      ]
     },
     "execution_count": 10,
     "metadata": {},
     "output_type": "execute_result"
    }
   ],
   "source": [
    "%%sql\n",
    "DROP TABLE IF EXISTS T1; CREATE TABLE T1 AS SELECT ssn, name, city, zipcode FROM T;\n",
    "DROP TABLE IF EXISTS T2; CREATE TABLE T2 AS SELECT ssn, phone FROM T;"
   ]
  },
  {
   "cell_type": "code",
   "execution_count": 18,
   "metadata": {
    "collapsed": false
   },
   "outputs": [
    {
     "name": "stdout",
     "output_type": "stream",
     "text": [
      "Done.\n"
     ]
    },
    {
     "data": {
      "text/html": [
       "<table>\n",
       "    <tr>\n",
       "        <th>ssn</th>\n",
       "        <th>name</th>\n",
       "        <th>city</th>\n",
       "        <th>zipcode</th>\n",
       "    </tr>\n",
       "    <tr>\n",
       "        <td>123-45-6789</td>\n",
       "        <td>Fred</td>\n",
       "        <td>Palo Alto</td>\n",
       "        <td>94306</td>\n",
       "    </tr>\n",
       "    <tr>\n",
       "        <td>987-65-4321</td>\n",
       "        <td>Joe</td>\n",
       "        <td>Palo Alto</td>\n",
       "        <td>94306</td>\n",
       "    </tr>\n",
       "</table>"
      ],
      "text/plain": [
       "[(u'123-45-6789', u'Fred', u'Palo Alto', 94306),\n",
       " (u'987-65-4321', u'Joe', u'Palo Alto', 94306)]"
      ]
     },
     "execution_count": 18,
     "metadata": {},
     "output_type": "execute_result"
    }
   ],
   "source": [
    "%sql SELECT DISTINCT * FROM T1;"
   ]
  },
  {
   "cell_type": "code",
   "execution_count": 12,
   "metadata": {
    "collapsed": false
   },
   "outputs": [
    {
     "name": "stdout",
     "output_type": "stream",
     "text": [
      "Done.\n"
     ]
    },
    {
     "data": {
      "text/html": [
       "<table>\n",
       "    <tr>\n",
       "        <th>ssn</th>\n",
       "        <th>phone</th>\n",
       "    </tr>\n",
       "    <tr>\n",
       "        <td>123-45-6789</td>\n",
       "        <td>650-555-1234</td>\n",
       "    </tr>\n",
       "    <tr>\n",
       "        <td>123-45-6789</td>\n",
       "        <td>650-555-2000</td>\n",
       "    </tr>\n",
       "    <tr>\n",
       "        <td>987-65-4321</td>\n",
       "        <td>415-555-3131</td>\n",
       "    </tr>\n",
       "    <tr>\n",
       "        <td>987-65-4321</td>\n",
       "        <td>415-555-4000</td>\n",
       "    </tr>\n",
       "</table>"
      ],
      "text/plain": [
       "[(u'123-45-6789', u'650-555-1234'),\n",
       " (u'123-45-6789', u'650-555-2000'),\n",
       " (u'987-65-4321', u'415-555-3131'),\n",
       " (u'987-65-4321', u'415-555-4000')]"
      ]
     },
     "execution_count": 12,
     "metadata": {},
     "output_type": "execute_result"
    }
   ],
   "source": [
    "%sql SELECT * FROM T2;"
   ]
  },
  {
   "cell_type": "code",
   "execution_count": 13,
   "metadata": {
    "collapsed": false
   },
   "outputs": [
    {
     "data": {
      "text/plain": [
       "{'city', 'zipcode'}"
      ]
     },
     "execution_count": 13,
     "metadata": {},
     "output_type": "execute_result"
    }
   ],
   "source": [
    "# Next decomp:\n",
    "X = set(['city'])\n",
    "compute_closure(X, F)"
   ]
  },
  {
   "cell_type": "code",
   "execution_count": 14,
   "metadata": {
    "collapsed": true
   },
   "outputs": [],
   "source": [
    "Y = set(['zipcode'])\n",
    "Z = set(['ssn', 'name'])"
   ]
  },
  {
   "cell_type": "markdown",
   "metadata": {},
   "source": [
    "We decompose $T_1$ into $T_{11}$ and $T_{12}$:"
   ]
  },
  {
   "cell_type": "code",
   "execution_count": 15,
   "metadata": {
    "collapsed": false
   },
   "outputs": [
    {
     "name": "stdout",
     "output_type": "stream",
     "text": [
      "Done.\n",
      "Done.\n",
      "Done.\n",
      "Done.\n"
     ]
    },
    {
     "data": {
      "text/plain": [
       "[]"
      ]
     },
     "execution_count": 15,
     "metadata": {},
     "output_type": "execute_result"
    }
   ],
   "source": [
    "%%sql\n",
    "DROP TABLE IF EXISTS T11; CREATE TABLE T11 AS SELECT city, zipcode FROM T1;\n",
    "DROP TABLE IF EXISTS T12; CREATE TABLE T12 AS SELECT ssn, name, city FROM T1;"
   ]
  },
  {
   "cell_type": "code",
   "execution_count": 17,
   "metadata": {
    "collapsed": false
   },
   "outputs": [
    {
     "name": "stdout",
     "output_type": "stream",
     "text": [
      "Done.\n"
     ]
    },
    {
     "data": {
      "text/html": [
       "<table>\n",
       "    <tr>\n",
       "        <th>city</th>\n",
       "        <th>zipcode</th>\n",
       "    </tr>\n",
       "    <tr>\n",
       "        <td>Palo Alto</td>\n",
       "        <td>94306</td>\n",
       "    </tr>\n",
       "</table>"
      ],
      "text/plain": [
       "[(u'Palo Alto', 94306)]"
      ]
     },
     "execution_count": 17,
     "metadata": {},
     "output_type": "execute_result"
    }
   ],
   "source": [
    "%sql SELECT DISTINCT * FROM T11;"
   ]
  },
  {
   "cell_type": "code",
   "execution_count": 19,
   "metadata": {
    "collapsed": false
   },
   "outputs": [
    {
     "name": "stdout",
     "output_type": "stream",
     "text": [
      "Done.\n"
     ]
    },
    {
     "data": {
      "text/html": [
       "<table>\n",
       "    <tr>\n",
       "        <th>ssn</th>\n",
       "        <th>name</th>\n",
       "        <th>city</th>\n",
       "    </tr>\n",
       "    <tr>\n",
       "        <td>123-45-6789</td>\n",
       "        <td>Fred</td>\n",
       "        <td>Palo Alto</td>\n",
       "    </tr>\n",
       "    <tr>\n",
       "        <td>987-65-4321</td>\n",
       "        <td>Joe</td>\n",
       "        <td>Palo Alto</td>\n",
       "    </tr>\n",
       "</table>"
      ],
      "text/plain": [
       "[(u'123-45-6789', u'Fred', u'Palo Alto'),\n",
       " (u'987-65-4321', u'Joe', u'Palo Alto')]"
      ]
     },
     "execution_count": 19,
     "metadata": {},
     "output_type": "execute_result"
    }
   ],
   "source": [
    "%sql SELECT DISTINCT * FROM T12;"
   ]
  },
  {
   "cell_type": "code",
   "execution_count": null,
   "metadata": {
    "collapsed": true
   },
   "outputs": [],
   "source": []
  }
 ],
 "metadata": {
  "kernelspec": {
   "display_name": "Python 2",
   "language": "python",
   "name": "python2"
  },
  "language_info": {
   "codemirror_mode": {
    "name": "ipython",
    "version": 2
   },
   "file_extension": ".py",
   "mimetype": "text/x-python",
   "name": "python",
   "nbconvert_exporter": "python",
   "pygments_lexer": "ipython2",
   "version": "2.7.10"
  }
 },
 "nbformat": 4,
 "nbformat_minor": 0
}
