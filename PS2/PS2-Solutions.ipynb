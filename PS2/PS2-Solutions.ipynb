{
 "cells": [
  {
   "cell_type": "code",
   "execution_count": 2,
   "metadata": {
    "collapsed": false
   },
   "outputs": [
    {
     "name": "stderr",
     "output_type": "stream",
     "text": [
      "/Library/Python/2.7/site-packages/IPython/config.py:13: ShimWarning: The `IPython.config` package has been deprecated. You should import from traitlets.config instead.\n",
      "  \"You should import from traitlets.config instead.\", ShimWarning)\n",
      "/Library/Python/2.7/site-packages/IPython/utils/traitlets.py:5: UserWarning: IPython.utils.traitlets has moved to a top-level traitlets package.\n",
      "  warn(\"IPython.utils.traitlets has moved to a top-level traitlets package.\")\n"
     ]
    },
    {
     "data": {
      "text/plain": [
       "u'Connected: None@'"
      ]
     },
     "execution_count": 2,
     "metadata": {},
     "output_type": "execute_result"
    }
   ],
   "source": [
    "%load_ext sql\n",
    "%sql sqlite:///"
   ]
  },
  {
   "cell_type": "markdown",
   "metadata": {},
   "source": [
    "Problem Set 2\n",
    "=======\n",
    "\n",
    "\n",
    "### Instructions / Notes:\n",
    "\n",
    "**_Read these carefully_**\n",
    "\n",
    "* This problem set _does not_ come with a dataset to load; instead, make your own instances of tables, either as solutions to the problems or for testing solutions to the problems.\n",
    "* You **may** create new IPython notebook cells to use for e.g. testing, debugging, exploring, etc.- this is encouraged in fact!- **just make sure that your final answer for each question is _in its own cell_ and _clearly indicated_**\n",
    "* When you see `In [*]:` to the left of the cell you are executing, this means that the code / query is _running_.\n",
    "    * **If the cell is hanging- i.e. running for too long: To restart the SQL connection, you must restart the entire python kernel**\n",
    "    * To restart kernel using the menu bar: \"Kernel >> Restart >> Clear all outputs & restart\"), then re-execute the sql connection cell at top\n",
    "    * You will also need to restart the connection if you want to load a different version of the database file\n",
    "* Remember:\n",
    "    * `%sql [SQL]` is for _single line_ SQL queries\n",
    "    * `%%sql [SQL]` is for _multi line_ SQL queries\n",
    "* **See Piazza for submission instructions**\n",
    "* _Have fun!_"
   ]
  },
  {
   "cell_type": "markdown",
   "metadata": {},
   "source": [
    "Problem 1\n",
    "---------\n",
    "\n",
    "**_[20 points total]_**\n",
    "\n",
    "For each part of this problem you will need to provide a _single_ SQL query which will check whether a certain condition holds on a specific instance of a relation, in the following way: **your query should return an empty result if and only if the condition holds on the instance.**  (If the condition _doesn't hold_, your query should return something non-empty, but it doesn't matter what this is).\n",
    "\n",
    "Note our language here: the conditions that we specify cannot be proved to hold **in general** without knowing the externally-defined functional dependencies; so what we mean is, _check whether they **could** hold in general for the relation, given any specific set of tuples_.\n",
    "\n",
    "You may assume that there will be no `NULL` values in the tables, **and you may assume that the relations are _sets_ rather than multisets**, but otherwise your query should work for general instances.  We define the schemas of the tables used below for convenience, but in this problem you will need to construct your own test tables if you wish to use them to check your answers!"
   ]
  },
  {
   "cell_type": "code",
   "execution_count": 6,
   "metadata": {
    "collapsed": false
   },
   "outputs": [
    {
     "name": "stdout",
     "output_type": "stream",
     "text": [
      "Done.\n",
      "Done.\n",
      "Done.\n",
      "Done.\n",
      "Done.\n",
      "Done.\n",
      "Done.\n",
      "Done.\n"
     ]
    },
    {
     "data": {
      "text/plain": [
       "[]"
      ]
     },
     "execution_count": 6,
     "metadata": {},
     "output_type": "execute_result"
    }
   ],
   "source": [
    "%%sql\n",
    "DROP TABLE IF EXISTS T; CREATE TABLE T (A INT, B INT, C INT, D INT);\n",
    "DROP TABLE IF EXISTS Dog; CREATE TABLE Dog(dog_name TEXT, breed TEXT, owner_name TEXT);\n",
    "DROP TABLE IF EXISTS Owner; CREATE TABLE Owner(owner_name TEXT, ssn INT, hometown TEXT);\n",
    "DROP TABLE IF EXISTS S; CREATE TABLE S (A INT, B INT, C INT);"
   ]
  },
  {
   "cell_type": "markdown",
   "metadata": {},
   "source": [
    "### Part (a)\n",
    "\n",
    "**_[5 points]_**\n",
    "\n",
    "$\\{A, B\\}$ is a **superkey** for a relation $T(A,B,C,D)$."
   ]
  },
  {
   "cell_type": "code",
   "execution_count": 18,
   "metadata": {
    "collapsed": false
   },
   "outputs": [
    {
     "name": "stdout",
     "output_type": "stream",
     "text": [
      "Done.\n"
     ]
    },
    {
     "data": {
      "text/html": [
       "<table>\n",
       "    <tr>\n",
       "        <th>A</th>\n",
       "        <th>B</th>\n",
       "        <th>C</th>\n",
       "        <th>D</th>\n",
       "        <th>A_1</th>\n",
       "        <th>B_1</th>\n",
       "        <th>C_1</th>\n",
       "        <th>D_1</th>\n",
       "    </tr>\n",
       "</table>"
      ],
      "text/plain": [
       "[]"
      ]
     },
     "execution_count": 18,
     "metadata": {},
     "output_type": "execute_result"
    }
   ],
   "source": [
    "%%sql\n",
    "SELECT *\n",
    "FROM T AS T1, T AS T2\n",
    "WHERE T1.A = T2.A AND T1.B = T2.B\n",
    "    AND (T1.C <> T2.C OR T1.D <> T2.D);"
   ]
  },
  {
   "cell_type": "markdown",
   "metadata": {},
   "source": [
    "### Part (b)\n",
    "\n",
    "**_[5 points]_**\n",
    "\n",
    "The individual attributes of a relation $T(A,B,C,D)$ are each keys."
   ]
  },
  {
   "cell_type": "code",
   "execution_count": 19,
   "metadata": {
    "collapsed": false
   },
   "outputs": [
    {
     "name": "stdout",
     "output_type": "stream",
     "text": [
      "Done.\n"
     ]
    },
    {
     "data": {
      "text/html": [
       "<table>\n",
       "    <tr>\n",
       "        <th>A</th>\n",
       "        <th>B</th>\n",
       "        <th>C</th>\n",
       "        <th>D</th>\n",
       "        <th>A_1</th>\n",
       "        <th>B_1</th>\n",
       "        <th>C_1</th>\n",
       "        <th>D_1</th>\n",
       "    </tr>\n",
       "</table>"
      ],
      "text/plain": [
       "[]"
      ]
     },
     "execution_count": 19,
     "metadata": {},
     "output_type": "execute_result"
    }
   ],
   "source": [
    "%%sql\n",
    "SELECT *\n",
    "FROM T AS T1, T AS T2\n",
    "WHERE (T1.A = T2.A OR T1.B = T2.B OR T1.C = T2.C OR T1.D = T2.D)\n",
    "    AND (T1.A <> T2.A OR T1.B <> T2.B OR T1.C <> T2.C OR T1.D <> T2.D);"
   ]
  },
  {
   "cell_type": "markdown",
   "metadata": {},
   "source": [
    "### Part (c)\n",
    "\n",
    "**_[5 points]_**\n",
    "\n",
    "A **multivalued dependency (MVD)** is defined as follows: let $R$ be a schema i.e. a set of attributes, and consider two _sets of attributes_ $X\\subseteq R$ and $Y\\subseteq R$.  We say that a multivalued dependency (MVD), written:\n",
    "\n",
    "$X\\twoheadrightarrow Y$\n",
    "\n",
    "**holds on $R$** if whenever there are two tuples $t_1,t_2$ such that $t_1[X] = t_2[X]$, there also exists a third tuple $t_3$ such that:\n",
    "\n",
    "* $t_3[X] = t_1[X] = t_2[X]$\n",
    "* $t_3[Y] = t_1[Y]$\n",
    "* $t_3[R\\setminus Y] = t_2[R\\setminus Y]$\n",
    "\n",
    "Note that $R\\setminus Y$ is all the attributes in $R$ that are not in $Y$, and that $t_3$ need not be distinct from $t_1$ or $t_2$.  Note especially that an MVD holds on an entire _relation_, meaning that any two tuples (in any order) in the relation should satisfy the above conditions if the MVD holds.  **See the end of the lecture 7 slides for more on MVDs!**\n",
    "\n",
    "\n",
    "In this problem, write your query to check if the MVD $\\{A\\}\\twoheadrightarrow \\{B,D\\}$ holds for a relation $T(A,B,C,D)$"
   ]
  },
  {
   "cell_type": "code",
   "execution_count": 21,
   "metadata": {
    "collapsed": false
   },
   "outputs": [
    {
     "name": "stdout",
     "output_type": "stream",
     "text": [
      "Done.\n"
     ]
    },
    {
     "data": {
      "text/html": [
       "<table>\n",
       "    <tr>\n",
       "        <th>A</th>\n",
       "        <th>B</th>\n",
       "        <th>C</th>\n",
       "        <th>D</th>\n",
       "        <th>A_1</th>\n",
       "        <th>B_1</th>\n",
       "        <th>C_1</th>\n",
       "        <th>D_1</th>\n",
       "    </tr>\n",
       "</table>"
      ],
      "text/plain": [
       "[]"
      ]
     },
     "execution_count": 21,
     "metadata": {},
     "output_type": "execute_result"
    }
   ],
   "source": [
    "%%sql\n",
    "SELECT *\n",
    "FROM T AS T1, T AS T2\n",
    "WHERE T1.A = T2.A\n",
    "    AND NOT EXISTS (\n",
    "    SELECT *\n",
    "    FROM T AS T3\n",
    "    WHERE T1.A = T3.A AND T1.B = T3.B AND T1.D = T3.D\n",
    "        AND T2.C = T3.C\n",
    "    );"
   ]
  },
  {
   "cell_type": "markdown",
   "metadata": {},
   "source": [
    "### Part (d)\n",
    "\n",
    "**_[5 points]_**\n",
    "\n",
    "A _tuple-generating dependency (TGD)_ between two relations $A$ and $B$, having some shared attributes $X_1,...,X_n$, holds if, for every tuple $t_A$ in $A$, there is _some_ tuple $t_B$ in $B$ such that $t_A[X_i] = t_B[X_i]$ for $i=1,...n$.\n",
    "\n",
    "In other words, for every distinct tuple in $A$, there must exist a corresponding tuple in $B$, which has the same values of shared attributes.\n",
    "\n",
    "Consider two tables `Dog(dog_name, breed, owner_name)` and `Owner(owner_name, ssn, hometown)`; check for a TGD between them:"
   ]
  },
  {
   "cell_type": "code",
   "execution_count": 7,
   "metadata": {
    "collapsed": false
   },
   "outputs": [
    {
     "name": "stdout",
     "output_type": "stream",
     "text": [
      "Done.\n"
     ]
    },
    {
     "data": {
      "text/html": [
       "<table>\n",
       "    <tr>\n",
       "        <th>dog_name</th>\n",
       "        <th>breed</th>\n",
       "        <th>owner_name</th>\n",
       "    </tr>\n",
       "</table>"
      ],
      "text/plain": [
       "[]"
      ]
     },
     "execution_count": 7,
     "metadata": {},
     "output_type": "execute_result"
    }
   ],
   "source": [
    "%%sql\n",
    "SELECT * FROM Dog AS d\n",
    "WHERE NOT EXISTS (\n",
    "    SELECT * FROM Owner AS p\n",
    "    WHERE d.owner_name = p.owner_name);"
   ]
  },
  {
   "cell_type": "markdown",
   "metadata": {},
   "source": [
    "Problem 2\n",
    "---------\n",
    "\n",
    "**_[20 points total]_**\n",
    "\n",
    "### Part (a)\n",
    "\n",
    "**_[10 points]_**\n",
    "\n",
    "Consider a relation $R(A,B,C,D,E)$.  Provide _two different sets_ of functional dependencies, `F_1` and `F_2`, such that each one results in $R$ having the **largest number of distinct keys** $R$ could possibly have.\n",
    "\n",
    "Store your lists of FDs as python lists having elements that are _pairs of sets_; for example to set `F_1` as the set consisting of two FDs, $\\{A,B\\}\\rightarrow\\{C,D\\}$ and $\\{B\\}\\rightarrow\\{C\\}$:\n",
    "\n",
    "```python\n",
    "F_1 = [(set(['A','B']), set(['C','D'])), (set(['B']), set(['C']))]\n",
    "```\n",
    "\n",
    "*Note: the above is not necessarily one of the FDs- just an example of the syntax!\n",
    "\n",
    "*Hint: You may use any of the functions from the lecture activities if they seem helpful!  However your final answer should not involve these functions directly, nor are they necessary for this problem\n",
    "\n",
    "*Hint: See Activity 5-3..."
   ]
  },
  {
   "cell_type": "code",
   "execution_count": 1,
   "metadata": {
    "collapsed": true
   },
   "outputs": [],
   "source": [
    "F_1 = [\n",
    "    (set(['A', 'B']), set(['C','D','E'])),\n",
    "    (set(['A', 'C']), set(['B','D','E'])),\n",
    "    (set(['A', 'D']), set(['C','B','E'])),\n",
    "    (set(['A', 'E']), set(['C','D','B'])),\n",
    "    (set(['B', 'C']), set(['A','D','E'])),\n",
    "    (set(['B', 'D']), set(['A','C','E'])),\n",
    "    (set(['B', 'E']), set(['A','D','C'])),\n",
    "    (set(['C', 'D']), set(['A','B','E'])),\n",
    "    (set(['C', 'E']), set(['A','D','B'])),\n",
    "    (set(['D', 'E']), set(['A','B','C'])),\n",
    "]\n",
    "\n",
    "F_2 = [(rhs,lhs) for lhs,rhs in F_1]"
   ]
  },
  {
   "cell_type": "markdown",
   "metadata": {},
   "source": [
    "### Part (b)\n",
    "\n",
    "**_[10 points]_**\n",
    "\n",
    "Consider a schema $R(A_1,...,A_n)$ which has FDs $\\{A_i,A_{i+1}\\}\\rightarrow\\{A_{i+2}\\}$ for $i=1,...,n-2$.  Create an instance of $R$, for $n=4$, for which these FDs hold, and no other ones do- i.e. **all other FDs are violated.**\n",
    "\n",
    "Use a series of `INSERT` statements below to populate the table `R`:"
   ]
  },
  {
   "cell_type": "markdown",
   "metadata": {},
   "source": [
    "*Solution overview:*\n",
    "\n",
    "We need to make sure the following FDs are violated, and violated such that all of their split FDs are also each violated (in other words, for $\\{A\\}\\rightarrow\\{B,C\\}$, we want both $\\{A\\}\\rightarrow\\{B\\}$ and $\\{A\\}\\rightarrow\\{C\\}$ to be violated):\n",
    "\n",
    "* $A_1\\rightarrow\\{A_2,A_3,A_4\\}$\n",
    "* $\\{A_1,A_3\\}\\rightarrow\\{A_2,A_4\\}$\n",
    "* $\\{A_1,A_4\\}\\rightarrow\\{A_2,A_3\\}$\n",
    "* $\\{A_1,A_3,A_4\\}\\rightarrow A_2$\n",
    "* $A_2\\rightarrow\\{A_1,A_3,A_4\\}$\n",
    "* $\\{A_2,A_3\\}\\rightarrow\\ A_1$\n",
    "* $\\{A_2,A_4\\}\\rightarrow\\{A_1,A_3\\}$\n",
    "* $\\{A_2,A_3,A_4\\}\\rightarrow A_1$\n",
    "* $A_3\\rightarrow\\{A_1,A_2,A_4\\}$\n",
    "* $\\{A_3,A_4\\}\\rightarrow\\{A_1,A_2\\}$\n",
    "* $A_4\\rightarrow\\{A_1,A_2,A_3\\}$\n",
    "\n",
    "_One possible solution table is thus:_"
   ]
  },
  {
   "cell_type": "code",
   "execution_count": 10,
   "metadata": {
    "collapsed": false
   },
   "outputs": [
    {
     "name": "stdout",
     "output_type": "stream",
     "text": [
      "Done.\n",
      "Done.\n",
      "1 rows affected.\n",
      "1 rows affected.\n",
      "1 rows affected.\n",
      "1 rows affected.\n",
      "1 rows affected.\n",
      "1 rows affected.\n",
      "1 rows affected.\n",
      "1 rows affected.\n",
      "1 rows affected.\n",
      "1 rows affected.\n",
      "1 rows affected.\n",
      "1 rows affected.\n",
      "Done.\n"
     ]
    },
    {
     "data": {
      "text/html": [
       "<table>\n",
       "    <tr>\n",
       "        <th>A</th>\n",
       "        <th>B</th>\n",
       "        <th>C</th>\n",
       "        <th>D</th>\n",
       "    </tr>\n",
       "    <tr>\n",
       "        <td>0</td>\n",
       "        <td>0</td>\n",
       "        <td>0</td>\n",
       "        <td>0</td>\n",
       "    </tr>\n",
       "    <tr>\n",
       "        <td>0</td>\n",
       "        <td>1</td>\n",
       "        <td>1</td>\n",
       "        <td>1</td>\n",
       "    </tr>\n",
       "    <tr>\n",
       "        <td>0</td>\n",
       "        <td>2</td>\n",
       "        <td>0</td>\n",
       "        <td>2</td>\n",
       "    </tr>\n",
       "    <tr>\n",
       "        <td>0</td>\n",
       "        <td>3</td>\n",
       "        <td>3</td>\n",
       "        <td>0</td>\n",
       "    </tr>\n",
       "    <tr>\n",
       "        <td>0</td>\n",
       "        <td>4</td>\n",
       "        <td>0</td>\n",
       "        <td>0</td>\n",
       "    </tr>\n",
       "    <tr>\n",
       "        <td>5</td>\n",
       "        <td>0</td>\n",
       "        <td>5</td>\n",
       "        <td>5</td>\n",
       "    </tr>\n",
       "    <tr>\n",
       "        <td>6</td>\n",
       "        <td>0</td>\n",
       "        <td>0</td>\n",
       "        <td>6</td>\n",
       "    </tr>\n",
       "    <tr>\n",
       "        <td>7</td>\n",
       "        <td>0</td>\n",
       "        <td>7</td>\n",
       "        <td>0</td>\n",
       "    </tr>\n",
       "    <tr>\n",
       "        <td>8</td>\n",
       "        <td>0</td>\n",
       "        <td>0</td>\n",
       "        <td>0</td>\n",
       "    </tr>\n",
       "    <tr>\n",
       "        <td>9</td>\n",
       "        <td>9</td>\n",
       "        <td>0</td>\n",
       "        <td>9</td>\n",
       "    </tr>\n",
       "    <tr>\n",
       "        <td>10</td>\n",
       "        <td>10</td>\n",
       "        <td>0</td>\n",
       "        <td>0</td>\n",
       "    </tr>\n",
       "    <tr>\n",
       "        <td>11</td>\n",
       "        <td>11</td>\n",
       "        <td>11</td>\n",
       "        <td>0</td>\n",
       "    </tr>\n",
       "</table>"
      ],
      "text/plain": [
       "[(0, 0, 0, 0),\n",
       " (0, 1, 1, 1),\n",
       " (0, 2, 0, 2),\n",
       " (0, 3, 3, 0),\n",
       " (0, 4, 0, 0),\n",
       " (5, 0, 5, 5),\n",
       " (6, 0, 0, 6),\n",
       " (7, 0, 7, 0),\n",
       " (8, 0, 0, 0),\n",
       " (9, 9, 0, 9),\n",
       " (10, 10, 0, 0),\n",
       " (11, 11, 11, 0)]"
      ]
     },
     "execution_count": 10,
     "metadata": {},
     "output_type": "execute_result"
    }
   ],
   "source": [
    "%%sql\n",
    "DROP TABLE IF EXISTS R; \n",
    "CREATE TABLE R (A int, B int, C int, D int);\n",
    "INSERT INTO R VALUES (0, 0, 0, 0);\n",
    "INSERT INTO R VALUES (0, 1, 1, 1);\n",
    "INSERT INTO R VALUES (0, 2, 0, 2);\n",
    "INSERT INTO R VALUES (0, 3, 3, 0);\n",
    "INSERT INTO R VALUES (0, 4, 0, 0);\n",
    "INSERT INTO R VALUES (5, 0, 5, 5);\n",
    "INSERT INTO R VALUES (6, 0, 0, 6);\n",
    "INSERT INTO R VALUES (7, 0, 7, 0);\n",
    "INSERT INTO R VALUES (8, 0, 0, 0);\n",
    "INSERT INTO R VALUES (9, 9, 0, 9);\n",
    "INSERT INTO R VALUES (10, 10, 0, 0);\n",
    "INSERT INTO R VALUES (11, 11, 11, 0);\n",
    "SELECT * FROM R;"
   ]
  },
  {
   "cell_type": "markdown",
   "metadata": {},
   "source": [
    "Problem 3\n",
    "---------\n",
    "\n",
    "**_[20 points total]_**"
   ]
  },
  {
   "cell_type": "markdown",
   "metadata": {},
   "source": [
    "Consider a relation $R(X,Y,Z)$.  In each part of this problem you will be given a condition, and you need to create the following three instances of $R$ (as tables in SQL):\n",
    "\n",
    "1. An instance $A$\n",
    "2. An instance $B$ which differs from $A$ only in that it has one **_fewer_** row.\n",
    "3. An instance $C$ which differs from $A$ only in that it has one **_additional_** row."
   ]
  },
  {
   "cell_type": "markdown",
   "metadata": {},
   "source": [
    "### Part (a)\n",
    "\n",
    "**_[10 points]_**\n",
    "\n",
    "Create $A$, $B$ and $C$ such that each individual attribute is a key for $A$, but none of the individual attributes is a key for $B$ or $C$.  If you believe that $B$ and/or $C$ cannot be created, provide them as an empty table."
   ]
  },
  {
   "cell_type": "code",
   "execution_count": 1,
   "metadata": {
    "collapsed": false
   },
   "outputs": [
    {
     "name": "stderr",
     "output_type": "stream",
     "text": [
      "ERROR: Cell magic `%%sql` not found.\n"
     ]
    }
   ],
   "source": [
    "%%sql\n",
    "DROP TABLE IF EXISTS A;\n",
    "CREATE TABLE A (X INT, Y INT, Z INT);\n",
    "INSERT INTO A VALUES (0, 0, 0);\n",
    "INSERT INTO A VALUES (1, 1, 1);\n",
    "INSERT INTO A VALUES (2, 2, 2);\n",
    "\n",
    "DROP TABLE IF EXISTS B;\n",
    "CREATE TABLE B (X INT, Y INT, Z INT);\n",
    "\n",
    "DROP TABLE IF EXISTS C;\n",
    "CREATE TABLE C AS SELECT * FROM A;\n",
    "INSERT INTO C VALUES (0, 1, 2);"
   ]
  },
  {
   "cell_type": "markdown",
   "metadata": {},
   "source": [
    "### Part (b)\n",
    "\n",
    "**_[10 points]_**\n",
    "\n",
    "Create $A$, $B$ and $C$ such that the MVD $Z\\twoheadrightarrow X$ holds in $A$, but not in $B$ or $C$.  If you believe that $B$ and/or $C$ cannot be created, provide them as an empty table.\n",
    "\n"
   ]
  },
  {
   "cell_type": "code",
   "execution_count": 3,
   "metadata": {
    "collapsed": false
   },
   "outputs": [
    {
     "name": "stdout",
     "output_type": "stream",
     "text": [
      "Done.\n",
      "Done.\n",
      "1 rows affected.\n",
      "1 rows affected.\n",
      "1 rows affected.\n",
      "1 rows affected.\n",
      "Done.\n",
      "Done.\n",
      "(OperationalError) no such column: A u'DELETE FROM B WHERE A = 1 AND B = 0;' ()\n"
     ]
    }
   ],
   "source": [
    "%%sql\n",
    "DROP TABLE IF EXISTS A;\n",
    "CREATE TABLE A (X INT, Y INT, Z INT);\n",
    "INSERT INTO A VALUES (1, 0, 0);\n",
    "INSERT INTO A VALUES (0, 1, 0);\n",
    "INSERT INTO A VALUES (1, 1, 0);\n",
    "INSERT INTO A VALUES (0, 0, 0);\n",
    "\n",
    "DROP TABLE IF EXISTS B;\n",
    "CREATE TABLE B AS SELECT * FROM A;\n",
    "DELETE FROM B WHERE A = 1 AND B = 0;\n",
    "\n",
    "DROP TABLE IF EXISTS C;\n",
    "CREATE TABLE C AS SELECT * FROM A;\n",
    "INSERT INTO C VALUES (2, 0, 0);"
   ]
  },
  {
   "cell_type": "markdown",
   "metadata": {},
   "source": [
    "Bonus Problem:\n",
    "-------------\n",
    "\n",
    "**_[10 points]_**\n",
    "\n",
    "Prove the **transitivity rule for MVDs**\n",
    "\n",
    "If $A\\twoheadrightarrow B$ and $B\\twoheadrightarrow C$ $\\implies$ $A\\twoheadrightarrow C \\setminus B$\n",
    "\n",
    "using only the basic definition of an MVD; and where $A,B,C$ are _sets of_ attributes such that $A\\cup B\\cup C\\subseteq R$, where $R$ is the full set of attributes."
   ]
  },
  {
   "cell_type": "markdown",
   "metadata": {},
   "source": [
    "_Proof:_\n",
    "\n",
    "1. Suppose that we have two tuples $t_1,t_2$ such that $t_1[A] = t_2[A]$\n",
    "\n",
    "2. Because $A\\twoheadrightarrow B$, we know by the definition of an MVD that $\\exists t_3$ s.t.:\n",
    "    1. $t_3[A] = t_1[A] = t_2[A]$\n",
    "    2. $t_3[B] = t_1[B]$\n",
    "    3. $t_3[R\\setminus B]=t_2[R\\setminus B]$\n",
    "\n",
    "3. Since $B\\twoheadrightarrow C$, there also $\\exists t_4$ s.t.\n",
    "    1. $t_4[B] = t_1[B] = t_3[B]$\n",
    "    2. $t_4[C] = t_1[C]$\n",
    "    3. $t_4[R\\setminus C] = t_3[R\\setminus C]$\n",
    "\n",
    "4. To show that $A\\twoheadrightarrow C \\setminus B$, we would need to show that the following holds: Given $t_1[A] = t_3[A]$, there also $\\exists t_4$ s.t.:\n",
    "    1. $t_4[A] = t_1[A] = t_3[A]$\n",
    "    2. $t_4[C\\setminus B] = t_1[C\\setminus B]$\n",
    "    3. $t_4[R\\setminus (C\\setminus B)] = t_3[R\\setminus (C\\setminus B)]$"
   ]
  },
  {
   "cell_type": "markdown",
   "metadata": {},
   "source": [
    "We now show that the 4.A-4.C hold:\n",
    "\n",
    "4.A: We see that:\n",
    "\n",
    "1. $t_4[R\\setminus C] = t_3[R\\setminus C]$ (3.C)\n",
    "2. $\\implies t_4[A\\setminus C] = t_3[A\\setminus C] = t_1[A\\setminus C]$ (2.A)\n",
    "3. We also know that $t_4[C] = t_1[C]$ (3.B)\n",
    "4. $\\implies t_4[(A\\setminus C)\\cup C] = t_1[(A\\setminus C)\\cup C]$\n",
    "5. $\\implies t_4[A]=t_1[A]$\n",
    "\n",
    "4.B: $t_4[C] = t_1[C]$ (3.B) $\\implies t_4[C\\setminus B] = t_1[C\\setminus B]$\n",
    "\n",
    "4.C: We see that:\n",
    "\n",
    "1. $t_4[R\\setminus C] = t_3[R\\setminus C]$ (3.C)\n",
    "2. Also $t_4[B] = t_3[B]$ (3.A)\n",
    "3. $\\implies t_4[(R\\setminus C)\\cup B] = t_3[(R\\setminus C)\\cup B]$\n",
    "4. $\\implies t_4[R\\setminus (C\\setminus B)] = t_3[R\\setminus (C\\setminus B)]$\n",
    "$\\square$."
   ]
  },
  {
   "cell_type": "code",
   "execution_count": null,
   "metadata": {
    "collapsed": true
   },
   "outputs": [],
   "source": []
  }
 ],
 "metadata": {
  "kernelspec": {
   "display_name": "Python 2",
   "language": "python",
   "name": "python2"
  },
  "language_info": {
   "codemirror_mode": {
    "name": "ipython",
    "version": 2
   },
   "file_extension": ".py",
   "mimetype": "text/x-python",
   "name": "python",
   "nbconvert_exporter": "python",
   "pygments_lexer": "ipython2",
   "version": "2.7.10"
  }
 },
 "nbformat": 4,
 "nbformat_minor": 0
}
