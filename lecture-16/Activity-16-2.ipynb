{
 "cells": [
  {
   "cell_type": "markdown",
   "metadata": {},
   "source": [
    "### Note: You may need to install `markdown`:\n",
    "\n",
    "    pip install markdown"
   ]
  },
  {
   "cell_type": "code",
   "execution_count": 12,
   "metadata": {
    "collapsed": false
   },
   "outputs": [
    {
     "name": "stdout",
     "output_type": "stream",
     "text": [
      "The sql extension is already loaded. To reload it, use:\n",
      "  %reload_ext sql\n",
      "The autoreload extension is already loaded. To reload it, use:\n",
      "  %reload_ext autoreload\n"
     ]
    }
   ],
   "source": [
    "%load_ext sql\n",
    "%sql sqlite://\n",
    "\n",
    "%load_ext autoreload\n",
    "%autoreload 2\n",
    "\n",
    "# To help render markdown\n",
    "from IPython.core.display import display, HTML\n",
    "from markdown import markdown\n",
    "def render_markdown_raw(m): return display(HTML(markdown(m))) # must be last element of cell.\n",
    "def render_markdown(m): return render_markdown_raw(m.toMD())\n",
    "def cost_markdown(q): \n",
    "    q.reset_count()\n",
    "    get_result(q) # run the counters\n",
    "    return display(HTML(markdown(\"Total Reads: {0}\\n\\n\".format(q.total_count()) + q.toCount(0))))\n",
    "\n",
    "# import the relational algbera operators\n",
    "from relation_algebra import Select, Project, Union, NJoin, CrossProduct, BaseRelation\n",
    "from relation_algebra import get_result, compare_results\n",
    "\n",
    "from display_tools import side_by_side\n",
    "\n",
    "import random"
   ]
  },
  {
   "cell_type": "code",
   "execution_count": 6,
   "metadata": {
    "collapsed": false
   },
   "outputs": [
    {
     "name": "stdout",
     "output_type": "stream",
     "text": [
      "Done.\n",
      "Done.\n",
      "Done.\n",
      "Done.\n"
     ]
    },
    {
     "data": {
      "text/plain": [
       "[]"
      ]
     },
     "execution_count": 6,
     "metadata": {},
     "output_type": "execute_result"
    }
   ],
   "source": [
    "%%sql\n",
    "drop table if exists R; create table R(A int, B int);\n",
    "drop table if exists S; create table S(B int, C int);"
   ]
  },
  {
   "cell_type": "markdown",
   "metadata": {},
   "source": [
    "Activity 16-2: Relational Algebra & Logical Equivalence\n",
    "=============================\n",
    "\n"
   ]
  },
  {
   "cell_type": "markdown",
   "metadata": {},
   "source": [
    "We start by generating some sample data for relations $R$ and $S$, and then let's look at the following RA expression:"
   ]
  },
  {
   "cell_type": "code",
   "execution_count": 14,
   "metadata": {
    "collapsed": false
   },
   "outputs": [
    {
     "name": "stdout",
     "output_type": "stream",
     "text": [
      "1 rows affected.\n",
      "1 rows affected.\n",
      "1 rows affected.\n",
      "1 rows affected.\n",
      "1 rows affected.\n",
      "1 rows affected.\n",
      "1 rows affected.\n",
      "1 rows affected.\n",
      "1 rows affected.\n",
      "1 rows affected.\n",
      "1 rows affected.\n",
      "1 rows affected.\n",
      "1 rows affected.\n",
      "1 rows affected.\n",
      "1 rows affected.\n",
      "1 rows affected.\n",
      "1 rows affected.\n",
      "1 rows affected.\n",
      "1 rows affected.\n",
      "1 rows affected.\n",
      "1 rows affected.\n",
      "1 rows affected.\n",
      "1 rows affected.\n",
      "1 rows affected.\n",
      "1 rows affected.\n",
      "1 rows affected.\n",
      "1 rows affected.\n",
      "1 rows affected.\n",
      "1 rows affected.\n",
      "1 rows affected.\n",
      "1 rows affected.\n",
      "1 rows affected.\n",
      "1 rows affected.\n",
      "1 rows affected.\n",
      "1 rows affected.\n",
      "1 rows affected.\n",
      "1 rows affected.\n",
      "1 rows affected.\n",
      "1 rows affected.\n",
      "1 rows affected.\n",
      "1 rows affected.\n",
      "1 rows affected.\n",
      "1 rows affected.\n",
      "1 rows affected.\n",
      "1 rows affected.\n",
      "1 rows affected.\n",
      "1 rows affected.\n",
      "1 rows affected.\n",
      "1 rows affected.\n",
      "1 rows affected.\n"
     ]
    }
   ],
   "source": [
    "for b in range(0,5,1):\n",
    "    for a in range(0,10,2):\n",
    "        %sql INSERT INTO R VALUES (:a, :b);\n",
    "for b in range(0,5,1):\n",
    "    for c in range(0,10,2):\n",
    "        %sql INSERT INTO S VALUES (:b, :c);"
   ]
  },
  {
   "cell_type": "code",
   "execution_count": 15,
   "metadata": {
    "collapsed": false
   },
   "outputs": [
    {
     "name": "stdout",
     "output_type": "stream",
     "text": [
      "Done.\n",
      "Done.\n"
     ]
    },
    {
     "data": {
      "text/html": [
       "<p>$\\Pi_{B}$(( R(A,B) ) $\\Join_{B}$ ( S(B,C) ))</p>"
      ],
      "text/plain": [
       "<IPython.core.display.HTML object>"
      ]
     },
     "metadata": {},
     "output_type": "display_data"
    },
    {
     "name": "stdout",
     "output_type": "stream",
     "text": [
      "[(2,), (0,), (3,), (1,), (4,)]\n"
     ]
    }
   ],
   "source": [
    "r = %sql SELECT * FROM R;\n",
    "R = BaseRelation(r, name=\"R\")\n",
    "s = %sql SELECT * FROM S;\n",
    "S = BaseRelation(s, name=\"S\")\n",
    "\n",
    "x = Project([\"B\"], NJoin(R,S))\n",
    "render_markdown(x)\n",
    "print get_result(x)"
   ]
  },
  {
   "cell_type": "markdown",
   "metadata": {},
   "source": [
    "Let's look at what's going on under the hood:"
   ]
  },
  {
   "cell_type": "code",
   "execution_count": 16,
   "metadata": {
    "collapsed": false
   },
   "outputs": [
    {
     "data": {
      "text/html": [
       "<p>Total Reads: 2735</p>\n",
       "<ul>\n",
       "<li>$\\Pi_{['B']}$ [tuples read: 350 out: 5]<ul>\n",
       "<li>$\\Join_{B}$ [tuples read: 2295 out: 350]<ul>\n",
       "<li>R(A,B) has 45 tuples [tuples read: 45 out: 45]</li>\n",
       "<li>R(A,B) has 45 tuples [tuples read: 45 out: 45]</li>\n",
       "</ul>\n",
       "</li>\n",
       "</ul>\n",
       "</li>\n",
       "</ul>"
      ],
      "text/plain": [
       "<IPython.core.display.HTML object>"
      ]
     },
     "metadata": {},
     "output_type": "display_data"
    }
   ],
   "source": [
    "cost_markdown(x)"
   ]
  },
  {
   "cell_type": "markdown",
   "metadata": {},
   "source": [
    "### Exercise 1: Optimizing the IO Cost\n",
    "\n",
    "Can you find a logically equivalent form that uses fewer total reads?"
   ]
  },
  {
   "cell_type": "code",
   "execution_count": null,
   "metadata": {
    "collapsed": true
   },
   "outputs": [],
   "source": []
  },
  {
   "cell_type": "markdown",
   "metadata": {},
   "source": [
    "### Exercise 2: Transition point\n",
    "\n",
    "Can you find the transition point in the data where the original expression is actually cheaper than the new one you came up with?  You might want to try re-generating $R$ and $S$ to explore the space"
   ]
  },
  {
   "cell_type": "code",
   "execution_count": null,
   "metadata": {
    "collapsed": true
   },
   "outputs": [],
   "source": []
  }
 ],
 "metadata": {
  "kernelspec": {
   "display_name": "Python 2",
   "language": "python",
   "name": "python2"
  },
  "language_info": {
   "codemirror_mode": {
    "name": "ipython",
    "version": 2
   },
   "file_extension": ".py",
   "mimetype": "text/x-python",
   "name": "python",
   "nbconvert_exporter": "python",
   "pygments_lexer": "ipython2",
   "version": "2.7.10"
  }
 },
 "nbformat": 4,
 "nbformat_minor": 0
}
