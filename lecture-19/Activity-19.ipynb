{
 "cells": [
  {
   "cell_type": "markdown",
   "metadata": {},
   "source": [
    "Activity: Computing Fancy Averages\n",
    "==================\n",
    "In this activity, you're going to learn about stochastic gradient descent (SGD) a popular technique for machine learning and data analytics. For historical reasons is it also called (iGM) incremental gradient method.\n",
    "\n",
    "This workbook assumes some basic knowledge of derivatives. You will *not* be tested on this knowledge, and we will offer intuitive explanations."
   ]
  },
  {
   "cell_type": "code",
   "execution_count": 1,
   "metadata": {
    "collapsed": true
   },
   "outputs": [],
   "source": [
    "import numpy as np"
   ]
  },
  {
   "cell_type": "markdown",
   "metadata": {},
   "source": [
    "A simple example\n",
    "=========\n",
    "We'll keep it simple, but you'll get a sense of why these methods are useful! \n",
    "* Imagine we have a true parameter value $\\mu$, e.g., how much you kale.\n",
    "* We observe this value many times $N$ but always with some noise. We'll model this as _white noise_ or Gaussian random noise.\n",
    "* In fancy notation, our data looks like:\n",
    "$$y = \\mu + {\\mathcal N}(0,\\sigma^2)$$\n",
    "Let's see it in python"
   ]
  },
  {
   "cell_type": "code",
   "execution_count": 2,
   "metadata": {
    "collapsed": true
   },
   "outputs": [],
   "source": [
    "mu   = 5 # \"true\" value\n",
    "std  = 0.1 # deviation\n",
    "N    = 1000 # number of points \n",
    "data = [mu + np.random.normal(0,std) for i in range(N)]"
   ]
  },
  {
   "cell_type": "markdown",
   "metadata": {},
   "source": [
    "Recover the parameter\n",
    "============\n",
    "Our goal is to recover the value $\\mu$ from the observed data. Let's take a look at our data!"
   ]
  },
  {
   "cell_type": "code",
   "execution_count": 4,
   "metadata": {
    "collapsed": false
   },
   "outputs": [
    {
     "data": {
      "image/png": "[encoded data removed]",
      "text/plain": [
       "<matplotlib.figure.Figure at 0x107a23990>"
      ]
     },
     "metadata": {},
     "output_type": "display_data"
    }
   ],
   "source": [
    "%matplotlib inline\n",
    "import matplotlib.mlab as mlab\n",
    "import matplotlib.pyplot as plt\n",
    "\n",
    "# the histogram of the data\n",
    "n, bins, patches = plt.hist(data, 50, normed=1, facecolor='blue', alpha=0.75)"
   ]
  },
  {
   "cell_type": "markdown",
   "metadata": {},
   "source": [
    "Least squares\n",
    "========\n",
    "We'll set this problem up as a _least squares problem_.  Let $x$ be our predicted value (i.e. in the setup above, our prediction of $\\mu$), and let the $y_i$s be our observed noisy data points (i.e. our noisy observations of $\\mu$)\n",
    "\n",
    "We define $f(x)$ the _loss_ function for least squares (_one can see why it's given this name_) \n",
    "$$f(x) = \\sum_{i=1}^{n} (x - y_i)^2$$\n",
    "\n",
    "To match the notation in the lecture, we could also write:\n",
    "$$f(x) = \\sum_{i=1}^{n} f(x,y_i) \\text{ in which } f(x,y) = (x-y)^2$$\n",
    "\n",
    "Our goal is to find $x$ such that: \n",
    "$$\\min_{x} f(x) \\text{ or, equivalently, } \\min_{x} \\sum_{i=1}^{n} (x - y_i)^2$$\n",
    "\n",
    "Derivatives or Gradients\n",
    "-----------------------\n",
    "To do minimize we compute the derivative (gradient) with respect to $x$ as follows:\n",
    "$$\\nabla_x (x-y_i)^2 = 2(x-y_i)$$\n",
    "_recall_ that the derivative is the _direction_ of maximal increase. \n",
    "  * To convince yourself, observe that if $x > y_i$ then $(x-y_i) > 0$ and $(x-y_i)^2$ will get more positive if you _increase_ $x$.\n",
    "  * if $x < y_i$ then you should decrease $x$.\n",
    "\n",
    "and so the derivative with respect to $x$ is\n",
    "$$\\nabla_x f(x) = 2\\sum_{i=1}^{n} (x-y_i)$$\n",
    "\n",
    "* In this case, our problem is simple enough that we can solve $\\nabla_x f(x) = 0$ analytically:\n",
    "$$ x = \\frac{1}{N} \\sum_{i=1}^{n} y_i$$\n",
    "that is, $x$ is just the average of the $y_i$.\n",
    "\n",
    "* For more complicated loss functions, we won't be able to solve it analytically! But this is just so we know the right answer (and it illustrates our point).\n",
    "\n",
    "We'll use an iterative rule described below."
   ]
  },
  {
   "cell_type": "code",
   "execution_count": 5,
   "metadata": {
    "collapsed": true
   },
   "outputs": [],
   "source": [
    "# The above code in python.\n",
    "def loss(x,data): return sum([(x-y)^2 for y in data]) # the loss function\n",
    "def igrad(x,y): return 2*(x-y) # gradient of a particular term\n",
    "def grad(x,data): return sum(igrad(x,y) for y in data) # gradient of the entire thing."
   ]
  },
  {
   "cell_type": "markdown",
   "metadata": {},
   "source": [
    "Stochastic Gradient Descent\n",
    "===============\n",
    "\n",
    "We'll now use the algorithm from lecture to solve this.  _Recall_ that the idea is to estimate $\\nabla_x f(x) = 2\\sum_{i=1}^{n} (x-y_i)$ iteratively from just one random data point at a time:\n",
    "$$x^{(k+1)} = x^{(k)} - \\alpha_k \\nabla_x f_i(x^{(k)})$$\n",
    "or here\n",
    "$$x^{(k+1)} = x^{(k)} - 2 \\alpha_k (x^{(k)}-y_{\\zeta(i)})$$\n",
    "where $\\zeta(i)$ picks a term at random, $x^{(k)}$ is the $x$ value (our predicted value) at the $k$th step of the algorithm, and $\\alpha_k$ is our **step size**.\n",
    "\n",
    "**In other words, we'll try to estimate the average here one random value at a time, rather than by averaging over all the points at once, and we'll see how close we get to the true value...**\n",
    "\n",
    "We'll pick $\\alpha_k = \\frac{1}{k}$ we want it to shrink over time (but not too fast)."
   ]
  },
  {
   "cell_type": "code",
   "execution_count": 6,
   "metadata": {
    "collapsed": false
   },
   "outputs": [
    {
     "data": {
      "text/plain": [
       "[<matplotlib.lines.Line2D at 0x108c34d50>]"
      ]
     },
     "execution_count": 6,
     "metadata": {},
     "output_type": "execute_result"
    },
    {
     "data": {
      "image/png": "[encoded data removed]",
      "text/plain": [
       "<matplotlib.figure.Figure at 0x108b11710>"
      ]
     },
     "metadata": {},
     "output_type": "display_data"
    }
   ],
   "source": [
    "# our billion dollar algorithm!\n",
    "x = np.random.rand() # start at a random point\n",
    "import random\n",
    "S = 100 # take 100 steps, looking at 1/10th of the data\n",
    "old_x = np.zeros(S) # keep track of the old x\n",
    "\n",
    "# This is our inner loop!\n",
    "for i in range(S):\n",
    "    old_x[i] = x # record so we can plot it\n",
    "    zeta = random.randint(0,N-1)\n",
    "    x = x - 1/float(i+1)*igrad(x,data[zeta])\n",
    "\n",
    "# plot the values\n",
    "plt.plot(range(S),old_x)"
   ]
  },
  {
   "cell_type": "markdown",
   "metadata": {},
   "source": [
    "After just a few steps (without seeing all of the data), we have a pretty good estimate of the average!\n",
    "* Even if we go down to a few terms (set $S$ smaller!)\n",
    "* We didn't even look at the whole data set!"
   ]
  },
  {
   "cell_type": "markdown",
   "metadata": {
    "collapsed": true
   },
   "source": [
    "To Higher Dimensions! \n",
    "===========\n",
    "\n",
    "A more complex model in higher dimensions.\n",
    "* Let's do the same model in higher dimensions. \n",
    "* Our data are now a set of vectors $a_{i} \\in \\mathbb{R}^{p}$ and there are $N$ of them.\n",
    "* We can think of the data as being generated by a model like: \n",
    "$$a_{i}^{T} x = b_i + {\\cal N}(0,\\sigma^2)$$\n",
    "\n",
    "Our goal is to minimize:\n",
    "$$\\min_{x \\in \\mathbb{R}^{p}} \\sum_{i=i}^{n} (a_i^T x - b_i)^2$$\n"
   ]
  },
  {
   "cell_type": "code",
   "execution_count": 7,
   "metadata": {
    "collapsed": false
   },
   "outputs": [
    {
     "name": "stdout",
     "output_type": "stream",
     "text": [
      "[-0.46704859  0.37733945 -0.57162585  1.64705637 -0.26232195  2.39142199\n",
      " -0.49883672 -0.04951352  0.07907335 -1.95174819]\n"
     ]
    }
   ],
   "source": [
    "N = 1000 # data points\n",
    "p = 10   # total # of parameters\n",
    "mu = 0.01 # noise\n",
    "A = np.random.randn(N,p)  # matrix!\n",
    "x = np.random.randn(p)\n",
    "b = A*x + mu*np.random.randn(N,1)\n",
    "print x"
   ]
  },
  {
   "cell_type": "markdown",
   "metadata": {},
   "source": [
    "Recovery\n",
    "=====\n",
    "We see $A$, $b$ but not $x$. Our goal is again to recover $x$.\n",
    "\n",
    "Here our gradient requires a little fancier math:\n",
    "$$\\nabla_{x} (a_i^{T}x - b)^2 = 2(a_i^Tx - b)a_i^T$$\n",
    "\n",
    "If you know single variable calculus, you can convince yourself a single coordinate at a time."
   ]
  },
  {
   "cell_type": "code",
   "execution_count": 7,
   "metadata": {
    "collapsed": false
   },
   "outputs": [
    {
     "name": "stdout",
     "output_type": "stream",
     "text": [
      "The loss of original model 11.1998826376.\n",
      "The loss of our found model 13.0698139251.\n",
      "Their distance 1.19366304125\n"
     ]
    },
    {
     "data": {
      "image/png": "[encoded data removed]",
      "text/plain": [
       "<matplotlib.figure.Figure at 0x106d1ac90>"
      ]
     },
     "metadata": {},
     "output_type": "display_data"
    }
   ],
   "source": [
    "from numpy.linalg import norm\n",
    "def loss(x,A): return norm(A*x)**2/N # A quick way to write the loss function\n",
    "def igrad(x,a,b): return 2*(np.dot(a,x)-b)*a  # as described above\n",
    "\n",
    "S  = 1000 # number of steps we plan to do, one \"pass\" over the data\n",
    "x0 = np.random.randn(p)*0.1 # our initial guess (just random)\n",
    "\n",
    "old_loss = np.zeros(S) # Bookkeeping for plotting (keeping track of the value of the loss)\n",
    "\n",
    "# This is the business\n",
    "# This is our inner loop!\n",
    "for i in range(S):\n",
    "    old_loss[i] = loss(x0,A) # record so we can plot it\n",
    "    idx         = random.randint(0,N-1)\n",
    "    x0 = x0 - 1/float(i+1)*igrad(x0,A[idx,:],b[idx])\n",
    "    \n",
    "# plot the values\n",
    "plt.plot(range(S),old_loss)\n",
    "print \"The loss of original model {0}.\".format(loss(x, A))\n",
    "print \"The loss of our found model {0}.\".format(loss(x0,A)) \n",
    "print \"Their distance {0}\".format(norm(x - x0)**2)"
   ]
  },
  {
   "cell_type": "markdown",
   "metadata": {},
   "source": [
    "Discussion\n",
    "==========\n",
    "* We can again compute the exact solution here (same basic derivative argument, just careful with vectors)\n",
    "$$ \\left(A^TA\\right)^{-1} A^Tb = x $$\n",
    "\n",
    "  * However, that requires forming an inverse (takes $\\Omega(N^2)$ time!) \n",
    "  * Our quick and dirty method takes $O(N)$ time, but not a bad estimate for scanning the data once!\n",
    "  * When data is huge $N$ is huge, $N^2$ is truly large!\n",
    "\n",
    "Extensions\n",
    "======\n",
    "* We can use SGD in cases in which there is no analytic solution. Two examples\n",
    " * Logistic regression is ($y$ is the label in $\\{-1,1\\}$) for Logistic Regression \n",
    " $$f_i(x,a_i, y) = (1 + \\exp\\{-y x^Ta_i\\})^{-1}$$ \n",
    " * Support vector machine is called the _Hinge Loss_ for SVM\n",
    " $$f_i(x,a_i,y)  = \\max(0, 1-y(x^Ta_i))$$"
   ]
  },
  {
   "cell_type": "code",
   "execution_count": null,
   "metadata": {
    "collapsed": true
   },
   "outputs": [],
   "source": []
  }
 ],
 "metadata": {
  "kernelspec": {
   "display_name": "Python 2",
   "language": "python",
   "name": "python2"
  },
  "language_info": {
   "codemirror_mode": {
    "name": "ipython",
    "version": 2
   },
   "file_extension": ".py",
   "mimetype": "text/x-python",
   "name": "python",
   "nbconvert_exporter": "python",
   "pygments_lexer": "ipython2",
   "version": "2.7.10"
  }
 },
 "nbformat": 4,
 "nbformat_minor": 0
}
