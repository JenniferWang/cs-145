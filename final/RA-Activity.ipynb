{
 "cells": [
  {
   "cell_type": "markdown",
   "metadata": {},
   "source": [
    "### Note: You may need to install `markdown` for full display functionality:\n",
    "\n",
    "    pip install markdown\n",
    "    \n",
    "_If you can't load this, you will miss out on the rendered format of the relational algebra expressions, but otherwise everything should work_"
   ]
  },
  {
   "cell_type": "code",
   "execution_count": 1,
   "metadata": {
    "collapsed": false
   },
   "outputs": [
    {
     "name": "stderr",
     "output_type": "stream",
     "text": [
      "/Library/Python/2.7/site-packages/IPython/config.py:13: ShimWarning: The `IPython.config` package has been deprecated. You should import from traitlets.config instead.\n",
      "  \"You should import from traitlets.config instead.\", ShimWarning)\n",
      "/Library/Python/2.7/site-packages/IPython/utils/traitlets.py:5: UserWarning: IPython.utils.traitlets has moved to a top-level traitlets package.\n",
      "  warn(\"IPython.utils.traitlets has moved to a top-level traitlets package.\")\n"
     ]
    }
   ],
   "source": [
    "%load_ext sql\n",
    "%sql sqlite://\n",
    "\n",
    "%load_ext autoreload\n",
    "%autoreload 2\n",
    "\n",
    "# To help render markdown\n",
    "from IPython.core.display import display, HTML\n",
    "from markdown import markdown\n",
    "def render_markdown_raw(m): return display(HTML(markdown(m))) # must be last element of cell.\n",
    "def render_markdown(m): return render_markdown_raw(m.toMD())\n",
    "def cost_markdown(q): \n",
    "    q.reset_count()\n",
    "    get_result(q) # run the counters\n",
    "    return display(HTML(markdown(\"Total Reads: {0}\\n\\n\".format(q.total_count()) + q.toCount(0))))\n",
    "\n",
    "# import the relational algbera operators\n",
    "from relation_algebra import Select, Project, Union, Difference, NJoin, CrossProduct, BaseRelation\n",
    "from relation_algebra import get_result, compare_results\n",
    "\n",
    "import random"
   ]
  },
  {
   "cell_type": "markdown",
   "metadata": {},
   "source": [
    "Relational Algebra: Practice Notebook\n",
    "====================\n",
    "\n",
    "Since we didn't get to cover relational algebra (RA) on a problem set, we're providing this notebook so you can get some practice in before the final exam.  Solutions will be posted in a separate notebook- try doing these on your own first, then take a look at the solutions to check your understanding!\n",
    "\n",
    "In particular, you should understand:\n",
    "* How to go from SQL query -> RA expression\n",
    "* How to go from RA expression -> SQL query\n",
    "* How to optimize an RA expression by commuting operators\n",
    "\n",
    "**_Note that some of the problems here will be slightly more involved than what would be on the exam!_**\n",
    "\n",
    "### Generating test instances\n",
    "\n",
    "Below, we create four test relations and populate them with values- you can and should play around with different test instances!"
   ]
  },
  {
   "cell_type": "code",
   "execution_count": 2,
   "metadata": {
    "collapsed": false
   },
   "outputs": [
    {
     "name": "stdout",
     "output_type": "stream",
     "text": [
      "Done.\n",
      "Done.\n",
      "Done.\n",
      "Done.\n",
      "Done.\n",
      "Done.\n",
      "Done.\n",
      "Done.\n"
     ]
    },
    {
     "data": {
      "text/plain": [
       "[]"
      ]
     },
     "execution_count": 2,
     "metadata": {},
     "output_type": "execute_result"
    }
   ],
   "source": [
    "%%sql\n",
    "drop table if exists R; create table R(A int, B int);\n",
    "drop table if exists S; create table S(B int, C int);\n",
    "drop table if exists T; create table T(C int, D int);\n",
    "drop table if exists U; create table U(D int, E int);"
   ]
  },
  {
   "cell_type": "code",
   "execution_count": 3,
   "metadata": {
    "collapsed": false
   },
   "outputs": [
    {
     "name": "stdout",
     "output_type": "stream",
     "text": [
      "1 rows affected.\n",
      "1 rows affected.\n",
      "1 rows affected.\n",
      "1 rows affected.\n",
      "1 rows affected.\n",
      "1 rows affected.\n",
      "1 rows affected.\n",
      "1 rows affected.\n",
      "1 rows affected.\n",
      "1 rows affected.\n",
      "1 rows affected.\n",
      "1 rows affected.\n",
      "1 rows affected.\n",
      "1 rows affected.\n",
      "1 rows affected.\n",
      "1 rows affected.\n",
      "1 rows affected.\n",
      "1 rows affected.\n",
      "1 rows affected.\n",
      "1 rows affected.\n",
      "1 rows affected.\n",
      "1 rows affected.\n",
      "1 rows affected.\n",
      "1 rows affected.\n",
      "1 rows affected.\n",
      "1 rows affected.\n",
      "1 rows affected.\n",
      "1 rows affected.\n",
      "1 rows affected.\n",
      "1 rows affected.\n",
      "1 rows affected.\n",
      "1 rows affected.\n",
      "1 rows affected.\n",
      "1 rows affected.\n",
      "1 rows affected.\n",
      "1 rows affected.\n",
      "1 rows affected.\n",
      "1 rows affected.\n",
      "1 rows affected.\n",
      "1 rows affected.\n",
      "1 rows affected.\n",
      "1 rows affected.\n",
      "1 rows affected.\n",
      "1 rows affected.\n",
      "1 rows affected.\n",
      "1 rows affected.\n",
      "1 rows affected.\n",
      "1 rows affected.\n",
      "1 rows affected.\n",
      "1 rows affected.\n",
      "1 rows affected.\n",
      "1 rows affected.\n",
      "1 rows affected.\n",
      "1 rows affected.\n",
      "1 rows affected.\n",
      "1 rows affected.\n",
      "1 rows affected.\n",
      "1 rows affected.\n",
      "1 rows affected.\n",
      "1 rows affected.\n",
      "1 rows affected.\n",
      "1 rows affected.\n",
      "1 rows affected.\n",
      "1 rows affected.\n",
      "1 rows affected.\n",
      "1 rows affected.\n",
      "1 rows affected.\n",
      "1 rows affected.\n",
      "1 rows affected.\n",
      "1 rows affected.\n",
      "1 rows affected.\n",
      "1 rows affected.\n",
      "1 rows affected.\n",
      "1 rows affected.\n",
      "1 rows affected.\n",
      "1 rows affected.\n",
      "1 rows affected.\n",
      "1 rows affected.\n",
      "1 rows affected.\n",
      "1 rows affected.\n",
      "1 rows affected.\n",
      "1 rows affected.\n",
      "1 rows affected.\n",
      "1 rows affected.\n",
      "1 rows affected.\n",
      "1 rows affected.\n",
      "1 rows affected.\n",
      "1 rows affected.\n",
      "1 rows affected.\n",
      "1 rows affected.\n",
      "1 rows affected.\n",
      "1 rows affected.\n",
      "1 rows affected.\n",
      "1 rows affected.\n",
      "1 rows affected.\n"
     ]
    }
   ],
   "source": [
    "for x in range(0,10,2):\n",
    "    for y in range(0,10,3):\n",
    "        %sql INSERT INTO R VALUES (:x, :y);\n",
    "for x in range(0,20,4):\n",
    "    for y in range(0,10,2):\n",
    "        %sql INSERT INTO S VALUES (:x, :y);\n",
    "for x in range(0,5,1):\n",
    "    for y in range(0,10,2):\n",
    "        %sql INSERT INTO T VALUES (:x, :y);\n",
    "for x in range(0,10,2):\n",
    "    for y in range(0,5,1):\n",
    "        %sql INSERT INTO U VALUES (:x, :y);"
   ]
  },
  {
   "cell_type": "markdown",
   "metadata": {},
   "source": [
    "## 1. Tutorial: Relational Algebra Python Toolkit\n",
    "\n",
    "We'll use a python toolkit we made to play around with RA.  We'll get started with a quick tutorial, but the syntax should also be pretty intuitive (feel free to look at the source code too!)\n",
    "\n",
    "**NOTE: Knowing how to use this toolkit is not necessary for the final- just for using this notebook!**\n",
    "\n",
    "#### BaseRelation class\n",
    "\n",
    "Recall that in our RA operations we'll deal with sets; to get started, we need to take SQL output and turn it into a `BaseRelation` object, which we can optionally name:"
   ]
  },
  {
   "cell_type": "code",
   "execution_count": 4,
   "metadata": {
    "collapsed": false
   },
   "outputs": [
    {
     "name": "stdout",
     "output_type": "stream",
     "text": [
      "Done.\n",
      "Done.\n",
      "Done.\n",
      "Done.\n"
     ]
    }
   ],
   "source": [
    "r = %sql SELECT * FROM R;\n",
    "R = BaseRelation(r, name=\"R\")\n",
    "\n",
    "s = %sql SELECT * FROM S;\n",
    "S = BaseRelation(s, name=\"S\")\n",
    "\n",
    "t = %sql SELECT * FROM T;\n",
    "T = BaseRelation(t, name=\"T\")\n",
    "\n",
    "u = %sql SELECT * FROM U;\n",
    "U = BaseRelation(u, name=\"U\")"
   ]
  },
  {
   "cell_type": "markdown",
   "metadata": {},
   "source": [
    "For **all operators in our toolkit**, we can use `get_result` to see the set we have:"
   ]
  },
  {
   "cell_type": "code",
   "execution_count": 5,
   "metadata": {
    "collapsed": false
   },
   "outputs": [
    {
     "name": "stdout",
     "output_type": "stream",
     "text": [
      "[(0, 0), (0, 3), (0, 6), (0, 9), (2, 0), (2, 3), (2, 6), (2, 9), (4, 0), (4, 3), (4, 6), (4, 9), (6, 0), (6, 3), (6, 6), (6, 9), (8, 0), (8, 3), (8, 6), (8, 9)]\n"
     ]
    }
   ],
   "source": [
    "print get_result(R)"
   ]
  },
  {
   "cell_type": "markdown",
   "metadata": {},
   "source": [
    "And (again **for all operators in our toolkit**) we can use `render_markdown(R)`\n",
    "\n",
    "**_NOTE: This function requires that you have installed the `markdown` python library.  It's just for this function / pretty printing, so if you weren't able to install this library, don't worry!_**"
   ]
  },
  {
   "cell_type": "code",
   "execution_count": 6,
   "metadata": {
    "collapsed": false
   },
   "outputs": [
    {
     "data": {
      "text/html": [
       "<p>R(A,B)</p>"
      ],
      "text/plain": [
       "<IPython.core.display.HTML object>"
      ]
     },
     "metadata": {},
     "output_type": "display_data"
    }
   ],
   "source": [
    "render_markdown(R)"
   ]
  },
  {
   "cell_type": "markdown",
   "metadata": {},
   "source": [
    "### Basic Operators"
   ]
  },
  {
   "cell_type": "markdown",
   "metadata": {},
   "source": [
    "#### Selection\n",
    "\n",
    "_Note that in the current version of our RA toolkit, only equality selection is supported_"
   ]
  },
  {
   "cell_type": "code",
   "execution_count": 7,
   "metadata": {
    "collapsed": false
   },
   "outputs": [
    {
     "data": {
      "text/html": [
       "<p>$\\sigma_{A=2}$(R(A,B))</p>"
      ],
      "text/plain": [
       "<IPython.core.display.HTML object>"
      ]
     },
     "metadata": {},
     "output_type": "display_data"
    },
    {
     "name": "stdout",
     "output_type": "stream",
     "text": [
      "[(2, 0), (2, 3), (2, 6), (2, 9)]\n"
     ]
    }
   ],
   "source": [
    "x = Select(\"A\", 2, R)\n",
    "render_markdown(x)\n",
    "print get_result(x)"
   ]
  },
  {
   "cell_type": "markdown",
   "metadata": {},
   "source": [
    "#### Projection"
   ]
  },
  {
   "cell_type": "code",
   "execution_count": 8,
   "metadata": {
    "collapsed": false
   },
   "outputs": [
    {
     "data": {
      "text/html": [
       "<p>$\\Pi_{A}$(R(A,B))</p>"
      ],
      "text/plain": [
       "<IPython.core.display.HTML object>"
      ]
     },
     "metadata": {},
     "output_type": "display_data"
    },
    {
     "name": "stdout",
     "output_type": "stream",
     "text": [
      "[(2,), (8,), (0,), (6,), (4,)]\n"
     ]
    }
   ],
   "source": [
    "x = Project([\"A\"], R)\n",
    "render_markdown(x)\n",
    "print get_result(x)"
   ]
  },
  {
   "cell_type": "markdown",
   "metadata": {},
   "source": [
    "#### Cross-Product\n",
    "\n",
    "_Note that the schemas of the two input expressions must be **distinct**_"
   ]
  },
  {
   "cell_type": "code",
   "execution_count": 9,
   "metadata": {
    "collapsed": false
   },
   "outputs": [
    {
     "data": {
      "text/html": [
       "<p>R(A,B) $\\times$ T(C,D)</p>"
      ],
      "text/plain": [
       "<IPython.core.display.HTML object>"
      ]
     },
     "metadata": {},
     "output_type": "display_data"
    }
   ],
   "source": [
    "x = CrossProduct(R,T)\n",
    "render_markdown(x)\n",
    "# Warning- generates a lot of output!\n",
    "# print get_result(x)"
   ]
  },
  {
   "cell_type": "markdown",
   "metadata": {},
   "source": [
    "#### Union\n",
    "\n",
    "_Note that the schemas of the two input expressions must be **the same**_"
   ]
  },
  {
   "cell_type": "code",
   "execution_count": 10,
   "metadata": {
    "collapsed": false
   },
   "outputs": [
    {
     "data": {
      "text/html": [
       "<p>( $\\sigma_{A=0}$(R(A,B)) ) $\\bigcup$ ( $\\sigma_{A=4}$(R(A,B)) )</p>"
      ],
      "text/plain": [
       "<IPython.core.display.HTML object>"
      ]
     },
     "metadata": {},
     "output_type": "display_data"
    },
    {
     "name": "stdout",
     "output_type": "stream",
     "text": [
      "[(0, 0), (4, 9), (4, 6), (0, 6), (4, 3), (0, 9), (0, 3), (4, 0)]\n"
     ]
    }
   ],
   "source": [
    "x = Union(Select(\"A\",0,R), Select(\"A\",4,R))\n",
    "render_markdown(x)\n",
    "print get_result(x)"
   ]
  },
  {
   "cell_type": "markdown",
   "metadata": {},
   "source": [
    "#### Difference\n",
    "\n",
    "_Note that the schemas of the two input expressions must be **the same**_"
   ]
  },
  {
   "cell_type": "code",
   "execution_count": 11,
   "metadata": {
    "collapsed": false
   },
   "outputs": [
    {
     "data": {
      "text/html": [
       "<p>( R(A,B) ) - ( $\\sigma_{A=0}$(R(A,B)) )</p>"
      ],
      "text/plain": [
       "<IPython.core.display.HTML object>"
      ]
     },
     "metadata": {},
     "output_type": "display_data"
    },
    {
     "name": "stdout",
     "output_type": "stream",
     "text": [
      "[(6, 3), (6, 9), (2, 6), (4, 9), (4, 6), (2, 9), (6, 6), (8, 0), (6, 0), (8, 9), (2, 0), (2, 3), (8, 3), (4, 3), (8, 6), (4, 0)]\n"
     ]
    }
   ],
   "source": [
    "x = Difference(R, Select(\"A\", 0, R))\n",
    "render_markdown(x)\n",
    "print get_result(x)"
   ]
  },
  {
   "cell_type": "markdown",
   "metadata": {},
   "source": [
    "#### Natural Join"
   ]
  },
  {
   "cell_type": "code",
   "execution_count": 12,
   "metadata": {
    "collapsed": false
   },
   "outputs": [
    {
     "data": {
      "text/html": [
       "<p>( R(A,B) ) $\\Join_{B}$ ( S(B,C) )</p>"
      ],
      "text/plain": [
       "<IPython.core.display.HTML object>"
      ]
     },
     "metadata": {},
     "output_type": "display_data"
    },
    {
     "name": "stdout",
     "output_type": "stream",
     "text": [
      "[(0, 0, 0), (0, 0, 2), (0, 0, 4), (0, 0, 6), (0, 0, 8), (2, 0, 0), (2, 0, 2), (2, 0, 4), (2, 0, 6), (2, 0, 8), (4, 0, 0), (4, 0, 2), (4, 0, 4), (4, 0, 6), (4, 0, 8), (6, 0, 0), (6, 0, 2), (6, 0, 4), (6, 0, 6), (6, 0, 8), (8, 0, 0), (8, 0, 2), (8, 0, 4), (8, 0, 6), (8, 0, 8)]\n"
     ]
    }
   ],
   "source": [
    "x = NJoin(R, S)\n",
    "render_markdown(x)\n",
    "print get_result(x)"
   ]
  },
  {
   "cell_type": "markdown",
   "metadata": {},
   "source": [
    "### Compositionality\n",
    "\n",
    "Most importantly, these operators are all compositional, so you can pass them in as inputs to each other (as we already did with passing `BaseRelation` into the operators above)!"
   ]
  },
  {
   "cell_type": "code",
   "execution_count": 13,
   "metadata": {
    "collapsed": false
   },
   "outputs": [
    {
     "data": {
      "text/html": [
       "<p>$\\Pi_{A}$($\\sigma_{A=0}$(R(A,B)))</p>"
      ],
      "text/plain": [
       "<IPython.core.display.HTML object>"
      ]
     },
     "metadata": {},
     "output_type": "display_data"
    },
    {
     "name": "stdout",
     "output_type": "stream",
     "text": [
      "[(0,)]\n"
     ]
    }
   ],
   "source": [
    "x = Project([\"A\"], Select(\"A\", 0, R))\n",
    "render_markdown(x)\n",
    "print get_result(x)"
   ]
  },
  {
   "cell_type": "markdown",
   "metadata": {},
   "source": [
    "#### Checking equivalence\n",
    "\n",
    "You can use the `compare_results` function to check whether two different RA expressions produce the same result set.  Note that this means you can also compare an RA expression with a SQL query (just put the SQL query result into a `BaseRelation` class)"
   ]
  },
  {
   "cell_type": "code",
   "execution_count": 14,
   "metadata": {
    "collapsed": false
   },
   "outputs": [
    {
     "data": {
      "text/html": [
       "<p>$\\Pi_{A}$($\\sigma_{A=0}$(R(A,B)))</p>"
      ],
      "text/plain": [
       "<IPython.core.display.HTML object>"
      ]
     },
     "metadata": {},
     "output_type": "display_data"
    },
    {
     "data": {
      "text/html": [
       "<p>$\\sigma_{A=0}$($\\Pi_{A}$(R(A,B)))</p>"
      ],
      "text/plain": [
       "<IPython.core.display.HTML object>"
      ]
     },
     "metadata": {},
     "output_type": "display_data"
    },
    {
     "data": {
      "text/plain": [
       "True"
      ]
     },
     "execution_count": 14,
     "metadata": {},
     "output_type": "execute_result"
    }
   ],
   "source": [
    "x = Project([\"A\"], Select(\"A\", 0, R))\n",
    "render_markdown(x)\n",
    "\n",
    "y = Select(\"A\", 0, Project([\"A\"], R))\n",
    "render_markdown(y)\n",
    "\n",
    "compare_results(x,y)"
   ]
  },
  {
   "cell_type": "markdown",
   "metadata": {},
   "source": [
    "## 2. SQL -> RA\n",
    "\n",
    "Let's go through some examples where we'll translate SQL to Relational Algebra- note you can use the tools to debug / test your answers\n",
    "\n",
    "**For each of the below queries, translate them from SQL into RA, then check for equivalence using the `compare_results` function:**"
   ]
  },
  {
   "cell_type": "markdown",
   "metadata": {},
   "source": [
    "### Exercise 2(a)"
   ]
  },
  {
   "cell_type": "code",
   "execution_count": null,
   "metadata": {
    "collapsed": false
   },
   "outputs": [],
   "source": [
    "%%sql\n",
    "SELECT DISTINCT *\n",
    "FROM R\n",
    "WHERE R.A = 2;"
   ]
  },
  {
   "cell_type": "code",
   "execution_count": null,
   "metadata": {
    "collapsed": false
   },
   "outputs": [],
   "source": [
    "X = %sql SELECT DISTINCT * FROM R WHERE R.A = 2;\n",
    "x = BaseRelation(X)\n",
    "\n",
    "# Your RA expression here\n",
    "y = \n",
    "render_markdown(y)\n",
    "\n",
    "# Compare results here\n",
    "compare_results(x,y)"
   ]
  },
  {
   "cell_type": "markdown",
   "metadata": {},
   "source": [
    "### Exercise 2(b)"
   ]
  },
  {
   "cell_type": "code",
   "execution_count": null,
   "metadata": {
    "collapsed": true
   },
   "outputs": [],
   "source": [
    "%%sql\n",
    "SELECT DISTINCT S.B\n",
    "FROM S\n",
    "WHERE S.C = 4;"
   ]
  },
  {
   "cell_type": "code",
   "execution_count": null,
   "metadata": {
    "collapsed": false
   },
   "outputs": [],
   "source": [
    "X = %sql SELECT DISTINCT S.B FROM S WHERE S.C = 4;\n",
    "x = BaseRelation(X)\n",
    "\n",
    "# Your RA expression here\n",
    "y = \n",
    "render_markdown(y)\n",
    "\n",
    "# Compare results here\n",
    "compare_results(x,y)"
   ]
  },
  {
   "cell_type": "markdown",
   "metadata": {},
   "source": [
    "### Exercise 2(c)"
   ]
  },
  {
   "cell_type": "code",
   "execution_count": null,
   "metadata": {
    "collapsed": false
   },
   "outputs": [],
   "source": [
    "%%sql\n",
    "SELECT DISTINCT R.A, S.C\n",
    "FROM R, S\n",
    "WHERE R.B = S.B;"
   ]
  },
  {
   "cell_type": "code",
   "execution_count": null,
   "metadata": {
    "collapsed": false
   },
   "outputs": [],
   "source": [
    "X = %sql SELECT DISTINCT R.A, S.C FROM R, S WHERE R.B = S.B;\n",
    "x = BaseRelation(X)\n",
    "\n",
    "# Your RA expression here\n",
    "y = \n",
    "render_markdown(y)\n",
    "\n",
    "# Compare results here\n",
    "compare_results(x,y)"
   ]
  },
  {
   "cell_type": "markdown",
   "metadata": {},
   "source": [
    "### Exercise 2(d)"
   ]
  },
  {
   "cell_type": "code",
   "execution_count": null,
   "metadata": {
    "collapsed": false
   },
   "outputs": [],
   "source": [
    "%%sql\n",
    "SELECT DISTINCT R.A, T.D\n",
    "FROM R, S, T\n",
    "WHERE R.B = S.B AND S.C = T.C AND R.A = 2 AND S.B = 0;"
   ]
  },
  {
   "cell_type": "code",
   "execution_count": null,
   "metadata": {
    "collapsed": false
   },
   "outputs": [],
   "source": [
    "X = %sql SELECT DISTINCT R.A, T.D FROM R, S, T WHERE R.B = S.B AND S.C = T.C AND R.A = 2 AND S.B = 0;\n",
    "x = BaseRelation(X)\n",
    "\n",
    "# Your RA expression here\n",
    "y = \n",
    "render_markdown(y)\n",
    "\n",
    "# Compare results here\n",
    "compare_results(x,y)"
   ]
  },
  {
   "cell_type": "markdown",
   "metadata": {},
   "source": [
    "### Exercise 2(e)"
   ]
  },
  {
   "cell_type": "code",
   "execution_count": null,
   "metadata": {
    "collapsed": true
   },
   "outputs": [],
   "source": [
    "%%sql\n",
    "SELECT DISTINCT R.A\n",
    "FROM R\n",
    "WHERE R.B = 0 OR R.B = 2;"
   ]
  },
  {
   "cell_type": "code",
   "execution_count": null,
   "metadata": {
    "collapsed": false
   },
   "outputs": [],
   "source": [
    "X = %sql SELECT DISTINCT R.A FROM R WHERE R.B = 0 OR R.B = 2;\n",
    "x = BaseRelation(X)\n",
    "\n",
    "# Your RA expression here\n",
    "y = \n",
    "render_markdown(y)\n",
    "\n",
    "# Compare results here\n",
    "compare_results(x,y)"
   ]
  },
  {
   "cell_type": "markdown",
   "metadata": {},
   "source": [
    "### Exercise 2(f)"
   ]
  },
  {
   "cell_type": "code",
   "execution_count": null,
   "metadata": {
    "collapsed": true
   },
   "outputs": [],
   "source": [
    "%%sql\n",
    "SELECT DISTINCT R.A\n",
    "FROM R\n",
    "WHERE R.B <> 2;"
   ]
  },
  {
   "cell_type": "code",
   "execution_count": null,
   "metadata": {
    "collapsed": false
   },
   "outputs": [],
   "source": [
    "X = %sql SELECT DISTINCT R.A FROM R WHERE R.B <> 2;\n",
    "x = BaseRelation(X)\n",
    "\n",
    "# Your RA expression here\n",
    "y = \n",
    "render_markdown(y)\n",
    "\n",
    "# Compare results here\n",
    "compare_results(x,y)"
   ]
  },
  {
   "cell_type": "markdown",
   "metadata": {},
   "source": [
    "### Exercise 2(g)"
   ]
  },
  {
   "cell_type": "code",
   "execution_count": null,
   "metadata": {
    "collapsed": false
   },
   "outputs": [],
   "source": [
    "%%sql\n",
    "SELECT DISTINCT R.B, U.E\n",
    "FROM R, S, T, U\n",
    "WHERE R.B = S.B AND S.C = T.C AND T.D = U.D\n",
    "  AND (S.C = 2 OR T.D = 4) AND U.D <> 2;"
   ]
  },
  {
   "cell_type": "code",
   "execution_count": null,
   "metadata": {
    "collapsed": false
   },
   "outputs": [],
   "source": [
    "X = %sql SELECT DISTINCT R.B, U.E FROM R, S, T, U WHERE R.B = S.B AND S.C = T.C AND T.D = U.D AND (S.C = 2 OR T.D = 4) AND U.D <> 2;\n",
    "x = BaseRelation(X)\n",
    "\n",
    "# Your RA expression here\n",
    "y = \n",
    "render_markdown(y)\n",
    "print get_result(y)\n",
    "\n",
    "# Compare results here\n",
    "compare_results(x,y)"
   ]
  },
  {
   "cell_type": "markdown",
   "metadata": {},
   "source": [
    "## 3: RA -> SQL\n",
    "\n",
    "Now we'll go through some examples where we'll translate Relational Algebra to SQL- note you can use the tools to debug / test your answers!\n",
    "\n"
   ]
  },
  {
   "cell_type": "markdown",
   "metadata": {},
   "source": [
    "### Exercise 3(a)"
   ]
  },
  {
   "cell_type": "code",
   "execution_count": 15,
   "metadata": {
    "collapsed": false
   },
   "outputs": [
    {
     "data": {
      "text/html": [
       "<p>$\\sigma_{B=0}$($\\Pi_{B}$(S(B,C)))</p>"
      ],
      "text/plain": [
       "<IPython.core.display.HTML object>"
      ]
     },
     "metadata": {},
     "output_type": "display_data"
    },
    {
     "name": "stdout",
     "output_type": "stream",
     "text": [
      "[(0,)]\n"
     ]
    }
   ],
   "source": [
    "x = Select(\"B\", 0, Project([\"B\"], BaseRelation(s, name=\"S\")))\n",
    "render_markdown(x)\n",
    "print get_result(x)"
   ]
  },
  {
   "cell_type": "code",
   "execution_count": null,
   "metadata": {
    "collapsed": false
   },
   "outputs": [],
   "source": [
    "%%sql\n",
    "--YOUR QUERY HERE!"
   ]
  },
  {
   "cell_type": "markdown",
   "metadata": {},
   "source": [
    "### Exercise 3(b)"
   ]
  },
  {
   "cell_type": "code",
   "execution_count": 16,
   "metadata": {
    "collapsed": false
   },
   "outputs": [
    {
     "data": {
      "text/html": [
       "<p>$\\Pi_{A,E}$($\\sigma_{A=2}$($\\sigma_{C=0}$(( R(A,B) ) $\\Join_{B}$ ( ( S(B,C) ) $\\Join_{C}$ ( ( T(C,D) ) $\\Join_{D}$ ( U(D,E) ) ) ))))</p>"
      ],
      "text/plain": [
       "<IPython.core.display.HTML object>"
      ]
     },
     "metadata": {},
     "output_type": "display_data"
    },
    {
     "name": "stdout",
     "output_type": "stream",
     "text": [
      "[(2, 0), (2, 3), (2, 4), (2, 1), (2, 2)]\n"
     ]
    }
   ],
   "source": [
    "x = Project([\"A\",\"E\"], Select(\"A\", 2, Select(\"C\", 0, NJoin(R, NJoin(S, NJoin(T,U))))))\n",
    "render_markdown(x)\n",
    "print get_result(x)"
   ]
  },
  {
   "cell_type": "code",
   "execution_count": null,
   "metadata": {
    "collapsed": false
   },
   "outputs": [],
   "source": [
    "%%sql\n",
    "--YOUR QUERY HERE!"
   ]
  },
  {
   "cell_type": "markdown",
   "metadata": {},
   "source": [
    "### Exercise 3(c)"
   ]
  },
  {
   "cell_type": "code",
   "execution_count": 17,
   "metadata": {
    "collapsed": false
   },
   "outputs": [
    {
     "data": {
      "text/html": [
       "<p>$\\Pi_{A,C}$(( ( $\\sigma_{B=0}$(R(A,B)) ) $\\Join_{B}$ ( S(B,C) ) ) $\\Join_{C}$ ( $\\sigma_{C=0}$(T(C,D)) ))</p>"
      ],
      "text/plain": [
       "<IPython.core.display.HTML object>"
      ]
     },
     "metadata": {},
     "output_type": "display_data"
    },
    {
     "name": "stdout",
     "output_type": "stream",
     "text": [
      "[(8, 0), (2, 0), (0, 0), (6, 0), (4, 0)]\n"
     ]
    }
   ],
   "source": [
    "x = Project([\"A\",\"C\"],\n",
    "        NJoin(\n",
    "            NJoin(Select(\"B\", 0, BaseRelation(r, name=\"R\")), BaseRelation(s, name=\"S\")),\n",
    "            Select(\"C\", 0, BaseRelation(t, name=\"T\"))))\n",
    "render_markdown(x)\n",
    "print get_result(x)"
   ]
  },
  {
   "cell_type": "code",
   "execution_count": null,
   "metadata": {
    "collapsed": false
   },
   "outputs": [],
   "source": [
    "%%sql\n",
    "--YOUR QUERY HERE"
   ]
  },
  {
   "cell_type": "markdown",
   "metadata": {},
   "source": [
    "### Exercise 3(d)"
   ]
  },
  {
   "cell_type": "code",
   "execution_count": 18,
   "metadata": {
    "collapsed": false
   },
   "outputs": [
    {
     "data": {
      "text/html": [
       "<p>( ( $\\sigma_{A=2}$(R(A,B)) ) $\\bigcup$ ( $\\sigma_{A=4}$(R(A,B)) ) ) $\\Join_{B}$ ( ( $\\sigma_{C=2}$(S(B,C)) ) - ( $\\sigma_{B=1}$(S(B,C)) ) )</p>"
      ],
      "text/plain": [
       "<IPython.core.display.HTML object>"
      ]
     },
     "metadata": {},
     "output_type": "display_data"
    },
    {
     "name": "stdout",
     "output_type": "stream",
     "text": [
      "[(2, 0, 2), (4, 0, 2)]\n"
     ]
    }
   ],
   "source": [
    "x = NJoin(Union(Select(\"A\",2,R), Select(\"A\",4,R)), Difference(Select(\"C\",2,S), Select(\"B\",1,S)))\n",
    "render_markdown(x)\n",
    "print get_result(x)"
   ]
  },
  {
   "cell_type": "code",
   "execution_count": null,
   "metadata": {
    "collapsed": false
   },
   "outputs": [],
   "source": [
    "%%sql\n",
    "--YOUR QUERY HERE"
   ]
  },
  {
   "cell_type": "markdown",
   "metadata": {},
   "source": [
    "## 4. Optimization of RA Expressions\n",
    "\n",
    "In this section, we'll optimize RA expressions, i.e. reduce the total IO cost of executing them.\n",
    "\n",
    "**In these exercises, re-write the RA expressions and then test their costs using the `cost_markdown` function**\n",
    "\n",
    "_Note that the execution will usually be done in the most naive way possible (for example, the tuple nested loop join is used for `NJoin`); however this doesn't affect our optimization decisions_"
   ]
  },
  {
   "cell_type": "markdown",
   "metadata": {},
   "source": [
    "### Exercise 4(a)"
   ]
  },
  {
   "cell_type": "code",
   "execution_count": 19,
   "metadata": {
    "collapsed": false
   },
   "outputs": [
    {
     "data": {
      "text/html": [
       "<p>$\\Pi_{D}$(( T(C,D) ) $\\Join_{D}$ ( U(D,E) ))</p>"
      ],
      "text/plain": [
       "<IPython.core.display.HTML object>"
      ]
     },
     "metadata": {},
     "output_type": "display_data"
    },
    {
     "data": {
      "text/html": [
       "<p>Total Reads: 775</p>\n",
       "<ul>\n",
       "<li>$\\Pi_{['D']}$ [tuples read in: 125 out: 5]<ul>\n",
       "<li>$\\Join_{D}$ [tuples read in: 650 out: 125]<ul>\n",
       "<li>T(C,D) has 25 tuples </li>\n",
       "<li>U(D,E) has 25 tuples </li>\n",
       "</ul>\n",
       "</li>\n",
       "</ul>\n",
       "</li>\n",
       "</ul>"
      ],
      "text/plain": [
       "<IPython.core.display.HTML object>"
      ]
     },
     "metadata": {},
     "output_type": "display_data"
    }
   ],
   "source": [
    "x = Project([\"D\"], NJoin(T,U))\n",
    "render_markdown(x)\n",
    "cost_markdown(x)"
   ]
  },
  {
   "cell_type": "code",
   "execution_count": null,
   "metadata": {
    "collapsed": false
   },
   "outputs": [],
   "source": [
    "# Your more IO-efficient RA expression here:\n",
    "y = \n",
    "\n",
    "# Print & compare\n",
    "render_markdown(y)\n",
    "print compare_results(x,y)\n",
    "cost_markdown(y)"
   ]
  },
  {
   "cell_type": "markdown",
   "metadata": {},
   "source": [
    "### Exercise 4(b)"
   ]
  },
  {
   "cell_type": "code",
   "execution_count": 20,
   "metadata": {
    "collapsed": false
   },
   "outputs": [
    {
     "data": {
      "text/html": [
       "<p>$\\sigma_{A=2}$($\\Pi_{A,C}$(( R(A,B) ) $\\Join_{B}$ ( S(B,C) )))</p>"
      ],
      "text/plain": [
       "<IPython.core.display.HTML object>"
      ]
     },
     "metadata": {},
     "output_type": "display_data"
    },
    {
     "data": {
      "text/html": [
       "<p>Total Reads: 570</p>\n",
       "<ul>\n",
       "<li>$\\sigma_{A=2}$ [tuples read in: 25 out: 5]<ul>\n",
       "<li>$\\Pi_{['A', 'C']}$ [tuples read in: 25 out: 25]<ul>\n",
       "<li>$\\Join_{B}$ [tuples read in: 520 out: 25]<ul>\n",
       "<li>R(A,B) has 20 tuples </li>\n",
       "<li>S(B,C) has 25 tuples </li>\n",
       "</ul>\n",
       "</li>\n",
       "</ul>\n",
       "</li>\n",
       "</ul>\n",
       "</li>\n",
       "</ul>"
      ],
      "text/plain": [
       "<IPython.core.display.HTML object>"
      ]
     },
     "metadata": {},
     "output_type": "display_data"
    }
   ],
   "source": [
    "x = Select(\"A\", 2, Project([\"A\",\"C\"], NJoin(R,S)))\n",
    "render_markdown(x)\n",
    "cost_markdown(x)"
   ]
  },
  {
   "cell_type": "code",
   "execution_count": null,
   "metadata": {
    "collapsed": false
   },
   "outputs": [],
   "source": [
    "# Your more IO-efficient RA expression here:\n",
    "y = \n",
    "\n",
    "# Print & compare\n",
    "render_markdown(y)\n",
    "print compare_results(x,y)\n",
    "cost_markdown(y)"
   ]
  },
  {
   "cell_type": "markdown",
   "metadata": {},
   "source": [
    "### Exercise 4(c)"
   ]
  },
  {
   "cell_type": "code",
   "execution_count": 21,
   "metadata": {
    "collapsed": false
   },
   "outputs": [
    {
     "data": {
      "text/html": [
       "<p>$\\sigma_{C=0}$($\\Pi_{A,C}$($\\sigma_{B=0}$(( ( R(A,B) ) $\\Join_{B}$ ( S(B,C) ) ) $\\Join_{C}$ ( T(C,D) ))))</p>"
      ],
      "text/plain": [
       "<IPython.core.display.HTML object>"
      ]
     },
     "metadata": {},
     "output_type": "display_data"
    },
    {
     "data": {
      "text/html": [
       "<p>Total Reads: 1335</p>\n",
       "<ul>\n",
       "<li>$\\sigma_{C=0}$ [tuples read in: 15 out: 5]<ul>\n",
       "<li>$\\Pi_{['A', 'C']}$ [tuples read in: 75 out: 15]<ul>\n",
       "<li>$\\sigma_{B=0}$ [tuples read in: 75 out: 75]<ul>\n",
       "<li>$\\Join_{C}$ [tuples read in: 650 out: 75]<ul>\n",
       "<li>$\\Join_{B}$ [tuples read in: 520 out: 25]<ul>\n",
       "<li>R(A,B) has 20 tuples </li>\n",
       "<li>S(B,C) has 25 tuples </li>\n",
       "</ul>\n",
       "</li>\n",
       "<li>T(C,D) has 25 tuples </li>\n",
       "</ul>\n",
       "</li>\n",
       "</ul>\n",
       "</li>\n",
       "</ul>\n",
       "</li>\n",
       "</ul>\n",
       "</li>\n",
       "</ul>"
      ],
      "text/plain": [
       "<IPython.core.display.HTML object>"
      ]
     },
     "metadata": {},
     "output_type": "display_data"
    }
   ],
   "source": [
    "x = Select(\"C\", 0, Project([\"A\",\"C\"], Select(\"B\", 0, NJoin(NJoin(R, S), T))))\n",
    "render_markdown(x)\n",
    "cost_markdown(x)"
   ]
  },
  {
   "cell_type": "code",
   "execution_count": null,
   "metadata": {
    "collapsed": false
   },
   "outputs": [],
   "source": [
    "# Your more IO-efficient RA expression here:\n",
    "y = \n",
    "\n",
    "# Print & compare\n",
    "render_markdown(y)\n",
    "print compare_results(x,y)\n",
    "cost_markdown(y)"
   ]
  },
  {
   "cell_type": "markdown",
   "metadata": {},
   "source": [
    "### Exercise 4(d)"
   ]
  },
  {
   "cell_type": "code",
   "execution_count": 22,
   "metadata": {
    "collapsed": false
   },
   "outputs": [
    {
     "data": {
      "text/html": [
       "<p>$\\sigma_{C=0}$($\\Pi_{C}$($\\sigma_{D=2}$($\\sigma_{A=3}$(( R(A,B) ) $\\Join_{B}$ ( ( S(B,C) ) $\\Join_{C}$ ( T(C,D) ) )))))</p>"
      ],
      "text/plain": [
       "<IPython.core.display.HTML object>"
      ]
     },
     "metadata": {},
     "output_type": "display_data"
    },
    {
     "data": {
      "text/html": [
       "<p>Total Reads: 14595</p>\n",
       "<ul>\n",
       "<li>$\\sigma_{C=0}$ [tuples read in: 0 out: 0]<ul>\n",
       "<li>$\\Pi_{['C']}$ [tuples read in: 0 out: 0]<ul>\n",
       "<li>$\\sigma_{D=2}$ [tuples read in: 0 out: 0]<ul>\n",
       "<li>$\\sigma_{A=3}$ [tuples read in: 75 out: 0]<ul>\n",
       "<li>$\\Join_{B}$ [tuples read in: 1520 out: 75]<ul>\n",
       "<li>R(A,B) has 20 tuples </li>\n",
       "<li>$\\Join_{C}$ [tuples read in: 13000 out: 1500]<ul>\n",
       "<li>S(B,C) has 25 tuples </li>\n",
       "<li>T(C,D) has 25 tuples </li>\n",
       "</ul>\n",
       "</li>\n",
       "</ul>\n",
       "</li>\n",
       "</ul>\n",
       "</li>\n",
       "</ul>\n",
       "</li>\n",
       "</ul>\n",
       "</li>\n",
       "</ul>\n",
       "</li>\n",
       "</ul>"
      ],
      "text/plain": [
       "<IPython.core.display.HTML object>"
      ]
     },
     "metadata": {},
     "output_type": "display_data"
    }
   ],
   "source": [
    "x = Select(\"C\", 0, Project([\"C\"], Select(\"D\", 2, Select(\"A\",3,NJoin(R,NJoin(S,T))))))\n",
    "render_markdown(x)\n",
    "cost_markdown(x)"
   ]
  },
  {
   "cell_type": "code",
   "execution_count": null,
   "metadata": {
    "collapsed": false
   },
   "outputs": [],
   "source": [
    "# Your more IO-efficient RA expression here:\n",
    "y = \n",
    "\n",
    "# Print & compare\n",
    "render_markdown(y)\n",
    "print compare_results(x,y)\n",
    "cost_markdown(y)"
   ]
  }
 ],
 "metadata": {
  "kernelspec": {
   "display_name": "Python 2",
   "language": "python",
   "name": "python2"
  },
  "language_info": {
   "codemirror_mode": {
    "name": "ipython",
    "version": 2
   },
   "file_extension": ".py",
   "mimetype": "text/x-python",
   "name": "python",
   "nbconvert_exporter": "python",
   "pygments_lexer": "ipython2",
   "version": "2.7.10"
  }
 },
 "nbformat": 4,
 "nbformat_minor": 0
}
