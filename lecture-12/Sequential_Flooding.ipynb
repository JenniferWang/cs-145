{
 "cells": [
  {
   "cell_type": "code",
   "execution_count": null,
   "metadata": {
    "collapsed": false
   },
   "outputs": [],
   "source": [
    "%load_ext autoreload\n",
    "%autoreload 2\n",
    "import io_backend as io"
   ]
  },
  {
   "cell_type": "markdown",
   "metadata": {},
   "source": [
    "**Note: this notebook requires `io_backend.py` and `compModel.js` to be in the same directory**"
   ]
  },
  {
   "cell_type": "markdown",
   "metadata": {},
   "source": [
    "Sequential Flooding: An example of better buffer management\n",
    "--------------------------------------------------------\n",
    "\n",
    "A _buffer manager_ is a system to handle operations supporting the buffer\n",
    "* For example, a buffer manager should handle **eviction** of pages from the buffer when space needs to be freed up for reading in new pages.\n",
    "\n",
    "In general the OS has a built-in buffer manager; however, most DBMSs implement their own.  *Why?*"
   ]
  },
  {
   "cell_type": "markdown",
   "metadata": {},
   "source": [
    "**Key concept:** Often, a DBMS can potentially implement *more efficient* buffer management since it knows what operations it is carrying out."
   ]
  },
  {
   "cell_type": "markdown",
   "metadata": {},
   "source": [
    "**Example: _Sequential flooding_**\n",
    "\n",
    "In many situations a DBMS will want to loop over an (ordered) list of pages repeatedly (for example, when carrying out a *join*- see next lectures).\n",
    "\n",
    "In general, most OS buffer managers will have a **least recently used (LRU)** eviction policy, which means that the least recently used page\\* will be evicted if more space is needed in the buffer.\n",
    "\n",
    "\\* *[Note: here we define \"used\" to mean any sort of action involving the page, for simplicty!]*\n",
    "\n",
    "Let's see what happens under this policy when we have a buffer of size $B$ and want to loop over $B+1$ pages $M$ times:"
   ]
  },
  {
   "cell_type": "code",
   "execution_count": null,
   "metadata": {
    "collapsed": false,
    "scrolled": true
   },
   "outputs": [],
   "source": [
    "# Create pages & flush to disk\n",
    "# NOTE: set display mark so that we don't bother displaying this\n",
    "def init_pages(b, n_pages):\n",
    "    file_id = b.new_file()\n",
    "    for i in range(n_pages):\n",
    "        page = b.new_page(file_id)\n",
    "        b.flush(page)\n",
    "    b.display_set_mark()\n",
    "    return file_id\n",
    "\n",
    "# Loop through one iteration of the file, highlighting the LRU/MRU page\n",
    "def get_next_page(b, fid, pid, eviction_method='LRU'):\n",
    "    try:\n",
    "        page = b.read(fid, pid)\n",
    "    except io.BufferMemoryException:\n",
    "        old_page, old_buffer_idx = b.get_buffer_page(eviction_method)\n",
    "        b.release(old_page)\n",
    "        page = b.read(fid, pid)\n",
    "    return page"
   ]
  },
  {
   "cell_type": "markdown",
   "metadata": {},
   "source": [
    "We will do the following $M$ times:\n",
    "* For $i$ in range $B+1$:\n",
    "    * If page $i$ is already in buffer, read from buffer (*fast!*)\n",
    "    * Else:\n",
    "        * If buffer **is full**:\n",
    "            * **Evict**- i.e. flush to disk- the LRU page (*slow!*)\n",
    "        * Read page $i$ from disk -> buffer (*slow!*), then read from buffer"
   ]
  },
  {
   "cell_type": "code",
   "execution_count": null,
   "metadata": {
    "collapsed": false
   },
   "outputs": [],
   "source": [
    "EVICTION_METHOD = 'LRU'\n",
    "BUFFER_SIZE = 3\n",
    "N_PAGES = BUFFER_SIZE + 1\n",
    "M = 3\n",
    "\n",
    "# Initialize buffer\n",
    "b = io.Buffer(buffer_size=BUFFER_SIZE, page_size=1, buffer_queue_indicator=EVICTION_METHOD)\n",
    "file_id = init_pages(b, N_PAGES)\n",
    "\n",
    "# Do M ordered passes over the N pages\n",
    "for i in range(M):\n",
    "    for pid in range(N_PAGES):\n",
    "        page = get_next_page(b, file_id, pid, eviction_method=EVICTION_METHOD)"
   ]
  },
  {
   "cell_type": "markdown",
   "metadata": {},
   "source": [
    "Can you see what happens?"
   ]
  },
  {
   "cell_type": "code",
   "execution_count": null,
   "metadata": {
    "collapsed": false
   },
   "outputs": [],
   "source": [
    "# Visualize what we just did\n",
    "b.display(speed=1000)"
   ]
  },
  {
   "cell_type": "markdown",
   "metadata": {},
   "source": [
    "We see that the problem in our example above is that, once the buffer is full, **the LRU page which we evict is always _exactly the page we are going to want to read next!_**  Thus, we end up having to read in a page from disk _for every page we read from the buffer_.  This seems like an incredibly pointless use of a buffer!\n",
    "\n",
    "What happens if $N > B+1$?  Play around with the demo above to see!"
   ]
  },
  {
   "cell_type": "markdown",
   "metadata": {},
   "source": [
    "We see that with LRU eviction, looping through pages is $O(M*N)$ in terms of disk IO **for all $N>B$**\n",
    "\n",
    "What happens on the other hand if we use a **most recently used (MRU)** eviction policy?"
   ]
  },
  {
   "cell_type": "code",
   "execution_count": null,
   "metadata": {
    "collapsed": false
   },
   "outputs": [],
   "source": [
    "EVICTION_METHOD = 'MRU'\n",
    "BUFFER_SIZE = 3\n",
    "N_PAGES = BUFFER_SIZE + 1\n",
    "M = 3\n",
    "\n",
    "# Initialize buffer\n",
    "b = io.Buffer(buffer_size=BUFFER_SIZE, page_size=1, buffer_queue_indicator=EVICTION_METHOD)\n",
    "file_id = init_pages(b, N_PAGES)\n",
    "\n",
    "# Do M ordered passes over the N pages\n",
    "for i in range(M):\n",
    "    for pid in range(N_PAGES):\n",
    "        page = get_next_page(b, file_id, pid, eviction_method=EVICTION_METHOD)\n",
    "        \n",
    "# Visualize what we just did- note that a different buffer_num must be specified so it displays in own pane!\n",
    "b.display(speed=1000, buffer_num=1)"
   ]
  },
  {
   "cell_type": "markdown",
   "metadata": {
    "collapsed": true
   },
   "source": [
    "Note that we have _the same number of reads from buffer_ as with LRU- indicating that we read in the same data- but **half the reads from disk!**\n",
    "\n",
    "This is now $O(M+N-1)$ for $N=B+1$,\n",
    "\n",
    "and $O((N-B)*(M-1) + N) \\approx O((N-B)*M)$ in general for all $N>B$ (can you explain why?)\n",
    "\n",
    "I.e. for some fixed $N$ and $B$, there is **a factor of $B*M$ difference in performance!**"
   ]
  },
  {
   "cell_type": "code",
   "execution_count": null,
   "metadata": {
    "collapsed": false,
    "scrolled": true
   },
   "outputs": [],
   "source": [
    "%matplotlib inline\n",
    "import matplotlib.pyplot as plt\n",
    "M = range(1,100)\n",
    "B = 3\n",
    "N = B + 1\n",
    "plt.plot(M, map(lambda m : m*N if N > B else N, M))\n",
    "plt.plot(M, map(lambda m : (N-B)*(m-1) + N if N > B else N, M))\n",
    "plt.show()"
   ]
  }
 ],
 "metadata": {
  "kernelspec": {
   "display_name": "Python 2",
   "language": "python",
   "name": "python2"
  },
  "language_info": {
   "codemirror_mode": {
    "name": "ipython",
    "version": 2
   },
   "file_extension": ".py",
   "mimetype": "text/x-python",
   "name": "python",
   "nbconvert_exporter": "python",
   "pygments_lexer": "ipython2",
   "version": "2.7.10"
  }
 },
 "nbformat": 4,
 "nbformat_minor": 0
}
