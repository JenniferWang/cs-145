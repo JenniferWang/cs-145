{
 "cells": [
  {
   "cell_type": "code",
   "execution_count": 8,
   "metadata": {
    "collapsed": false,
    "slideshow": {
     "slide_type": "slide"
    }
   },
   "outputs": [
    {
     "name": "stdout",
     "output_type": "stream",
     "text": [
      "The sql extension is already loaded. To reload it, use:\n",
      "  %reload_ext sql\n",
      "Done.\n",
      "Done.\n"
     ]
    },
    {
     "data": {
      "text/plain": [
       "[]"
      ]
     },
     "execution_count": 8,
     "metadata": {},
     "output_type": "execute_result"
    }
   ],
   "source": [
    "%load_ext sql\n",
    "%sql sqlite:///complaint.db\n",
    "import time\n",
    "%sql drop index if exists helpful_index;\n",
    "%sql analyze"
   ]
  },
  {
   "cell_type": "markdown",
   "metadata": {
    "slideshow": {
     "slide_type": "slide"
    }
   },
   "source": [
    "Activity 13: Indexes\n",
    "===========\n",
    "\n",
    "Let's play with the [consumer complaint database](https://catalog.data.gov/dataset/consumer-complaint-database) from data.gov"
   ]
  },
  {
   "cell_type": "code",
   "execution_count": 9,
   "metadata": {
    "collapsed": false,
    "slideshow": {
     "slide_type": "slide"
    }
   },
   "outputs": [
    {
     "name": "stdout",
     "output_type": "stream",
     "text": [
      "Done.\n"
     ]
    },
    {
     "data": {
      "text/html": [
       "<table>\n",
       "    <tr>\n",
       "        <th>count(*)</th>\n",
       "    </tr>\n",
       "    <tr>\n",
       "        <td>471871</td>\n",
       "    </tr>\n",
       "</table>"
      ],
      "text/plain": [
       "[(471871,)]"
      ]
     },
     "execution_count": 9,
     "metadata": {},
     "output_type": "execute_result"
    }
   ],
   "source": [
    "%sql select count(*) from complaints;"
   ]
  },
  {
   "cell_type": "code",
   "execution_count": 10,
   "metadata": {
    "collapsed": false,
    "slideshow": {
     "slide_type": "slide"
    }
   },
   "outputs": [
    {
     "name": "stdout",
     "output_type": "stream",
     "text": [
      "Done.\n"
     ]
    },
    {
     "data": {
      "text/html": [
       "<table>\n",
       "    <tr>\n",
       "        <th>Date_received</th>\n",
       "        <th>Product</th>\n",
       "        <th>Subproduct</th>\n",
       "        <th>Issue</th>\n",
       "        <th>Subissue</th>\n",
       "        <th>Consumer_narrative</th>\n",
       "        <th>Company_public_response</th>\n",
       "        <th>Company</th>\n",
       "        <th>State</th>\n",
       "        <th>ZIP_code</th>\n",
       "        <th>Submitted_via</th>\n",
       "        <th>Date_sent_to_company</th>\n",
       "        <th>Company_response</th>\n",
       "        <th>Timely_response</th>\n",
       "        <th>Consumer_disputed</th>\n",
       "        <th>Complaint_ID</th>\n",
       "    </tr>\n",
       "    <tr>\n",
       "        <td>10/28/2015</td>\n",
       "        <td>Debt collection</td>\n",
       "        <td>Other (phone, health club, etc.)</td>\n",
       "        <td>Cont'd attempts collect debt not owed</td>\n",
       "        <td>Debt was paid</td>\n",
       "        <td></td>\n",
       "        <td>Company believes it acted appropriately as authorized by contract or law</td>\n",
       "        <td>First National Collection Bureau, Inc.</td>\n",
       "        <td>CO</td>\n",
       "        <td>810XX</td>\n",
       "        <td>Web</td>\n",
       "        <td>10/28/2015</td>\n",
       "        <td>Closed with explanation</td>\n",
       "        <td>Yes</td>\n",
       "        <td></td>\n",
       "        <td>1629130</td>\n",
       "    </tr>\n",
       "    <tr>\n",
       "        <td>10/28/2015</td>\n",
       "        <td>Credit reporting</td>\n",
       "        <td></td>\n",
       "        <td>Incorrect information on credit report</td>\n",
       "        <td>Public record</td>\n",
       "        <td></td>\n",
       "        <td>Company chooses not to provide a public response</td>\n",
       "        <td>FNIS (Fidelity National Information Services, Inc.)</td>\n",
       "        <td>MI</td>\n",
       "        <td>48334</td>\n",
       "        <td>Web</td>\n",
       "        <td>10/28/2015</td>\n",
       "        <td>Closed with explanation</td>\n",
       "        <td>Yes</td>\n",
       "        <td></td>\n",
       "        <td>1628785</td>\n",
       "    </tr>\n",
       "    <tr>\n",
       "        <td>10/28/2015</td>\n",
       "        <td>Money transfers</td>\n",
       "        <td>International money transfer</td>\n",
       "        <td>Fraud or scam</td>\n",
       "        <td></td>\n",
       "        <td></td>\n",
       "        <td></td>\n",
       "        <td>Navy FCU</td>\n",
       "        <td>VA</td>\n",
       "        <td>221XX</td>\n",
       "        <td>Web</td>\n",
       "        <td>10/28/2015</td>\n",
       "        <td>In progress</td>\n",
       "        <td>Yes</td>\n",
       "        <td></td>\n",
       "        <td>1629655</td>\n",
       "    </tr>\n",
       "    <tr>\n",
       "        <td>10/28/2015</td>\n",
       "        <td>Debt collection</td>\n",
       "        <td></td>\n",
       "        <td>Cont'd attempts collect debt not owed</td>\n",
       "        <td>Debt is not mine</td>\n",
       "        <td></td>\n",
       "        <td></td>\n",
       "        <td>EOS Holdings, Inc.</td>\n",
       "        <td>FL</td>\n",
       "        <td>321XX</td>\n",
       "        <td>Web</td>\n",
       "        <td>10/28/2015</td>\n",
       "        <td>Closed with explanation</td>\n",
       "        <td>Yes</td>\n",
       "        <td>Yes</td>\n",
       "        <td>1629306</td>\n",
       "    </tr>\n",
       "    <tr>\n",
       "        <td>10/28/2015</td>\n",
       "        <td>Debt collection</td>\n",
       "        <td>Medical</td>\n",
       "        <td>Cont'd attempts collect debt not owed</td>\n",
       "        <td>Debt was paid</td>\n",
       "        <td></td>\n",
       "        <td></td>\n",
       "        <td>Transworld Systems Inc.</td>\n",
       "        <td>CA</td>\n",
       "        <td>961XX</td>\n",
       "        <td>Web</td>\n",
       "        <td>10/28/2015</td>\n",
       "        <td>In progress</td>\n",
       "        <td>Yes</td>\n",
       "        <td></td>\n",
       "        <td>1629407</td>\n",
       "    </tr>\n",
       "</table>"
      ],
      "text/plain": [
       "[(u'10/28/2015', u'Debt collection', u'Other (phone, health club, etc.)', u\"Cont'd attempts collect debt not owed\", u'Debt was paid', u'', u'Company believes it acted appropriately as authorized by contract or law', u'First National Collection Bureau, Inc.', u'CO', u'810XX', u'Web', u'10/28/2015', u'Closed with explanation', u'Yes', u'', u'1629130'),\n",
       " (u'10/28/2015', u'Credit reporting', u'', u'Incorrect information on credit report', u'Public record', u'', u'Company chooses not to provide a public response', u'FNIS (Fidelity National Information Services, Inc.)', u'MI', u'48334', u'Web', u'10/28/2015', u'Closed with explanation', u'Yes', u'', u'1628785'),\n",
       " (u'10/28/2015', u'Money transfers', u'International money transfer', u'Fraud or scam', u'', u'', u'', u'Navy FCU', u'VA', u'221XX', u'Web', u'10/28/2015', u'In progress', u'Yes', u'', u'1629655'),\n",
       " (u'10/28/2015', u'Debt collection', u'', u\"Cont'd attempts collect debt not owed\", u'Debt is not mine', u'', u'', u'EOS Holdings, Inc.', u'FL', u'321XX', u'Web', u'10/28/2015', u'Closed with explanation', u'Yes', u'Yes', u'1629306'),\n",
       " (u'10/28/2015', u'Debt collection', u'Medical', u\"Cont'd attempts collect debt not owed\", u'Debt was paid', u'', u'', u'Transworld Systems Inc.', u'CA', u'961XX', u'Web', u'10/28/2015', u'In progress', u'Yes', u'', u'1629407')]"
      ]
     },
     "execution_count": 10,
     "metadata": {},
     "output_type": "execute_result"
    }
   ],
   "source": [
    "%sql select * from complaints limit 5;"
   ]
  },
  {
   "cell_type": "markdown",
   "metadata": {},
   "source": [
    "### Exercise 1: Query without an index\n",
    "\n",
    "First, let's start off by writing a query to find the **counts of the top 5 Product, State pairs** in the complaints database (return the product and state as well as the count).  Use the single-line syntax for simple timing so we can see how long the query takes:"
   ]
  },
  {
   "cell_type": "code",
   "execution_count": 11,
   "metadata": {
    "collapsed": false
   },
   "outputs": [
    {
     "name": "stdout",
     "output_type": "stream",
     "text": [
      "Done.\n",
      "CPU times: user 791 ms, sys: 78.3 ms, total: 869 ms\n",
      "Wall time: 888 ms\n"
     ]
    },
    {
     "data": {
      "text/html": [
       "<table>\n",
       "    <tr>\n",
       "        <th>Product</th>\n",
       "        <th>State</th>\n",
       "        <th>c</th>\n",
       "    </tr>\n",
       "    <tr>\n",
       "        <td>Mortgage</td>\n",
       "        <td>CA</td>\n",
       "        <td>29434</td>\n",
       "    </tr>\n",
       "    <tr>\n",
       "        <td>Mortgage</td>\n",
       "        <td>FL</td>\n",
       "        <td>18659</td>\n",
       "    </tr>\n",
       "    <tr>\n",
       "        <td>Debt collection</td>\n",
       "        <td>CA</td>\n",
       "        <td>11066</td>\n",
       "    </tr>\n",
       "    <tr>\n",
       "        <td>Mortgage</td>\n",
       "        <td>NY</td>\n",
       "        <td>10002</td>\n",
       "    </tr>\n",
       "    <tr>\n",
       "        <td>Credit reporting</td>\n",
       "        <td>CA</td>\n",
       "        <td>9402</td>\n",
       "    </tr>\n",
       "</table>"
      ],
      "text/plain": [
       "[(u'Mortgage', u'CA', 29434),\n",
       " (u'Mortgage', u'FL', 18659),\n",
       " (u'Debt collection', u'CA', 11066),\n",
       " (u'Mortgage', u'NY', 10002),\n",
       " (u'Credit reporting', u'CA', 9402)]"
      ]
     },
     "execution_count": 11,
     "metadata": {},
     "output_type": "execute_result"
    }
   ],
   "source": [
    "%time %sql SELECT product, state, count(*) AS c FROM complaints GROUP BY product, state ORDER BY c DESC LIMIT 5;"
   ]
  },
  {
   "cell_type": "markdown",
   "metadata": {},
   "source": [
    "### Exerise 2: Single search key index\n",
    "\n",
    "Now create a _single-key_ index such that the above query is faster!  The syntax to create an index in SQL is:\n",
    "> DROP INDEX IF EXISTS index_name;\n",
    "> CREATE INDEX index_name ON table(attributes);"
   ]
  },
  {
   "cell_type": "code",
   "execution_count": 12,
   "metadata": {
    "collapsed": false
   },
   "outputs": [
    {
     "name": "stdout",
     "output_type": "stream",
     "text": [
      "Done.\n",
      "Done.\n"
     ]
    },
    {
     "data": {
      "text/plain": [
       "[]"
      ]
     },
     "execution_count": 12,
     "metadata": {},
     "output_type": "execute_result"
    }
   ],
   "source": [
    "%%sql\n",
    "DROP INDEX IF EXISTS state_index;\n",
    "CREATE INDEX state_index ON complaints(state);"
   ]
  },
  {
   "cell_type": "code",
   "execution_count": 13,
   "metadata": {
    "collapsed": false
   },
   "outputs": [
    {
     "name": "stdout",
     "output_type": "stream",
     "text": [
      "Done.\n",
      "CPU times: user 791 ms, sys: 71.9 ms, total: 862 ms\n",
      "Wall time: 879 ms\n"
     ]
    },
    {
     "data": {
      "text/html": [
       "<table>\n",
       "    <tr>\n",
       "        <th>Product</th>\n",
       "        <th>State</th>\n",
       "        <th>c</th>\n",
       "    </tr>\n",
       "    <tr>\n",
       "        <td>Mortgage</td>\n",
       "        <td>CA</td>\n",
       "        <td>29434</td>\n",
       "    </tr>\n",
       "    <tr>\n",
       "        <td>Mortgage</td>\n",
       "        <td>FL</td>\n",
       "        <td>18659</td>\n",
       "    </tr>\n",
       "    <tr>\n",
       "        <td>Debt collection</td>\n",
       "        <td>CA</td>\n",
       "        <td>11066</td>\n",
       "    </tr>\n",
       "    <tr>\n",
       "        <td>Mortgage</td>\n",
       "        <td>NY</td>\n",
       "        <td>10002</td>\n",
       "    </tr>\n",
       "    <tr>\n",
       "        <td>Credit reporting</td>\n",
       "        <td>CA</td>\n",
       "        <td>9402</td>\n",
       "    </tr>\n",
       "</table>"
      ],
      "text/plain": [
       "[(u'Mortgage', u'CA', 29434),\n",
       " (u'Mortgage', u'FL', 18659),\n",
       " (u'Debt collection', u'CA', 11066),\n",
       " (u'Mortgage', u'NY', 10002),\n",
       " (u'Credit reporting', u'CA', 9402)]"
      ]
     },
     "execution_count": 13,
     "metadata": {},
     "output_type": "execute_result"
    }
   ],
   "source": [
    "%time %sql SELECT product, state, count(*) AS c FROM complaints GROUP BY product, state ORDER BY c DESC LIMIT 5;"
   ]
  },
  {
   "cell_type": "markdown",
   "metadata": {},
   "source": [
    "### Exercise 3\n",
    "\n",
    "Now, create a _covering_ index for the query and then see how long it takes to run!"
   ]
  },
  {
   "cell_type": "code",
   "execution_count": 14,
   "metadata": {
    "collapsed": false
   },
   "outputs": [
    {
     "name": "stdout",
     "output_type": "stream",
     "text": [
      "Done.\n",
      "Done.\n"
     ]
    },
    {
     "data": {
      "text/plain": [
       "[]"
      ]
     },
     "execution_count": 14,
     "metadata": {},
     "output_type": "execute_result"
    }
   ],
   "source": [
    "%%sql\n",
    "DROP INDEX IF EXISTS state_product_index;\n",
    "CREATE INDEX state_product_index ON complaints(state, product);"
   ]
  },
  {
   "cell_type": "code",
   "execution_count": 15,
   "metadata": {
    "collapsed": false
   },
   "outputs": [
    {
     "name": "stdout",
     "output_type": "stream",
     "text": [
      "Done.\n",
      "CPU times: user 110 ms, sys: 6.58 ms, total: 117 ms\n",
      "Wall time: 116 ms\n"
     ]
    },
    {
     "data": {
      "text/html": [
       "<table>\n",
       "    <tr>\n",
       "        <th>Product</th>\n",
       "        <th>State</th>\n",
       "        <th>c</th>\n",
       "    </tr>\n",
       "    <tr>\n",
       "        <td>Mortgage</td>\n",
       "        <td>CA</td>\n",
       "        <td>29434</td>\n",
       "    </tr>\n",
       "    <tr>\n",
       "        <td>Mortgage</td>\n",
       "        <td>FL</td>\n",
       "        <td>18659</td>\n",
       "    </tr>\n",
       "    <tr>\n",
       "        <td>Debt collection</td>\n",
       "        <td>CA</td>\n",
       "        <td>11066</td>\n",
       "    </tr>\n",
       "    <tr>\n",
       "        <td>Mortgage</td>\n",
       "        <td>NY</td>\n",
       "        <td>10002</td>\n",
       "    </tr>\n",
       "    <tr>\n",
       "        <td>Credit reporting</td>\n",
       "        <td>CA</td>\n",
       "        <td>9402</td>\n",
       "    </tr>\n",
       "</table>"
      ],
      "text/plain": [
       "[(u'Mortgage', u'CA', 29434),\n",
       " (u'Mortgage', u'FL', 18659),\n",
       " (u'Debt collection', u'CA', 11066),\n",
       " (u'Mortgage', u'NY', 10002),\n",
       " (u'Credit reporting', u'CA', 9402)]"
      ]
     },
     "execution_count": 15,
     "metadata": {},
     "output_type": "execute_result"
    }
   ],
   "source": [
    "%time %sql SELECT product, state, count(*) AS c FROM complaints GROUP BY product, state ORDER BY c DESC LIMIT 5;"
   ]
  },
  {
   "cell_type": "markdown",
   "metadata": {},
   "source": [
    "### Exercise 3(b):\n",
    "\n",
    "Use EXPLAIN to see if sqlite used/recognized your covering index.  EXPLAIN is an operator that tells SQL to explain its query plan... we'll look into this in more depth later.  For now, the syntax is:\n",
    "> EXPLAIN QUERY PLAN your_query_here;"
   ]
  },
  {
   "cell_type": "code",
   "execution_count": 16,
   "metadata": {
    "collapsed": false
   },
   "outputs": [
    {
     "name": "stdout",
     "output_type": "stream",
     "text": [
      "Done.\n"
     ]
    },
    {
     "data": {
      "text/html": [
       "<table>\n",
       "    <tr>\n",
       "        <th>selectid</th>\n",
       "        <th>order</th>\n",
       "        <th>from</th>\n",
       "        <th>detail</th>\n",
       "    </tr>\n",
       "    <tr>\n",
       "        <td>0</td>\n",
       "        <td>0</td>\n",
       "        <td>0</td>\n",
       "        <td>SCAN TABLE complaints USING COVERING INDEX state_product_index</td>\n",
       "    </tr>\n",
       "    <tr>\n",
       "        <td>0</td>\n",
       "        <td>0</td>\n",
       "        <td>0</td>\n",
       "        <td>USE TEMP B-TREE FOR ORDER BY</td>\n",
       "    </tr>\n",
       "</table>"
      ],
      "text/plain": [
       "[(0, 0, 0, u'SCAN TABLE complaints USING COVERING INDEX state_product_index'),\n",
       " (0, 0, 0, u'USE TEMP B-TREE FOR ORDER BY')]"
      ]
     },
     "execution_count": 16,
     "metadata": {},
     "output_type": "execute_result"
    }
   ],
   "source": [
    "%%sql\n",
    "EXPLAIN QUERY PLAN\n",
    "SELECT product, state, count(*) AS c\n",
    "FROM complaints\n",
    "GROUP BY product, state ORDER BY c DESC LIMIT 5;"
   ]
  }
 ],
 "metadata": {
  "kernelspec": {
   "display_name": "Python 2",
   "language": "python",
   "name": "python2"
  },
  "language_info": {
   "codemirror_mode": {
    "name": "ipython",
    "version": 2
   },
   "file_extension": ".py",
   "mimetype": "text/x-python",
   "name": "python",
   "nbconvert_exporter": "python",
   "pygments_lexer": "ipython2",
   "version": "2.7.10"
  }
 },
 "nbformat": 4,
 "nbformat_minor": 0
}
